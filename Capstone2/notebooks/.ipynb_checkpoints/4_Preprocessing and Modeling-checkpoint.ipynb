{
 "cells": [
  {
   "cell_type": "code",
   "execution_count": 1,
   "id": "ef62f90d",
   "metadata": {},
   "outputs": [],
   "source": [
    "import pandas as pd\n",
    "import numpy as np\n",
    "import matplotlib.pyplot as plt\n",
    "from datetime import datetime\n",
    "import seaborn as sns\n",
    "\n",
    "from sklearn.model_selection import train_test_split, cross_validate, RandomizedSearchCV, GridSearchCV\n",
    "from sklearn.preprocessing import StandardScaler\n",
    "from sklearn.feature_selection import SelectKBest, f_regression\n",
    "from sklearn.linear_model import LinearRegression\n",
    "\n",
    "from sklearn.pipeline import make_pipeline\n",
    "from sklearn.metrics import r2_score, mean_squared_error, mean_absolute_error\n",
    "\n",
    "import os"
   ]
  },
  {
   "cell_type": "code",
   "execution_count": 2,
   "id": "d0fc82e1",
   "metadata": {},
   "outputs": [],
   "source": [
    "pd.options.display.float_format = '{:20,.2f}'.format"
   ]
  },
  {
   "cell_type": "code",
   "execution_count": 3,
   "id": "ca2f25f5",
   "metadata": {},
   "outputs": [],
   "source": [
    "steam_data2 = pd.read_csv('../data/steam_clean2.csv', parse_dates=['release_date'], index_col=0)"
   ]
  },
  {
   "cell_type": "code",
   "execution_count": 4,
   "id": "995fca09",
   "metadata": {},
   "outputs": [
    {
     "data": {
      "text/plain": [
       "(26356, 43)"
      ]
     },
     "execution_count": 4,
     "metadata": {},
     "output_type": "execute_result"
    }
   ],
   "source": [
    "steam_data2.shape"
   ]
  },
  {
   "cell_type": "code",
   "execution_count": 5,
   "id": "ead91d01",
   "metadata": {},
   "outputs": [
    {
     "name": "stdout",
     "output_type": "stream",
     "text": [
      "<class 'pandas.core.frame.DataFrame'>\n",
      "Int64Index: 26356 entries, 0 to 27074\n",
      "Data columns (total 43 columns):\n",
      " #   Column            Non-Null Count  Dtype         \n",
      "---  ------            --------------  -----         \n",
      " 0   appid             26356 non-null  int64         \n",
      " 1   name              26356 non-null  object        \n",
      " 2   release_date      26356 non-null  datetime64[ns]\n",
      " 3   yrs_released      26356 non-null  int64         \n",
      " 4   winter            26356 non-null  int64         \n",
      " 5   spring            26356 non-null  int64         \n",
      " 6   summer            26356 non-null  int64         \n",
      " 7   fall              26356 non-null  int64         \n",
      " 8   achievements      26356 non-null  int64         \n",
      " 9   average_playtime  26356 non-null  int64         \n",
      " 10  median_playtime   26356 non-null  int64         \n",
      " 11  price             26356 non-null  float64       \n",
      " 12  avg_owners        26356 non-null  float64       \n",
      " 13  revenue           26356 non-null  float64       \n",
      " 14  total_ratings     26356 non-null  int64         \n",
      " 15  perc_pos_ratings  26356 non-null  float64       \n",
      " 16  tags_per_game     26356 non-null  int64         \n",
      " 17  multi             26356 non-null  int64         \n",
      " 18  co-op             26356 non-null  int64         \n",
      " 19  cont_supp         26356 non-null  int64         \n",
      " 20  steam_achiev      26356 non-null  int64         \n",
      " 21  steam_tc          26356 non-null  int64         \n",
      " 22  steam_cloud       26356 non-null  int64         \n",
      " 23  indie             26356 non-null  int64         \n",
      " 24  action            26356 non-null  int64         \n",
      " 25  adventure         26356 non-null  int64         \n",
      " 26  casual            26356 non-null  int64         \n",
      " 27  strategy          26356 non-null  int64         \n",
      " 28  simulation        26356 non-null  int64         \n",
      " 29  rpg               26356 non-null  int64         \n",
      " 30  puzzle            26356 non-null  int64         \n",
      " 31  2d                26356 non-null  int64         \n",
      " 32  great_soundtrack  26356 non-null  int64         \n",
      " 33  atmospheric       26356 non-null  int64         \n",
      " 34  vr                26356 non-null  int64         \n",
      " 35  difficult         26356 non-null  int64         \n",
      " 36  story_rich        26356 non-null  int64         \n",
      " 37  free_to_play      26356 non-null  int64         \n",
      " 38  anime             26356 non-null  int64         \n",
      " 39  horror            26356 non-null  int64         \n",
      " 40  platformer        26356 non-null  int64         \n",
      " 41  pixel_graphics    26356 non-null  int64         \n",
      " 42  violent           26356 non-null  int64         \n",
      "dtypes: datetime64[ns](1), float64(4), int64(37), object(1)\n",
      "memory usage: 8.8+ MB\n"
     ]
    }
   ],
   "source": [
    "steam_data2.info()"
   ]
  },
  {
   "cell_type": "markdown",
   "id": "30d6ef86",
   "metadata": {},
   "source": [
    "# 1. Predicting Revenue"
   ]
  },
  {
   "cell_type": "markdown",
   "id": "7c1bc022",
   "metadata": {},
   "source": [
    "### Preprocessing"
   ]
  },
  {
   "cell_type": "markdown",
   "id": "ae84328a",
   "metadata": {},
   "source": [
    "#### a. Split into Train/Test"
   ]
  },
  {
   "cell_type": "code",
   "execution_count": 5,
   "id": "1b580c58",
   "metadata": {},
   "outputs": [],
   "source": [
    "# Define X and y\n",
    "X = steam_data2.drop(columns=['revenue', 'appid', 'name', 'release_date'])\n",
    "y = steam_data2.revenue"
   ]
  },
  {
   "cell_type": "code",
   "execution_count": 6,
   "id": "b497f22e",
   "metadata": {},
   "outputs": [
    {
     "data": {
      "text/plain": [
       "((26356, 39), (26356,))"
      ]
     },
     "execution_count": 6,
     "metadata": {},
     "output_type": "execute_result"
    }
   ],
   "source": [
    "X.shape, y.shape"
   ]
  },
  {
   "cell_type": "code",
   "execution_count": 7,
   "id": "40de7d34",
   "metadata": {},
   "outputs": [],
   "source": [
    "# Split into train/test\n",
    "X_train, X_test, y_train, y_test = train_test_split(X, y, test_size=0.3)"
   ]
  },
  {
   "cell_type": "code",
   "execution_count": 8,
   "id": "22c7f413",
   "metadata": {
    "scrolled": true
   },
   "outputs": [
    {
     "data": {
      "text/plain": [
       "((18449, 39), (7907, 39))"
      ]
     },
     "execution_count": 8,
     "metadata": {},
     "output_type": "execute_result"
    }
   ],
   "source": [
    "X_train.shape, X_test.shape"
   ]
  },
  {
   "cell_type": "markdown",
   "id": "3d670fce",
   "metadata": {},
   "source": [
    "#### b. Scale Data"
   ]
  },
  {
   "cell_type": "code",
   "execution_count": 9,
   "id": "27025055",
   "metadata": {},
   "outputs": [],
   "source": [
    "# Initialize scaler\n",
    "scaler = StandardScaler()\n",
    "\n",
    "# Fit to training data\n",
    "scaler.fit(X_train)\n",
    "# Transform train and test data\n",
    "X_train_scaled = scaler.transform(X_train)\n",
    "X_test_scaled = scaler.transform(X_test)"
   ]
  },
  {
   "cell_type": "code",
   "execution_count": null,
   "id": "a8831910",
   "metadata": {},
   "outputs": [],
   "source": []
  },
  {
   "cell_type": "code",
   "execution_count": null,
   "id": "e8714c69",
   "metadata": {},
   "outputs": [],
   "source": []
  },
  {
   "cell_type": "code",
   "execution_count": 10,
   "id": "9f7acacb",
   "metadata": {},
   "outputs": [],
   "source": [
    "# Function to quickly assess different models\n",
    "\n",
    "def print_eval(model, X_tr, X_te, y_tr, y_te):\n",
    "    \"\"\"Quickly evaluate different models\"\"\"\n",
    "    model.fit(X_tr, y_tr)\n",
    "    y_tr_pred = model.predict(X_tr)\n",
    "    y_te_pred = model.predict(X_te)\n",
    "    r2_tr, r2_te = r2_score(y_tr, y_tr_pred), r2_score(y_te, y_te_pred)\n",
    "    rmse_tr, rmse_te = np.sqrt(mean_squared_error(y_tr, y_tr_pred)), np.sqrt(mean_squared_error(y_te, y_te_pred))\n",
    "    mae_tr, mae_te = mean_absolute_error(y_tr, y_tr_pred), mean_absolute_error(y_te, y_te_pred)\n",
    "    print(f\"Train R2: {r2_tr:.2f}  |  Test R2: {r2_te:.2f} \\n\"\n",
    "         f\"Train RMSE: {rmse_tr:,.2f}  |  Test RMSE: {rmse_te:,.2f} \\n\"\n",
    "         f\"Train MAE: {mae_tr:,.2f}  |  Test MAE: {mae_te:,.2f}\")"
   ]
  },
  {
   "cell_type": "markdown",
   "id": "961324a2",
   "metadata": {},
   "source": [
    "### Model 1: Linear Regression"
   ]
  },
  {
   "cell_type": "markdown",
   "id": "ad9c4c24",
   "metadata": {},
   "source": [
    "#### a. Baseline Model"
   ]
  },
  {
   "cell_type": "code",
   "execution_count": 12,
   "id": "5c3aec95",
   "metadata": {},
   "outputs": [
    {
     "name": "stdout",
     "output_type": "stream",
     "text": [
      "Train R2: 0.51  |  Test R2: 0.37 \n",
      "Train RMSE: 5,896,978.10  |  Test RMSE: 19,050,209.58 \n",
      "Train MAE: 1,476,777.58  |  Test MAE: 1,776,374.36\n"
     ]
    }
   ],
   "source": [
    "# Initialize model\n",
    "lm = LinearRegression()\n",
    "\n",
    "# Fit, predict, and evaluate\n",
    "print_eval(lm, X_train_scaled, X_test_scaled, y_train, y_test)"
   ]
  },
  {
   "cell_type": "markdown",
   "id": "25c7a3a7",
   "metadata": {},
   "source": [
    "#### b. Tuning Hyperparameters"
   ]
  },
  {
   "cell_type": "code",
   "execution_count": 27,
   "id": "b839d256",
   "metadata": {},
   "outputs": [
    {
     "data": {
      "text/plain": [
       "(-0.10339593870760817, 0.9577002345202454)"
      ]
     },
     "execution_count": 27,
     "metadata": {},
     "output_type": "execute_result"
    }
   ],
   "source": [
    "# Make a pipeline\n",
    "pipe_lm = make_pipeline(StandardScaler(), SelectKBest(f_regression), LinearRegression())\n",
    "\n",
    "# Cross-validation\n",
    "cv_lm_results = cross_validate(pipe_lm, X_train, y_train, scoring='r2', cv=5)\n",
    "cv_lm_scores = cv_lm_results['test_score']\n",
    "np.mean(cv_lm_scores), np.std(cv_lm_scores)"
   ]
  },
  {
   "cell_type": "code",
   "execution_count": 45,
   "id": "6cf3d2b2",
   "metadata": {},
   "outputs": [
    {
     "data": {
      "text/plain": [
       "GridSearchCV(cv=5,\n",
       "             estimator=Pipeline(steps=[('standardscaler', StandardScaler()),\n",
       "                                       ('selectkbest',\n",
       "                                        SelectKBest(score_func=<function f_regression at 0x000002B0A6CB7B80>)),\n",
       "                                       ('linearregression',\n",
       "                                        LinearRegression())]),\n",
       "             param_grid={'selectkbest__k': [1, 2, 3, 4, 5, 6, 7, 8, 9, 10, 11,\n",
       "                                            12, 13, 14, 15, 16, 17, 18, 19, 20,\n",
       "                                            21, 22, 23, 24, 25, 26, 27, 28, 29,\n",
       "                                            30, ...]})"
      ]
     },
     "execution_count": 45,
     "metadata": {},
     "output_type": "execute_result"
    }
   ],
   "source": [
    "# Grid Search CV\n",
    "k_range = [k+1 for k in range(len(X_train.columns))]\n",
    "param_grid_lm = {'selectkbest__k': k_range}\n",
    "\n",
    "gridcv_lm = GridSearchCV(pipe_lm, param_grid=param_grid_lm, cv=5)\n",
    "gridcv_lm.fit(X_train, y_train)"
   ]
  },
  {
   "cell_type": "code",
   "execution_count": 46,
   "id": "34f9faab",
   "metadata": {},
   "outputs": [
    {
     "name": "stdout",
     "output_type": "stream",
     "text": [
      "{'selectkbest__k': 1} -0.045478262315391406\n"
     ]
    }
   ],
   "source": [
    "print(gridcv_lm.best_params_, gridcv_lm.best_score_)"
   ]
  },
  {
   "cell_type": "code",
   "execution_count": 52,
   "id": "9d04e0d9",
   "metadata": {},
   "outputs": [],
   "source": [
    "score_mean = gridcv_lm.cv_results_['mean_test_score']\n",
    "score_std = gridcv_lm.cv_results_['std_test_score']\n",
    "cv_k = [k for k in gridcv_lm.cv_results_['param_selectkbest__k']]"
   ]
  },
  {
   "cell_type": "code",
   "execution_count": 57,
   "id": "130c004d",
   "metadata": {},
   "outputs": [
    {
     "data": {
      "image/png": "[encoded data removed]",
      "text/plain": [
       "<Figure size 720x360 with 1 Axes>"
      ]
     },
     "metadata": {
      "needs_background": "light"
     },
     "output_type": "display_data"
    }
   ],
   "source": [
    "best_k = gridcv_lm.best_params_['selectkbest__k']\n",
    "plt.subplots(figsize=(10, 5))\n",
    "plt.errorbar(cv_k, score_mean, yerr=score_std)\n",
    "plt.axvline(x=best_k, c='r', ls='--', alpha=.5)\n",
    "plt.xlabel('k')\n",
    "plt.ylabel('CV score (r-squared)')\n",
    "plt.title('Pipeline mean CV score (error bars +/- 1sd)');"
   ]
  },
  {
   "cell_type": "code",
   "execution_count": null,
   "id": "cd7f2c63",
   "metadata": {},
   "outputs": [],
   "source": []
  },
  {
   "cell_type": "code",
   "execution_count": null,
   "id": "a2a2f51c",
   "metadata": {},
   "outputs": [],
   "source": []
  },
  {
   "cell_type": "code",
   "execution_count": null,
   "id": "02979ede",
   "metadata": {},
   "outputs": [],
   "source": []
  },
  {
   "cell_type": "code",
   "execution_count": null,
   "id": "a1dc4bb7",
   "metadata": {},
   "outputs": [],
   "source": []
  },
  {
   "cell_type": "code",
   "execution_count": null,
   "id": "b604062f",
   "metadata": {},
   "outputs": [],
   "source": []
  },
  {
   "cell_type": "markdown",
   "id": "b58fd78a",
   "metadata": {},
   "source": [
    "### Model 2: Random Forest Regressor"
   ]
  },
  {
   "cell_type": "code",
   "execution_count": null,
   "id": "3fb43eaa",
   "metadata": {},
   "outputs": [],
   "source": [
    "from sklearn.ensemble import RandomForestRegressor"
   ]
  },
  {
   "cell_type": "markdown",
   "id": "6c645b2e",
   "metadata": {},
   "source": [
    "#### a. Baseline Model"
   ]
  },
  {
   "cell_type": "code",
   "execution_count": 156,
   "id": "6d090c0c",
   "metadata": {},
   "outputs": [
    {
     "name": "stdout",
     "output_type": "stream",
     "text": [
      "Train R2: 0.98  |  Test R2: 0.32 \n",
      "Train RMSE: 1,205,631.86  |  Test RMSE: 19,645,793.77 \n",
      "Train MAE: 47,979.83  |  Test MAE: 311,825.08\n"
     ]
    }
   ],
   "source": [
    "# Initialize model\n",
    "RFreg = RandomForestRegressor(random_state=0)\n",
    "\n",
    "# Fit and evaluate model\n",
    "print_eval(RFreg, X_train_scaled, X_test_scaled, y_train, y_test)"
   ]
  },
  {
   "cell_type": "markdown",
   "id": "39dd6d0d",
   "metadata": {},
   "source": [
    "#### b. Tuning Hyperparameters"
   ]
  },
  {
   "cell_type": "code",
   "execution_count": 125,
   "id": "2942c9d6",
   "metadata": {},
   "outputs": [],
   "source": [
    "# Set hyperparameters to search over\n",
    "\n",
    "n_est = [int(x) for x in np.linspace(start=100,stop=1000,num=10)]\n",
    "max_feat = ['auto','sqrt','log2',None]\n",
    "max_depth = [int(x) for x in np.linspace(start=10,stop=100,num=10)]\n",
    "\n",
    "param_grid_RF = [\n",
    "    {'n_estimators':n_est, 'max_features':max_feat,\n",
    "    'max_depth':max_depth, 'bootstrap':[True, False]}]"
   ]
  },
  {
   "cell_type": "code",
   "execution_count": 126,
   "id": "295b92cf",
   "metadata": {},
   "outputs": [
    {
     "data": {
      "text/plain": [
       "RandomizedSearchCV(cv=5, estimator=RandomForestRegressor(random_state=0),\n",
       "                   n_iter=50, n_jobs=-1,\n",
       "                   param_distributions=[{'bootstrap': [True, False],\n",
       "                                         'max_depth': [10, 20, 30, 40, 50, 60,\n",
       "                                                       70, 80, 90, 100],\n",
       "                                         'max_features': ['auto', 'sqrt',\n",
       "                                                          'log2', None],\n",
       "                                         'n_estimators': [100, 200, 300, 400,\n",
       "                                                          500, 600, 700, 800,\n",
       "                                                          900, 1000]}],\n",
       "                   refit='neg_root_mean_squared_error',\n",
       "                   scoring=['r2', 'neg_root_mean_squared_error'])"
      ]
     },
     "execution_count": 126,
     "metadata": {},
     "output_type": "execute_result"
    }
   ],
   "source": [
    "# Randomized Search CV\n",
    "\n",
    "randomcv_rf = RandomizedSearchCV(RF, param_distributions=param_grid_RF, cv=5, scoring=['r2','neg_root_mean_squared_error'],\n",
    "                                 refit='neg_root_mean_squared_error', n_iter=50, n_jobs=-1)\n",
    "randomcv_rf.fit(X_train_scaled, y_train)"
   ]
  },
  {
   "cell_type": "code",
   "execution_count": 127,
   "id": "ff33c962",
   "metadata": {
    "scrolled": true
   },
   "outputs": [
    {
     "data": {
      "text/plain": [
       "(RandomForestRegressor(max_depth=60, n_estimators=300, random_state=0),\n",
       " {'n_estimators': 300,\n",
       "  'max_features': 'auto',\n",
       "  'max_depth': 60,\n",
       "  'bootstrap': True},\n",
       " 2862730.7775639435)"
      ]
     },
     "execution_count": 127,
     "metadata": {},
     "output_type": "execute_result"
    }
   ],
   "source": [
    "# Best estimator properties\n",
    "\n",
    "randomcv_rf.best_estimator_, randomcv_rf.best_params_, -randomcv_rf.best_score_"
   ]
  },
  {
   "cell_type": "code",
   "execution_count": 157,
   "id": "3dad2c1a",
   "metadata": {},
   "outputs": [
    {
     "name": "stdout",
     "output_type": "stream",
     "text": [
      "Train R2: 0.98  |  Test R2: 0.33 \n",
      "Train RMSE: 1,149,503.61  |  Test RMSE: 19,626,271.12 \n",
      "Train MAE: 46,619.97  |  Test MAE: 314,730.66\n"
     ]
    }
   ],
   "source": [
    "print_eval(randomcv_rf.best_estimator_, X_train_scaled, X_test_scaled, y_train, y_test)"
   ]
  },
  {
   "cell_type": "code",
   "execution_count": null,
   "id": "b601a4d2",
   "metadata": {},
   "outputs": [],
   "source": []
  },
  {
   "cell_type": "code",
   "execution_count": 29,
   "id": "4f9d64d0",
   "metadata": {},
   "outputs": [
    {
     "data": {
      "text/plain": [
       "(0.8772117951982505, 0.08747744972362777)"
      ]
     },
     "execution_count": 29,
     "metadata": {},
     "output_type": "execute_result"
    }
   ],
   "source": [
    "# Make pipeline\n",
    "pipe_rf = make_pipeline(StandardScaler(), RandomForestRegressor(random_state=0))\n",
    "\n",
    "# Cross-validation\n",
    "cv_rf_results = cross_validate(pipe_rf, X_train, y_train, scoring='r2', cv=5)\n",
    "cv_rf_scores = cv_rf_results['test_score']\n",
    "np.mean(cv_rf_scores), np.std(cv_rf_scores)"
   ]
  },
  {
   "cell_type": "code",
   "execution_count": null,
   "id": "7640ad16",
   "metadata": {},
   "outputs": [],
   "source": []
  },
  {
   "cell_type": "code",
   "execution_count": null,
   "id": "ff0687ec",
   "metadata": {},
   "outputs": [],
   "source": []
  },
  {
   "cell_type": "code",
   "execution_count": null,
   "id": "94c4d1f2",
   "metadata": {},
   "outputs": [],
   "source": []
  },
  {
   "cell_type": "code",
   "execution_count": null,
   "id": "8e5929ef",
   "metadata": {},
   "outputs": [],
   "source": []
  },
  {
   "cell_type": "code",
   "execution_count": null,
   "id": "dcffd967",
   "metadata": {},
   "outputs": [],
   "source": []
  },
  {
   "cell_type": "code",
   "execution_count": null,
   "id": "20d52561",
   "metadata": {},
   "outputs": [],
   "source": []
  },
  {
   "cell_type": "markdown",
   "id": "f40d51c9",
   "metadata": {},
   "source": [
    "### Model 3: Gradient Boosting Regression"
   ]
  },
  {
   "cell_type": "code",
   "execution_count": 100,
   "id": "bef4de50",
   "metadata": {},
   "outputs": [],
   "source": [
    "from sklearn.ensemble import GradientBoostingRegressor"
   ]
  },
  {
   "cell_type": "markdown",
   "id": "3b4fb087",
   "metadata": {},
   "source": [
    "#### a. Baseline Model"
   ]
  },
  {
   "cell_type": "code",
   "execution_count": 154,
   "id": "c117adae",
   "metadata": {},
   "outputs": [
    {
     "name": "stdout",
     "output_type": "stream",
     "text": [
      "Train R2: 1.00, Test R2: 0.38 \n",
      "Train RMSE: 515,410.84, Test RMSE: 18,734,783.10 \n",
      "Train MAE: 162,533.20, Test MAE: 414,546.23\n"
     ]
    }
   ],
   "source": [
    "# Initialize model\n",
    "GBreg = GradientBoostingRegressor(random_state=0)\n",
    "\n",
    "# Fit, predict, and evaluate\n",
    "print_eval(GBreg, X_train_scaled, X_test_scaled, y_train, y_test)"
   ]
  },
  {
   "cell_type": "markdown",
   "id": "8a4e63ab",
   "metadata": {},
   "source": [
    "#### b. Tuning Hyperparameters"
   ]
  },
  {
   "cell_type": "code",
   "execution_count": 160,
   "id": "506c19c5",
   "metadata": {},
   "outputs": [],
   "source": [
    "# Define hyperparameters to search over\n",
    "\n",
    "n_est = [int(x) for x in np.linspace(start=100,stop=1000,num=10)]\n",
    "max_feat = ['auto','sqrt','log2',None]\n",
    "max_depth = [int(x) for x in np.linspace(start=10,stop=100,num=10)]\n",
    "learning_rate = [0.001, 0.01, 0.1, 0.2, 0.3, 0.4]\n",
    "\n",
    "param_grid_GB = [\n",
    "    {'n_estimators':n_est, 'max_depth':max_depth, 'max_features':max_feat,\n",
    "     'learning_rate':learning_rate}]"
   ]
  },
  {
   "cell_type": "code",
   "execution_count": 164,
   "id": "b87c6acf",
   "metadata": {},
   "outputs": [
    {
     "data": {
      "text/plain": [
       "RandomizedSearchCV(cv=5, estimator=GradientBoostingRegressor(random_state=0),\n",
       "                   n_iter=50, n_jobs=-1,\n",
       "                   param_distributions=[{'learning_rate': [0.001, 0.01, 0.1,\n",
       "                                                           0.2, 0.3, 0.4],\n",
       "                                         'max_depth': [10, 20, 30, 40, 50, 60,\n",
       "                                                       70, 80, 90, 100],\n",
       "                                         'max_features': ['auto', 'sqrt',\n",
       "                                                          'log2', None],\n",
       "                                         'n_estimators': [100, 200, 300, 400,\n",
       "                                                          500, 600, 700, 800,\n",
       "                                                          900, 1000]}],\n",
       "                   refit='r2', scoring=['r2', 'neg_root_mean_squared_error'])"
      ]
     },
     "execution_count": 164,
     "metadata": {},
     "output_type": "execute_result"
    }
   ],
   "source": [
    "# Randomized Search CV\n",
    "\n",
    "randomcv_gb = RandomizedSearchCV(GBreg, param_distributions=param_grid_GB, cv=5, scoring=['r2','neg_root_mean_squared_error'],\n",
    "                                 refit='r2', n_iter=50, n_jobs=-1)\n",
    "randomcv_gb.fit(X_train_scaled, y_train)"
   ]
  },
  {
   "cell_type": "code",
   "execution_count": 162,
   "id": "09d47a58",
   "metadata": {},
   "outputs": [
    {
     "data": {
      "text/plain": [
       "(GradientBoostingRegressor(learning_rate=0.01, max_depth=10, max_features='sqrt',\n",
       "                           n_estimators=900, random_state=0),\n",
       " {'n_estimators': 900,\n",
       "  'max_features': 'sqrt',\n",
       "  'max_depth': 10,\n",
       "  'learning_rate': 0.01},\n",
       " 3781905.1259770645)"
      ]
     },
     "execution_count": 162,
     "metadata": {},
     "output_type": "execute_result"
    }
   ],
   "source": [
    "# Best estimator properties\n",
    "\n",
    "randomcv_gb.best_estimator_, randomcv_gb.best_params_, -randomcv_gb.best_score_"
   ]
  },
  {
   "cell_type": "code",
   "execution_count": 165,
   "id": "6e375da6",
   "metadata": {},
   "outputs": [
    {
     "data": {
      "text/plain": [
       "(GradientBoostingRegressor(learning_rate=0.01, max_depth=10, max_features='sqrt',\n",
       "                           n_estimators=500, random_state=0),\n",
       " {'n_estimators': 500,\n",
       "  'max_features': 'sqrt',\n",
       "  'max_depth': 10,\n",
       "  'learning_rate': 0.01},\n",
       " -0.7951205048651334)"
      ]
     },
     "execution_count": 165,
     "metadata": {},
     "output_type": "execute_result"
    }
   ],
   "source": [
    "# Best estimator properties\n",
    "\n",
    "randomcv_gb.best_estimator_, randomcv_gb.best_params_, -randomcv_gb.best_score_"
   ]
  },
  {
   "cell_type": "code",
   "execution_count": 163,
   "id": "e582c08f",
   "metadata": {
    "scrolled": true
   },
   "outputs": [
    {
     "name": "stdout",
     "output_type": "stream",
     "text": [
      "Train R2: 1.00  |  Test R2: 0.24 \n",
      "Train RMSE: 26,933.87  |  Test RMSE: 20,807,220.01 \n",
      "Train MAE: 13,623.50  |  Test MAE: 536,715.37\n"
     ]
    }
   ],
   "source": [
    "print_eval(randomcv_gb.best_estimator_, X_train_scaled, X_test_scaled, y_train, y_test)"
   ]
  },
  {
   "cell_type": "code",
   "execution_count": 166,
   "id": "8afc99b8",
   "metadata": {},
   "outputs": [
    {
     "name": "stdout",
     "output_type": "stream",
     "text": [
      "Train R2: 1.00  |  Test R2: 0.24 \n",
      "Train RMSE: 110,101.06  |  Test RMSE: 20,823,268.66 \n",
      "Train MAE: 43,307.32  |  Test MAE: 555,084.74\n"
     ]
    }
   ],
   "source": [
    "print_eval(randomcv_gb.best_estimator_, X_train_scaled, X_test_scaled, y_train, y_test)"
   ]
  }
 ],
 "metadata": {
  "kernelspec": {
   "display_name": "Python 3 (ipykernel)",
   "language": "python",
   "name": "python3"
  },
  "language_info": {
   "codemirror_mode": {
    "name": "ipython",
    "version": 3
   },
   "file_extension": ".py",
   "mimetype": "text/x-python",
   "name": "python",
   "nbconvert_exporter": "python",
   "pygments_lexer": "ipython3",
   "version": "3.8.12"
  }
 },
 "nbformat": 4,
 "nbformat_minor": 5
}
