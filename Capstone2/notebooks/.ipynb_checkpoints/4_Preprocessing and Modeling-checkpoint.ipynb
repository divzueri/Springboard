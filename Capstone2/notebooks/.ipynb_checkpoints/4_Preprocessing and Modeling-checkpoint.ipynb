{
 "cells": [
  {
   "cell_type": "code",
   "execution_count": 56,
   "id": "ef62f90d",
   "metadata": {},
   "outputs": [],
   "source": [
    "import pandas as pd\n",
    "import numpy as np\n",
    "import matplotlib.pyplot as plt\n",
    "from datetime import datetime\n",
    "import seaborn as sns\n",
    "\n",
    "from sklearn.model_selection import train_test_split, cross_validate, RandomizedSearchCV, GridSearchCV\n",
    "from sklearn.preprocessing import StandardScaler, RobustScaler, MaxAbsScaler\n",
    "from sklearn.feature_selection import SelectKBest, f_regression\n",
    "\n",
    "from sklearn.pipeline import make_pipeline\n",
    "from sklearn.metrics import r2_score, mean_squared_error, mean_absolute_error\n",
    "\n",
    "import os"
   ]
  },
  {
   "cell_type": "code",
   "execution_count": 2,
   "id": "d0fc82e1",
   "metadata": {},
   "outputs": [],
   "source": [
    "pd.options.display.float_format = '{:20,.2f}'.format"
   ]
  },
  {
   "cell_type": "code",
   "execution_count": 3,
   "id": "ca2f25f5",
   "metadata": {},
   "outputs": [],
   "source": [
    "steam_data2 = pd.read_csv('../data/steam_clean2.csv', parse_dates=['release_date'], index_col=0)"
   ]
  },
  {
   "cell_type": "code",
   "execution_count": 4,
   "id": "995fca09",
   "metadata": {},
   "outputs": [
    {
     "data": {
      "text/plain": [
       "(26356, 43)"
      ]
     },
     "execution_count": 4,
     "metadata": {},
     "output_type": "execute_result"
    }
   ],
   "source": [
    "steam_data2.shape"
   ]
  },
  {
   "cell_type": "code",
   "execution_count": 75,
   "id": "ead91d01",
   "metadata": {},
   "outputs": [
    {
     "name": "stdout",
     "output_type": "stream",
     "text": [
      "<class 'pandas.core.frame.DataFrame'>\n",
      "Int64Index: 26356 entries, 0 to 27074\n",
      "Data columns (total 43 columns):\n",
      " #   Column            Non-Null Count  Dtype         \n",
      "---  ------            --------------  -----         \n",
      " 0   appid             26356 non-null  int64         \n",
      " 1   name              26356 non-null  object        \n",
      " 2   release_date      26356 non-null  datetime64[ns]\n",
      " 3   yrs_released      26356 non-null  int64         \n",
      " 4   winter            26356 non-null  int64         \n",
      " 5   spring            26356 non-null  int64         \n",
      " 6   summer            26356 non-null  int64         \n",
      " 7   fall              26356 non-null  int64         \n",
      " 8   achievements      26356 non-null  int64         \n",
      " 9   average_playtime  26356 non-null  int64         \n",
      " 10  median_playtime   26356 non-null  int64         \n",
      " 11  price             26356 non-null  float64       \n",
      " 12  avg_owners        26356 non-null  float64       \n",
      " 13  revenue           26356 non-null  float64       \n",
      " 14  total_ratings     26356 non-null  int64         \n",
      " 15  perc_pos_ratings  26356 non-null  float64       \n",
      " 16  tags_per_game     26356 non-null  int64         \n",
      " 17  multi             26356 non-null  int64         \n",
      " 18  co-op             26356 non-null  int64         \n",
      " 19  cont_supp         26356 non-null  int64         \n",
      " 20  steam_achiev      26356 non-null  int64         \n",
      " 21  steam_tc          26356 non-null  int64         \n",
      " 22  steam_cloud       26356 non-null  int64         \n",
      " 23  indie             26356 non-null  int64         \n",
      " 24  action            26356 non-null  int64         \n",
      " 25  adventure         26356 non-null  int64         \n",
      " 26  casual            26356 non-null  int64         \n",
      " 27  strategy          26356 non-null  int64         \n",
      " 28  simulation        26356 non-null  int64         \n",
      " 29  rpg               26356 non-null  int64         \n",
      " 30  puzzle            26356 non-null  int64         \n",
      " 31  2d                26356 non-null  int64         \n",
      " 32  great_soundtrack  26356 non-null  int64         \n",
      " 33  atmospheric       26356 non-null  int64         \n",
      " 34  vr                26356 non-null  int64         \n",
      " 35  difficult         26356 non-null  int64         \n",
      " 36  story_rich        26356 non-null  int64         \n",
      " 37  free_to_play      26356 non-null  int64         \n",
      " 38  anime             26356 non-null  int64         \n",
      " 39  horror            26356 non-null  int64         \n",
      " 40  platformer        26356 non-null  int64         \n",
      " 41  pixel_graphics    26356 non-null  int64         \n",
      " 42  violent           26356 non-null  int64         \n",
      "dtypes: datetime64[ns](1), float64(4), int64(37), object(1)\n",
      "memory usage: 8.8+ MB\n"
     ]
    }
   ],
   "source": [
    "steam_data2.info()"
   ]
  },
  {
   "cell_type": "code",
   "execution_count": null,
   "id": "0d09009f",
   "metadata": {},
   "outputs": [],
   "source": []
  },
  {
   "cell_type": "markdown",
   "id": "30d6ef86",
   "metadata": {},
   "source": [
    "# 1. Predicting Revenue"
   ]
  },
  {
   "cell_type": "markdown",
   "id": "7c1bc022",
   "metadata": {},
   "source": [
    "### Preprocessing"
   ]
  },
  {
   "cell_type": "markdown",
   "id": "ae84328a",
   "metadata": {},
   "source": [
    "#### a. Split into Train/Test"
   ]
  },
  {
   "cell_type": "code",
   "execution_count": 5,
   "id": "1b580c58",
   "metadata": {},
   "outputs": [],
   "source": [
    "# Define X and y\n",
    "X = steam_data2.drop(columns=['revenue', 'appid', 'name', 'release_date'])\n",
    "y = steam_data2.revenue"
   ]
  },
  {
   "cell_type": "code",
   "execution_count": 6,
   "id": "b497f22e",
   "metadata": {},
   "outputs": [
    {
     "data": {
      "text/plain": [
       "((26356, 39), (26356,))"
      ]
     },
     "execution_count": 6,
     "metadata": {},
     "output_type": "execute_result"
    }
   ],
   "source": [
    "X.shape, y.shape"
   ]
  },
  {
   "cell_type": "code",
   "execution_count": 7,
   "id": "40de7d34",
   "metadata": {},
   "outputs": [],
   "source": [
    "# Split into train/test\n",
    "X_train, X_test, y_train, y_test = train_test_split(X, y, test_size=0.3)"
   ]
  },
  {
   "cell_type": "code",
   "execution_count": 8,
   "id": "22c7f413",
   "metadata": {
    "scrolled": true
   },
   "outputs": [
    {
     "data": {
      "text/plain": [
       "((18449, 39), (7907, 39))"
      ]
     },
     "execution_count": 8,
     "metadata": {},
     "output_type": "execute_result"
    }
   ],
   "source": [
    "X_train.shape, X_test.shape"
   ]
  },
  {
   "cell_type": "markdown",
   "id": "3d670fce",
   "metadata": {},
   "source": [
    "#### b. Scale Data"
   ]
  },
  {
   "cell_type": "code",
   "execution_count": 9,
   "id": "27025055",
   "metadata": {},
   "outputs": [],
   "source": [
    "# Initialize scaler\n",
    "scaler = StandardScaler()\n",
    "\n",
    "# Fit to training data\n",
    "scaler.fit(X_train)\n",
    "# Transform train and test data\n",
    "X_train_scaled = scaler.transform(X_train)\n",
    "X_test_scaled = scaler.transform(X_test)"
   ]
  },
  {
   "cell_type": "code",
   "execution_count": 10,
   "id": "9f7acacb",
   "metadata": {},
   "outputs": [],
   "source": [
    "# Function to quickly assess different models\n",
    "\n",
    "def print_eval(model, X_tr, X_te, y_tr, y_te):\n",
    "    \"\"\"Quickly evaluate different models\"\"\"\n",
    "    model.fit(X_tr, y_tr)\n",
    "    y_tr_pred = model.predict(X_tr)\n",
    "    y_te_pred = model.predict(X_te)\n",
    "    r2_tr, r2_te = r2_score(y_tr, y_tr_pred), r2_score(y_te, y_te_pred)\n",
    "    rmse_tr, rmse_te = np.sqrt(mean_squared_error(y_tr, y_tr_pred)), np.sqrt(mean_squared_error(y_te, y_te_pred))\n",
    "    mae_tr, mae_te = mean_absolute_error(y_tr, y_tr_pred), mean_absolute_error(y_te, y_te_pred)\n",
    "    print(f\"Train R2: {r2_tr:.2f}  |  Test R2: {r2_te:.2f} \\n\"\n",
    "         f\"Train RMSE: {rmse_tr:,.2f}  |  Test RMSE: {rmse_te:,.2f} \\n\"\n",
    "         f\"Train MAE: {mae_tr:,.2f}  |  Test MAE: {mae_te:,.2f}\")"
   ]
  },
  {
   "cell_type": "markdown",
   "id": "961324a2",
   "metadata": {},
   "source": [
    "# Model 1: Linear Regression"
   ]
  },
  {
   "cell_type": "code",
   "execution_count": null,
   "id": "a4bb6bd1",
   "metadata": {},
   "outputs": [],
   "source": [
    "from sklearn.linear_model import LinearRegression"
   ]
  },
  {
   "cell_type": "markdown",
   "id": "ad9c4c24",
   "metadata": {},
   "source": [
    "### a. Baseline Model"
   ]
  },
  {
   "cell_type": "code",
   "execution_count": 12,
   "id": "5c3aec95",
   "metadata": {},
   "outputs": [
    {
     "name": "stdout",
     "output_type": "stream",
     "text": [
      "Train R2: 0.51  |  Test R2: 0.37 \n",
      "Train RMSE: 5,896,978.10  |  Test RMSE: 19,050,209.58 \n",
      "Train MAE: 1,476,777.58  |  Test MAE: 1,776,374.36\n"
     ]
    }
   ],
   "source": [
    "# Initialize model\n",
    "lm = LinearRegression()\n",
    "\n",
    "# Fit, predict, and evaluate\n",
    "print_eval(lm, X_train_scaled, X_test_scaled, y_train, y_test)"
   ]
  },
  {
   "cell_type": "markdown",
   "id": "e8e4b495",
   "metadata": {},
   "source": [
    "As expected, the baseline LR model underfits. We'll see if adjusting k and type of scaler affects performance"
   ]
  },
  {
   "cell_type": "markdown",
   "id": "25c7a3a7",
   "metadata": {},
   "source": [
    "### b. Cross-Validation"
   ]
  },
  {
   "cell_type": "code",
   "execution_count": 57,
   "id": "8cbddc36",
   "metadata": {},
   "outputs": [
    {
     "data": {
      "text/plain": [
       "dict_keys(['memory', 'steps', 'verbose', 'standardscaler', 'selectkbest', 'linearregression', 'standardscaler__copy', 'standardscaler__with_mean', 'standardscaler__with_std', 'selectkbest__k', 'selectkbest__score_func', 'linearregression__copy_X', 'linearregression__fit_intercept', 'linearregression__n_jobs', 'linearregression__normalize', 'linearregression__positive'])"
      ]
     },
     "execution_count": 57,
     "metadata": {},
     "output_type": "execute_result"
    }
   ],
   "source": [
    "# Set parameters\n",
    "k_range = [k+1 for k in range(len(X_train.columns))]\n",
    "\n",
    "param_grid_LR = {'standardscaler': [StandardScaler(), RobustScaler(), MaxAbsScaler(), None], 'selectkbest__k': k_range}\n",
    "\n",
    "# Create Pipeline\n",
    "pipe_LR = make_pipeline(StandardScaler(), SelectKBest(f_regression), lm)\n",
    "pipe_LR.get_params().keys()"
   ]
  },
  {
   "cell_type": "code",
   "execution_count": 58,
   "id": "61d96ff6",
   "metadata": {},
   "outputs": [
    {
     "data": {
      "text/plain": [
       "GridSearchCV(cv=5,\n",
       "             estimator=Pipeline(steps=[('standardscaler', StandardScaler()),\n",
       "                                       ('selectkbest',\n",
       "                                        SelectKBest(score_func=<function f_regression at 0x0000023B3F273E50>)),\n",
       "                                       ('linearregression',\n",
       "                                        LinearRegression())]),\n",
       "             n_jobs=-1,\n",
       "             param_grid={'selectkbest__k': [1, 2, 3, 4, 5, 6, 7, 8, 9, 10, 11,\n",
       "                                            12, 13, 14, 15, 16, 17, 18, 19, 20,\n",
       "                                            21, 22, 23, 24, 25, 26, 27, 28, 29,\n",
       "                                            30, ...],\n",
       "                         'standardscaler': [StandardScaler(), RobustScaler(),\n",
       "                                            MaxAbsScaler(), None]},\n",
       "             refit='r2',\n",
       "             scoring=['r2', 'neg_root_mean_squared_error',\n",
       "                      'neg_mean_absolute_error'])"
      ]
     },
     "execution_count": 58,
     "metadata": {},
     "output_type": "execute_result"
    }
   ],
   "source": [
    "# Grid Search CV\n",
    "\n",
    "gridcv_LR = GridSearchCV(pipe_LR, param_grid=param_grid_LR, cv=5, \n",
    "                         scoring=['r2','neg_root_mean_squared_error','neg_mean_absolute_error'],\n",
    "                         refit='r2', n_jobs=-1)\n",
    "gridcv_LR.fit(X_train, y_train)"
   ]
  },
  {
   "cell_type": "code",
   "execution_count": 59,
   "id": "9dff6efe",
   "metadata": {
    "scrolled": false
   },
   "outputs": [
    {
     "data": {
      "text/plain": [
       "(Pipeline(steps=[('standardscaler', RobustScaler()),\n",
       "                 ('selectkbest',\n",
       "                  SelectKBest(k=16,\n",
       "                              score_func=<function f_regression at 0x0000023B3F273E50>)),\n",
       "                 ('linearregression', LinearRegression())]),\n",
       " {'selectkbest__k': 16, 'standardscaler': RobustScaler()},\n",
       " 0.47075880157725153)"
      ]
     },
     "execution_count": 59,
     "metadata": {},
     "output_type": "execute_result"
    }
   ],
   "source": [
    "gridcv_LR.best_estimator_, gridcv_LR.best_params_, gridcv_LR.best_score_"
   ]
  },
  {
   "cell_type": "markdown",
   "id": "294a288f",
   "metadata": {},
   "source": [
    "Based on Grid Search CV, the best model has k = 16. Performance is still not that great, and doesn't even out-perform the baseline LR model."
   ]
  },
  {
   "cell_type": "code",
   "execution_count": 77,
   "id": "6c98f863",
   "metadata": {},
   "outputs": [
    {
     "name": "stdout",
     "output_type": "stream",
     "text": [
      "Train R2: 0.51  |  Test R2: 0.37 \n",
      "Train RMSE: 5,922,258.81  |  Test RMSE: 19,044,381.44 \n",
      "Train MAE: 1,439,097.85  |  Test MAE: 1,749,750.47\n"
     ]
    }
   ],
   "source": [
    "# Using the best model \n",
    "\n",
    "print_eval(gridcv_LR.best_estimator_, X_train_scaled, X_test_scaled, y_train, y_test)"
   ]
  },
  {
   "cell_type": "code",
   "execution_count": 78,
   "id": "130c004d",
   "metadata": {},
   "outputs": [
    {
     "data": {
      "image/png": "[encoded data removed]",
      "text/plain": [
       "<Figure size 720x360 with 1 Axes>"
      ]
     },
     "metadata": {
      "needs_background": "light"
     },
     "output_type": "display_data"
    }
   ],
   "source": [
    "# Plotting performance at different levels of k\n",
    "\n",
    "score_mean = gridcv_LR.cv_results_['mean_test_r2']\n",
    "score_std = gridcv_LR.cv_results_['std_test_r2']\n",
    "cv_k = [k for k in gridcv_LR.cv_results_['param_selectkbest__k']]\n",
    "\n",
    "best_k = gridcv_LR.best_params_['selectkbest__k']\n",
    "plt.subplots(figsize=(10, 5))\n",
    "plt.errorbar(cv_k, score_mean, yerr=score_std)\n",
    "plt.axvline(x=best_k, c='r', ls='--', alpha=.5)\n",
    "plt.xlabel('k')\n",
    "plt.ylabel('CV score (r-squared)')\n",
    "plt.title('Pipeline mean CV score (error bars +/- 1 sd)');"
   ]
  },
  {
   "cell_type": "markdown",
   "id": "45af7843",
   "metadata": {},
   "source": [
    "Adjusting the value of k doesn't seem to affect model performance very much"
   ]
  },
  {
   "cell_type": "markdown",
   "id": "cf6b2c44",
   "metadata": {},
   "source": [
    "# Model 1.5: Linear Regression with Regularization"
   ]
  },
  {
   "cell_type": "code",
   "execution_count": null,
   "id": "02979ede",
   "metadata": {},
   "outputs": [],
   "source": []
  },
  {
   "cell_type": "code",
   "execution_count": 80,
   "id": "0e35740e",
   "metadata": {},
   "outputs": [],
   "source": [
    "from sklearn.linear_model import Lasso"
   ]
  },
  {
   "cell_type": "code",
   "execution_count": null,
   "id": "f6d013be",
   "metadata": {},
   "outputs": [],
   "source": []
  },
  {
   "cell_type": "code",
   "execution_count": 81,
   "id": "a1dc4bb7",
   "metadata": {},
   "outputs": [
    {
     "name": "stdout",
     "output_type": "stream",
     "text": [
      "Train R2: 0.51  |  Test R2: 0.37 \n",
      "Train RMSE: 5,896,977.86  |  Test RMSE: 19,050,230.19 \n",
      "Train MAE: 1,476,933.31  |  Test MAE: 1,776,508.86\n"
     ]
    }
   ],
   "source": [
    "# Initialize Model\n",
    "lasso = Lasso(random_state=0)\n",
    "\n",
    "# Fit and evaluate\n",
    "print_eval(lasso, X_train_scaled, X_test_scaled, y_train, y_test)"
   ]
  },
  {
   "cell_type": "code",
   "execution_count": null,
   "id": "b604062f",
   "metadata": {},
   "outputs": [],
   "source": []
  },
  {
   "cell_type": "code",
   "execution_count": null,
   "id": "104d557a",
   "metadata": {},
   "outputs": [],
   "source": []
  },
  {
   "cell_type": "code",
   "execution_count": 82,
   "id": "e95737c3",
   "metadata": {},
   "outputs": [],
   "source": [
    "from sklearn.linear_model import Ridge"
   ]
  },
  {
   "cell_type": "code",
   "execution_count": 88,
   "id": "26cf4869",
   "metadata": {},
   "outputs": [
    {
     "name": "stdout",
     "output_type": "stream",
     "text": [
      "Train R2: 0.51  |  Test R2: 0.37 \n",
      "Train RMSE: 5,896,977.87  |  Test RMSE: 19,050,406.56 \n",
      "Train MAE: 1,476,905.36  |  Test MAE: 1,776,483.02\n"
     ]
    }
   ],
   "source": [
    "# Initialize Model\n",
    "ridge = Ridge(random_state=0)\n",
    "\n",
    "# Fit and evaluate\n",
    "print_eval(ridge, X_train_scaled, X_test_scaled, y_train, y_test)"
   ]
  },
  {
   "cell_type": "code",
   "execution_count": null,
   "id": "2fe51132",
   "metadata": {},
   "outputs": [],
   "source": []
  },
  {
   "cell_type": "code",
   "execution_count": null,
   "id": "1312d1f3",
   "metadata": {},
   "outputs": [],
   "source": []
  },
  {
   "cell_type": "markdown",
   "id": "b58fd78a",
   "metadata": {},
   "source": [
    "# Model 2: Random Forest Regressor"
   ]
  },
  {
   "cell_type": "code",
   "execution_count": 13,
   "id": "3fb43eaa",
   "metadata": {},
   "outputs": [],
   "source": [
    "from sklearn.ensemble import RandomForestRegressor"
   ]
  },
  {
   "cell_type": "markdown",
   "id": "6c645b2e",
   "metadata": {},
   "source": [
    "### a. Baseline Model"
   ]
  },
  {
   "cell_type": "code",
   "execution_count": 84,
   "id": "6d090c0c",
   "metadata": {
    "scrolled": true
   },
   "outputs": [
    {
     "name": "stdout",
     "output_type": "stream",
     "text": [
      "Train R2: 0.98  |  Test R2: 0.34 \n",
      "Train RMSE: 1,052,370.12  |  Test RMSE: 19,449,724.62 \n",
      "Train MAE: 43,527.96  |  Test MAE: 336,870.89\n"
     ]
    }
   ],
   "source": [
    "# Initialize model\n",
    "RFreg = RandomForestRegressor(random_state=0)\n",
    "\n",
    "# Fit and evaluate model\n",
    "print_eval(RFreg, X_train_scaled, X_test_scaled, y_train, y_test)"
   ]
  },
  {
   "cell_type": "markdown",
   "id": "f31b78b1",
   "metadata": {},
   "source": [
    "This model overfits, with test performance results slightly worse than the LR model."
   ]
  },
  {
   "cell_type": "markdown",
   "id": "39dd6d0d",
   "metadata": {},
   "source": [
    "### b. Tuning Hyperparameters"
   ]
  },
  {
   "cell_type": "code",
   "execution_count": 62,
   "id": "b766fb79",
   "metadata": {},
   "outputs": [
    {
     "data": {
      "text/plain": [
       "dict_keys(['memory', 'steps', 'verbose', 'standardscaler', 'selectkbest', 'randomforestregressor', 'standardscaler__copy', 'standardscaler__with_mean', 'standardscaler__with_std', 'selectkbest__k', 'selectkbest__score_func', 'randomforestregressor__bootstrap', 'randomforestregressor__ccp_alpha', 'randomforestregressor__criterion', 'randomforestregressor__max_depth', 'randomforestregressor__max_features', 'randomforestregressor__max_leaf_nodes', 'randomforestregressor__max_samples', 'randomforestregressor__min_impurity_decrease', 'randomforestregressor__min_impurity_split', 'randomforestregressor__min_samples_leaf', 'randomforestregressor__min_samples_split', 'randomforestregressor__min_weight_fraction_leaf', 'randomforestregressor__n_estimators', 'randomforestregressor__n_jobs', 'randomforestregressor__oob_score', 'randomforestregressor__random_state', 'randomforestregressor__verbose', 'randomforestregressor__warm_start'])"
      ]
     },
     "execution_count": 62,
     "metadata": {},
     "output_type": "execute_result"
    }
   ],
   "source": [
    "# Create Pipeline\n",
    "pipe_RF = make_pipeline(StandardScaler(), SelectKBest(f_regression), RFreg)\n",
    "pipe_RF.get_params().keys()"
   ]
  },
  {
   "cell_type": "code",
   "execution_count": 61,
   "id": "2942c9d6",
   "metadata": {},
   "outputs": [],
   "source": [
    "# Set hyperparameters to search over\n",
    "\n",
    "n_est = [int(x) for x in np.linspace(start=100,stop=1000,num=10)]\n",
    "max_depth = [int(x) for x in np.linspace(start=10,stop=100,num=10)]\n",
    "k_range = [k+1 for k in range(len(X_train.columns))]\n",
    "\n",
    "param_grid_RF = [\n",
    "    {'standardscaler': [StandardScaler(), RobustScaler(), MaxAbsScaler(), None], 'selectkbest__k': k_range, \n",
    "     'randomforestregressor__n_estimators':n_est, 'randomforestregressor__max_depth':max_depth}]"
   ]
  },
  {
   "cell_type": "code",
   "execution_count": 63,
   "id": "295b92cf",
   "metadata": {},
   "outputs": [
    {
     "data": {
      "text/plain": [
       "RandomizedSearchCV(cv=5,\n",
       "                   estimator=Pipeline(steps=[('standardscaler',\n",
       "                                              StandardScaler()),\n",
       "                                             ('selectkbest',\n",
       "                                              SelectKBest(score_func=<function f_regression at 0x0000023B3F273E50>)),\n",
       "                                             ('randomforestregressor',\n",
       "                                              RandomForestRegressor(random_state=0))]),\n",
       "                   n_iter=75, n_jobs=-1,\n",
       "                   param_distributions=[{'randomforestregressor__max_depth': [10,\n",
       "                                                                              20,\n",
       "                                                                              30,\n",
       "                                                                              40,\n",
       "                                                                              50,\n",
       "                                                                              60,\n",
       "                                                                              70,\n",
       "                                                                              80,\n",
       "                                                                              90,\n",
       "                                                                              100],\n",
       "                                         'randomforestregressor__n_estimators': [100,\n",
       "                                                                                 200,\n",
       "                                                                                 300,\n",
       "                                                                                 400,\n",
       "                                                                                 500,\n",
       "                                                                                 600,\n",
       "                                                                                 700,\n",
       "                                                                                 800,\n",
       "                                                                                 900,\n",
       "                                                                                 1000],\n",
       "                                         'selectkbest__k': [1, 2, 3, 4, 5, 6, 7,\n",
       "                                                            8, 9, 10, 11, 12,\n",
       "                                                            13, 14, 15, 16, 17,\n",
       "                                                            18, 19, 20, 21, 22,\n",
       "                                                            23, 24, 25, 26, 27,\n",
       "                                                            28, 29, 30, ...],\n",
       "                                         'standardscaler': [StandardScaler(),\n",
       "                                                            RobustScaler(),\n",
       "                                                            None]}],\n",
       "                   refit='r2',\n",
       "                   scoring=['r2', 'neg_root_mean_squared_error',\n",
       "                            'neg_mean_absolute_error'])"
      ]
     },
     "execution_count": 63,
     "metadata": {},
     "output_type": "execute_result"
    }
   ],
   "source": [
    "# Randomized Search CV\n",
    "\n",
    "randomcv_rf = RandomizedSearchCV(pipe_RF, param_distributions=param_grid_RF, cv=5,\n",
    "                                 scoring=['r2','neg_root_mean_squared_error','neg_mean_absolute_error'],\n",
    "                                 refit='r2', n_iter=75, n_jobs=-1)\n",
    "\n",
    "randomcv_rf.fit(X_train_scaled, y_train)"
   ]
  },
  {
   "cell_type": "code",
   "execution_count": 64,
   "id": "23519d3b",
   "metadata": {},
   "outputs": [
    {
     "data": {
      "text/plain": [
       "(Pipeline(steps=[('standardscaler', StandardScaler()),\n",
       "                 ('selectkbest',\n",
       "                  SelectKBest(k=4,\n",
       "                              score_func=<function f_regression at 0x0000023B3F273E50>)),\n",
       "                 ('randomforestregressor',\n",
       "                  RandomForestRegressor(max_depth=20, n_estimators=800,\n",
       "                                        random_state=0))]),\n",
       " {'standardscaler': StandardScaler(),\n",
       "  'selectkbest__k': 4,\n",
       "  'randomforestregressor__n_estimators': 800,\n",
       "  'randomforestregressor__max_depth': 20},\n",
       " 0.9178713936394518)"
      ]
     },
     "execution_count": 64,
     "metadata": {},
     "output_type": "execute_result"
    }
   ],
   "source": [
    "# Best estimator properties\n",
    "\n",
    "randomcv_rf.best_estimator_, randomcv_rf.best_params_, randomcv_rf.best_score_"
   ]
  },
  {
   "cell_type": "code",
   "execution_count": 65,
   "id": "a93a2adf",
   "metadata": {},
   "outputs": [
    {
     "name": "stdout",
     "output_type": "stream",
     "text": [
      "Train R2: 0.99  |  Test R2: 0.33 \n",
      "Train RMSE: 1,022,687.57  |  Test RMSE: 19,570,429.22 \n",
      "Train MAE: 31,814.03  |  Test MAE: 302,216.13\n"
     ]
    }
   ],
   "source": [
    "print_eval(randomcv_rf.best_estimator_, X_train_scaled, X_test_scaled, y_train, y_test)"
   ]
  },
  {
   "cell_type": "code",
   "execution_count": 98,
   "id": "b601a4d2",
   "metadata": {},
   "outputs": [
    {
     "data": {
      "image/png": "[encoded data removed]",
      "text/plain": [
       "<Figure size 1080x360 with 1 Axes>"
      ]
     },
     "metadata": {
      "needs_background": "light"
     },
     "output_type": "display_data"
    }
   ],
   "source": [
    "# Viewing feature importances\n",
    "\n",
    "RFbest = RandomForestRegressor(max_depth=20, n_estimators=800, random_state=0).fit(X_train_scaled, y_train)\n",
    "\n",
    "importances = RFbest.feature_importances_\n",
    "std = np.std([tree.feature_importances_ for tree in RFbest.estimators_], axis=0)\n",
    "\n",
    "# Plot\n",
    "forest_importances = pd.Series(importances, index=X.columns)\n",
    "\n",
    "fig, ax = plt.subplots(figsize=(15,5))\n",
    "forest_importances.plot.bar(yerr=std, ax=ax)\n",
    "ax.set_title(\"Feature importances\")\n",
    "ax.set_ylabel(\"Mean decrease in impurity\")\n",
    "fig.tight_layout()"
   ]
  },
  {
   "cell_type": "code",
   "execution_count": null,
   "id": "7640ad16",
   "metadata": {},
   "outputs": [],
   "source": []
  },
  {
   "cell_type": "code",
   "execution_count": null,
   "id": "ff0687ec",
   "metadata": {},
   "outputs": [],
   "source": []
  },
  {
   "cell_type": "code",
   "execution_count": null,
   "id": "94c4d1f2",
   "metadata": {},
   "outputs": [],
   "source": []
  },
  {
   "cell_type": "code",
   "execution_count": null,
   "id": "8e5929ef",
   "metadata": {},
   "outputs": [],
   "source": []
  },
  {
   "cell_type": "code",
   "execution_count": null,
   "id": "dcffd967",
   "metadata": {},
   "outputs": [],
   "source": []
  },
  {
   "cell_type": "code",
   "execution_count": null,
   "id": "20d52561",
   "metadata": {},
   "outputs": [],
   "source": []
  },
  {
   "cell_type": "markdown",
   "id": "f40d51c9",
   "metadata": {},
   "source": [
    "# Model 3: Gradient Boosting Regression"
   ]
  },
  {
   "cell_type": "code",
   "execution_count": 66,
   "id": "bef4de50",
   "metadata": {},
   "outputs": [],
   "source": [
    "from sklearn.ensemble import GradientBoostingRegressor"
   ]
  },
  {
   "cell_type": "markdown",
   "id": "3b4fb087",
   "metadata": {},
   "source": [
    "### a. Baseline Model"
   ]
  },
  {
   "cell_type": "code",
   "execution_count": 67,
   "id": "c117adae",
   "metadata": {},
   "outputs": [
    {
     "name": "stdout",
     "output_type": "stream",
     "text": [
      "Train R2: 1.00  |  Test R2: 0.38 \n",
      "Train RMSE: 495,413.76  |  Test RMSE: 18,904,371.46 \n",
      "Train MAE: 151,844.61  |  Test MAE: 435,080.25\n"
     ]
    }
   ],
   "source": [
    "# Initialize model\n",
    "GBreg = GradientBoostingRegressor(random_state=0)\n",
    "\n",
    "# Fit, predict, and evaluate\n",
    "print_eval(GBreg, X_train_scaled, X_test_scaled, y_train, y_test)"
   ]
  },
  {
   "cell_type": "markdown",
   "id": "8a4e63ab",
   "metadata": {},
   "source": [
    "### b. Tuning Hyperparameters"
   ]
  },
  {
   "cell_type": "code",
   "execution_count": 68,
   "id": "ca575dd1",
   "metadata": {},
   "outputs": [
    {
     "data": {
      "text/plain": [
       "dict_keys(['memory', 'steps', 'verbose', 'standardscaler', 'selectkbest', 'gradientboostingregressor', 'standardscaler__copy', 'standardscaler__with_mean', 'standardscaler__with_std', 'selectkbest__k', 'selectkbest__score_func', 'gradientboostingregressor__alpha', 'gradientboostingregressor__ccp_alpha', 'gradientboostingregressor__criterion', 'gradientboostingregressor__init', 'gradientboostingregressor__learning_rate', 'gradientboostingregressor__loss', 'gradientboostingregressor__max_depth', 'gradientboostingregressor__max_features', 'gradientboostingregressor__max_leaf_nodes', 'gradientboostingregressor__min_impurity_decrease', 'gradientboostingregressor__min_impurity_split', 'gradientboostingregressor__min_samples_leaf', 'gradientboostingregressor__min_samples_split', 'gradientboostingregressor__min_weight_fraction_leaf', 'gradientboostingregressor__n_estimators', 'gradientboostingregressor__n_iter_no_change', 'gradientboostingregressor__random_state', 'gradientboostingregressor__subsample', 'gradientboostingregressor__tol', 'gradientboostingregressor__validation_fraction', 'gradientboostingregressor__verbose', 'gradientboostingregressor__warm_start'])"
      ]
     },
     "execution_count": 68,
     "metadata": {},
     "output_type": "execute_result"
    }
   ],
   "source": [
    "# Create Pipeline\n",
    "pipe_GB = make_pipeline(StandardScaler(), SelectKBest(f_regression), GBreg)\n",
    "pipe_GB.get_params().keys()"
   ]
  },
  {
   "cell_type": "code",
   "execution_count": 70,
   "id": "506c19c5",
   "metadata": {},
   "outputs": [],
   "source": [
    "# Define hyperparameters to search over\n",
    "\n",
    "n_est = [int(x) for x in np.linspace(start=100,stop=1000,num=10)]\n",
    "max_feat = ['auto','sqrt','log2',None]\n",
    "max_depth = [int(x) for x in np.linspace(start=10,stop=100,num=10)]\n",
    "learning_rate = [0.001, 0.01, 0.1, 0.2, 0.3, 0.4]\n",
    "k_range = [k+1 for k in range(len(X_train.columns))]\n",
    "\n",
    "param_grid_GB = [\n",
    "    {'standardscaler': [StandardScaler(), RobustScaler(), MaxAbsScaler(), None], 'selectkbest__k': k_range, \n",
    "     'gradientboostingregressor__n_estimators':n_est, 'gradientboostingregressor__max_depth':max_depth,\n",
    "     'gradientboostingregressor__max_features':max_feat, 'gradientboostingregressor__learning_rate':learning_rate}]"
   ]
  },
  {
   "cell_type": "code",
   "execution_count": 72,
   "id": "b87c6acf",
   "metadata": {},
   "outputs": [
    {
     "data": {
      "text/plain": [
       "RandomizedSearchCV(cv=5,\n",
       "                   estimator=Pipeline(steps=[('standardscaler',\n",
       "                                              StandardScaler()),\n",
       "                                             ('selectkbest',\n",
       "                                              SelectKBest(score_func=<function f_regression at 0x0000023B3F273E50>)),\n",
       "                                             ('gradientboostingregressor',\n",
       "                                              GradientBoostingRegressor(random_state=0))]),\n",
       "                   n_iter=75, n_jobs=-1,\n",
       "                   param_distributions=[{'gradientboostingregressor__learning_rate': [0.001,\n",
       "                                                                                      0.01,\n",
       "                                                                                      0.1,\n",
       "                                                                                      0.2,\n",
       "                                                                                      0....\n",
       "                                         'gradientboostingregressor__max_features': ['auto',\n",
       "                                                                                     'sqrt',\n",
       "                                                                                     'log2',\n",
       "                                                                                     None],\n",
       "                                         'gradientboostingregressor__n_estimators': [100,\n",
       "                                                                                     200,\n",
       "                                                                                     300,\n",
       "                                                                                     400,\n",
       "                                                                                     500,\n",
       "                                                                                     600,\n",
       "                                                                                     700,\n",
       "                                                                                     800,\n",
       "                                                                                     900,\n",
       "                                                                                     1000],\n",
       "                                         'selectkbest__k': [1, 2, 3, 4, 5, 6, 7,\n",
       "                                                            8, 9, 10, 11, 12,\n",
       "                                                            13, 14, 15, 16, 17,\n",
       "                                                            18, 19, 20, 21, 22,\n",
       "                                                            23, 24, 25, 26, 27,\n",
       "                                                            28, 29, 30, ...],\n",
       "                                         'standardscaler': [StandardScaler(),\n",
       "                                                            RobustScaler(),\n",
       "                                                            MaxAbsScaler(),\n",
       "                                                            None]}],\n",
       "                   refit='r2', scoring=['r2', 'neg_root_mean_squared_error'])"
      ]
     },
     "execution_count": 72,
     "metadata": {},
     "output_type": "execute_result"
    }
   ],
   "source": [
    "# Randomized Search CV\n",
    "\n",
    "randomcv_gb = RandomizedSearchCV(pipe_GB, param_distributions=param_grid_GB, cv=5, \n",
    "                                 scoring=['r2','neg_root_mean_squared_error'],\n",
    "                                 refit='r2', n_iter=75, n_jobs=-1)\n",
    "randomcv_gb.fit(X_train_scaled, y_train)"
   ]
  },
  {
   "cell_type": "code",
   "execution_count": 73,
   "id": "09d47a58",
   "metadata": {},
   "outputs": [
    {
     "data": {
      "text/plain": [
       "(Pipeline(steps=[('standardscaler', MaxAbsScaler()),\n",
       "                 ('selectkbest',\n",
       "                  SelectKBest(k=4,\n",
       "                              score_func=<function f_regression at 0x0000023B3F273E50>)),\n",
       "                 ('gradientboostingregressor',\n",
       "                  GradientBoostingRegressor(max_depth=90, max_features='sqrt',\n",
       "                                            n_estimators=1000,\n",
       "                                            random_state=0))]),\n",
       " {'standardscaler': MaxAbsScaler(),\n",
       "  'selectkbest__k': 4,\n",
       "  'gradientboostingregressor__n_estimators': 1000,\n",
       "  'gradientboostingregressor__max_features': 'sqrt',\n",
       "  'gradientboostingregressor__max_depth': 90,\n",
       "  'gradientboostingregressor__learning_rate': 0.1},\n",
       " -0.8891730569551081)"
      ]
     },
     "execution_count": 73,
     "metadata": {},
     "output_type": "execute_result"
    }
   ],
   "source": [
    "# Best estimator properties\n",
    "\n",
    "randomcv_gb.best_estimator_, randomcv_gb.best_params_, -randomcv_gb.best_score_"
   ]
  },
  {
   "cell_type": "code",
   "execution_count": 74,
   "id": "e582c08f",
   "metadata": {
    "scrolled": true
   },
   "outputs": [
    {
     "name": "stdout",
     "output_type": "stream",
     "text": [
      "Train R2: 1.00  |  Test R2: 0.38 \n",
      "Train RMSE: 0.00  |  Test RMSE: 18,884,737.81 \n",
      "Train MAE: 0.00  |  Test MAE: 369,472.97\n"
     ]
    }
   ],
   "source": [
    "print_eval(randomcv_gb.best_estimator_, X_train_scaled, X_test_scaled, y_train, y_test)"
   ]
  },
  {
   "cell_type": "code",
   "execution_count": null,
   "id": "21bf1a36",
   "metadata": {},
   "outputs": [],
   "source": []
  },
  {
   "cell_type": "code",
   "execution_count": null,
   "id": "584bf135",
   "metadata": {},
   "outputs": [],
   "source": []
  },
  {
   "cell_type": "code",
   "execution_count": null,
   "id": "e06f39e8",
   "metadata": {},
   "outputs": [],
   "source": []
  }
 ],
 "metadata": {
  "kernelspec": {
   "display_name": "Python 3 (ipykernel)",
   "language": "python",
   "name": "python3"
  },
  "language_info": {
   "codemirror_mode": {
    "name": "ipython",
    "version": 3
   },
   "file_extension": ".py",
   "mimetype": "text/x-python",
   "name": "python",
   "nbconvert_exporter": "python",
   "pygments_lexer": "ipython3",
   "version": "3.8.12"
  }
 },
 "nbformat": 4,
 "nbformat_minor": 5
}
