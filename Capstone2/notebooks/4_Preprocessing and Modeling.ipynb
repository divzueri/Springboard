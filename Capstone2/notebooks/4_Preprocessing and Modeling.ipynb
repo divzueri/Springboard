{
 "cells": [
  {
   "cell_type": "code",
   "execution_count": 40,
   "id": "ef62f90d",
   "metadata": {},
   "outputs": [],
   "source": [
    "import pandas as pd\n",
    "import numpy as np\n",
    "import matplotlib.pyplot as plt\n",
    "from datetime import datetime\n",
    "import seaborn as sns\n",
    "\n",
    "from sklearn.model_selection import train_test_split, cross_validate, RandomizedSearchCV, GridSearchCV\n",
    "from sklearn.preprocessing import StandardScaler\n",
    "from sklearn.feature_selection import SelectKBest, f_regression\n",
    "from sklearn.linear_model import LinearRegression\n",
    "\n",
    "from sklearn.pipeline import make_pipeline\n",
    "from sklearn.metrics import r2_score, mean_squared_error, mean_absolute_error\n",
    "\n",
    "import os"
   ]
  },
  {
   "cell_type": "code",
   "execution_count": 2,
   "id": "d0fc82e1",
   "metadata": {},
   "outputs": [],
   "source": [
    "pd.options.display.float_format = '{:20,.2f}'.format"
   ]
  },
  {
   "cell_type": "code",
   "execution_count": 3,
   "id": "ca2f25f5",
   "metadata": {},
   "outputs": [],
   "source": [
    "steam_data2 = pd.read_csv('../data/steam_clean2.csv', parse_dates=['release_date'], index_col=0)"
   ]
  },
  {
   "cell_type": "code",
   "execution_count": 4,
   "id": "995fca09",
   "metadata": {},
   "outputs": [
    {
     "data": {
      "text/plain": [
       "(26356, 43)"
      ]
     },
     "execution_count": 4,
     "metadata": {},
     "output_type": "execute_result"
    }
   ],
   "source": [
    "steam_data2.shape"
   ]
  },
  {
   "cell_type": "code",
   "execution_count": 5,
   "id": "ead91d01",
   "metadata": {},
   "outputs": [
    {
     "name": "stdout",
     "output_type": "stream",
     "text": [
      "<class 'pandas.core.frame.DataFrame'>\n",
      "Int64Index: 26356 entries, 0 to 27074\n",
      "Data columns (total 43 columns):\n",
      " #   Column            Non-Null Count  Dtype         \n",
      "---  ------            --------------  -----         \n",
      " 0   appid             26356 non-null  int64         \n",
      " 1   name              26356 non-null  object        \n",
      " 2   release_date      26356 non-null  datetime64[ns]\n",
      " 3   yrs_released      26356 non-null  int64         \n",
      " 4   winter            26356 non-null  int64         \n",
      " 5   spring            26356 non-null  int64         \n",
      " 6   summer            26356 non-null  int64         \n",
      " 7   fall              26356 non-null  int64         \n",
      " 8   achievements      26356 non-null  int64         \n",
      " 9   average_playtime  26356 non-null  int64         \n",
      " 10  median_playtime   26356 non-null  int64         \n",
      " 11  price             26356 non-null  float64       \n",
      " 12  avg_owners        26356 non-null  float64       \n",
      " 13  revenue           26356 non-null  float64       \n",
      " 14  total_ratings     26356 non-null  int64         \n",
      " 15  perc_pos_ratings  26356 non-null  float64       \n",
      " 16  tags_per_game     26356 non-null  int64         \n",
      " 17  multi             26356 non-null  int64         \n",
      " 18  co-op             26356 non-null  int64         \n",
      " 19  cont_supp         26356 non-null  int64         \n",
      " 20  steam_achiev      26356 non-null  int64         \n",
      " 21  steam_tc          26356 non-null  int64         \n",
      " 22  steam_cloud       26356 non-null  int64         \n",
      " 23  indie             26356 non-null  int64         \n",
      " 24  action            26356 non-null  int64         \n",
      " 25  adventure         26356 non-null  int64         \n",
      " 26  casual            26356 non-null  int64         \n",
      " 27  strategy          26356 non-null  int64         \n",
      " 28  simulation        26356 non-null  int64         \n",
      " 29  rpg               26356 non-null  int64         \n",
      " 30  puzzle            26356 non-null  int64         \n",
      " 31  2d                26356 non-null  int64         \n",
      " 32  great_soundtrack  26356 non-null  int64         \n",
      " 33  atmospheric       26356 non-null  int64         \n",
      " 34  vr                26356 non-null  int64         \n",
      " 35  difficult         26356 non-null  int64         \n",
      " 36  story_rich        26356 non-null  int64         \n",
      " 37  free_to_play      26356 non-null  int64         \n",
      " 38  anime             26356 non-null  int64         \n",
      " 39  horror            26356 non-null  int64         \n",
      " 40  platformer        26356 non-null  int64         \n",
      " 41  pixel_graphics    26356 non-null  int64         \n",
      " 42  violent           26356 non-null  int64         \n",
      "dtypes: datetime64[ns](1), float64(4), int64(37), object(1)\n",
      "memory usage: 8.8+ MB\n"
     ]
    }
   ],
   "source": [
    "steam_data2.info()"
   ]
  },
  {
   "cell_type": "markdown",
   "id": "30d6ef86",
   "metadata": {},
   "source": [
    "# 1. Predicting Revenue"
   ]
  },
  {
   "cell_type": "markdown",
   "id": "7c1bc022",
   "metadata": {},
   "source": [
    "### Preprocessing"
   ]
  },
  {
   "cell_type": "markdown",
   "id": "ae84328a",
   "metadata": {},
   "source": [
    "#### a. Split into Train/Test"
   ]
  },
  {
   "cell_type": "code",
   "execution_count": 6,
   "id": "1b580c58",
   "metadata": {},
   "outputs": [],
   "source": [
    "# Define X and y\n",
    "X = steam_data2.drop(columns=['revenue', 'appid', 'name', 'release_date'])\n",
    "y = steam_data2.revenue"
   ]
  },
  {
   "cell_type": "code",
   "execution_count": 7,
   "id": "b497f22e",
   "metadata": {},
   "outputs": [
    {
     "data": {
      "text/plain": [
       "((26356, 39), (26356,))"
      ]
     },
     "execution_count": 7,
     "metadata": {},
     "output_type": "execute_result"
    }
   ],
   "source": [
    "X.shape, y.shape"
   ]
  },
  {
   "cell_type": "code",
   "execution_count": 8,
   "id": "40de7d34",
   "metadata": {},
   "outputs": [],
   "source": [
    "# Split into train/test\n",
    "X_train, X_test, y_train, y_test = train_test_split(X, y, test_size=0.3)"
   ]
  },
  {
   "cell_type": "code",
   "execution_count": 9,
   "id": "22c7f413",
   "metadata": {
    "scrolled": true
   },
   "outputs": [
    {
     "data": {
      "text/plain": [
       "((18449, 39), (7907, 39))"
      ]
     },
     "execution_count": 9,
     "metadata": {},
     "output_type": "execute_result"
    }
   ],
   "source": [
    "X_train.shape, X_test.shape"
   ]
  },
  {
   "cell_type": "markdown",
   "id": "3d670fce",
   "metadata": {},
   "source": [
    "#### b. Scale Data"
   ]
  },
  {
   "cell_type": "code",
   "execution_count": 10,
   "id": "27025055",
   "metadata": {},
   "outputs": [],
   "source": [
    "# Initialize scaler\n",
    "scaler = StandardScaler()\n",
    "\n",
    "# Fit to training data\n",
    "scaler.fit(X_train)\n",
    "# Transform train and test data\n",
    "X_train_scaled = scaler.transform(X_train)\n",
    "X_test_scaled = scaler.transform(X_test)"
   ]
  },
  {
   "cell_type": "markdown",
   "id": "961324a2",
   "metadata": {},
   "source": [
    "### Model 1: Linear Regression"
   ]
  },
  {
   "cell_type": "markdown",
   "id": "ad9c4c24",
   "metadata": {},
   "source": [
    "#### a. Baseline Model"
   ]
  },
  {
   "cell_type": "code",
   "execution_count": 11,
   "id": "5c3aec95",
   "metadata": {},
   "outputs": [],
   "source": [
    "# Initialize and fit model\n",
    "lm = LinearRegression()\n",
    "lm.fit(X_train_scaled, y_train)\n",
    "\n",
    "# Make predictions\n",
    "y_train_pred = lm.predict(X_train_scaled)\n",
    "y_test_pred = lm.predict(X_test_scaled)"
   ]
  },
  {
   "cell_type": "code",
   "execution_count": 12,
   "id": "656c9ee8",
   "metadata": {},
   "outputs": [
    {
     "data": {
      "text/plain": [
       "(0.4104735499816454, 0.3406146035383687)"
      ]
     },
     "execution_count": 12,
     "metadata": {},
     "output_type": "execute_result"
    }
   ],
   "source": [
    "r2_score(y_train, y_train_pred), r2_score(y_test, y_test_pred)"
   ]
  },
  {
   "cell_type": "code",
   "execution_count": 13,
   "id": "3cec3d8a",
   "metadata": {},
   "outputs": [
    {
     "data": {
      "text/plain": [
       "(42605077434615.54, 376315013484831.5)"
      ]
     },
     "execution_count": 13,
     "metadata": {},
     "output_type": "execute_result"
    }
   ],
   "source": [
    "mean_squared_error(y_train, y_train_pred), mean_squared_error(y_test, y_test_pred)"
   ]
  },
  {
   "cell_type": "code",
   "execution_count": 14,
   "id": "ed252eb3",
   "metadata": {},
   "outputs": [
    {
     "data": {
      "text/plain": [
       "(1813658.2069953515, 2032769.1750683847)"
      ]
     },
     "execution_count": 14,
     "metadata": {},
     "output_type": "execute_result"
    }
   ],
   "source": [
    "mean_absolute_error(y_train, y_train_pred), mean_absolute_error(y_test, y_test_pred)"
   ]
  },
  {
   "cell_type": "markdown",
   "id": "25c7a3a7",
   "metadata": {},
   "source": [
    "#### b. Tuning Hyperparameters"
   ]
  },
  {
   "cell_type": "code",
   "execution_count": 27,
   "id": "b839d256",
   "metadata": {},
   "outputs": [
    {
     "data": {
      "text/plain": [
       "(-0.10339593870760817, 0.9577002345202454)"
      ]
     },
     "execution_count": 27,
     "metadata": {},
     "output_type": "execute_result"
    }
   ],
   "source": [
    "# Make a pipeline\n",
    "pipe_lm = make_pipeline(StandardScaler(), SelectKBest(f_regression), LinearRegression())\n",
    "\n",
    "# Cross-validation\n",
    "cv_lm_results = cross_validate(pipe_lm, X_train, y_train, scoring='r2', cv=5)\n",
    "cv_lm_scores = cv_lm_results['test_score']\n",
    "np.mean(cv_lm_scores), np.std(cv_lm_scores)"
   ]
  },
  {
   "cell_type": "code",
   "execution_count": 45,
   "id": "6cf3d2b2",
   "metadata": {},
   "outputs": [
    {
     "data": {
      "text/plain": [
       "GridSearchCV(cv=5,\n",
       "             estimator=Pipeline(steps=[('standardscaler', StandardScaler()),\n",
       "                                       ('selectkbest',\n",
       "                                        SelectKBest(score_func=<function f_regression at 0x000002B0A6CB7B80>)),\n",
       "                                       ('linearregression',\n",
       "                                        LinearRegression())]),\n",
       "             param_grid={'selectkbest__k': [1, 2, 3, 4, 5, 6, 7, 8, 9, 10, 11,\n",
       "                                            12, 13, 14, 15, 16, 17, 18, 19, 20,\n",
       "                                            21, 22, 23, 24, 25, 26, 27, 28, 29,\n",
       "                                            30, ...]})"
      ]
     },
     "execution_count": 45,
     "metadata": {},
     "output_type": "execute_result"
    }
   ],
   "source": [
    "# Grid Search CV\n",
    "k_range = [k+1 for k in range(len(X_train.columns))]\n",
    "param_grid_lm = {'selectkbest__k': k_range}\n",
    "\n",
    "gridcv_lm = GridSearchCV(pipe_lm, param_grid=param_grid_lm, cv=5)\n",
    "gridcv_lm.fit(X_train, y_train)"
   ]
  },
  {
   "cell_type": "code",
   "execution_count": 46,
   "id": "34f9faab",
   "metadata": {},
   "outputs": [
    {
     "name": "stdout",
     "output_type": "stream",
     "text": [
      "{'selectkbest__k': 1} -0.045478262315391406\n"
     ]
    }
   ],
   "source": [
    "print(gridcv_lm.best_params_, gridcv_lm.best_score_)"
   ]
  },
  {
   "cell_type": "code",
   "execution_count": 52,
   "id": "9d04e0d9",
   "metadata": {},
   "outputs": [],
   "source": [
    "score_mean = gridcv_lm.cv_results_['mean_test_score']\n",
    "score_std = gridcv_lm.cv_results_['std_test_score']\n",
    "cv_k = [k for k in gridcv_lm.cv_results_['param_selectkbest__k']]"
   ]
  },
  {
   "cell_type": "code",
   "execution_count": 57,
   "id": "130c004d",
   "metadata": {},
   "outputs": [
    {
     "data": {
      "image/png": "[encoded data removed]",
      "text/plain": [
       "<Figure size 720x360 with 1 Axes>"
      ]
     },
     "metadata": {
      "needs_background": "light"
     },
     "output_type": "display_data"
    }
   ],
   "source": [
    "best_k = gridcv_lm.best_params_['selectkbest__k']\n",
    "plt.subplots(figsize=(10, 5))\n",
    "plt.errorbar(cv_k, score_mean, yerr=score_std)\n",
    "plt.axvline(x=best_k, c='r', ls='--', alpha=.5)\n",
    "plt.xlabel('k')\n",
    "plt.ylabel('CV score (r-squared)')\n",
    "plt.title('Pipeline mean CV score (error bars +/- 1sd)');"
   ]
  },
  {
   "cell_type": "code",
   "execution_count": null,
   "id": "cd7f2c63",
   "metadata": {},
   "outputs": [],
   "source": []
  },
  {
   "cell_type": "code",
   "execution_count": null,
   "id": "a2a2f51c",
   "metadata": {},
   "outputs": [],
   "source": []
  },
  {
   "cell_type": "code",
   "execution_count": null,
   "id": "02979ede",
   "metadata": {},
   "outputs": [],
   "source": []
  },
  {
   "cell_type": "code",
   "execution_count": null,
   "id": "a1dc4bb7",
   "metadata": {},
   "outputs": [],
   "source": []
  },
  {
   "cell_type": "code",
   "execution_count": null,
   "id": "b604062f",
   "metadata": {},
   "outputs": [],
   "source": []
  },
  {
   "cell_type": "markdown",
   "id": "b58fd78a",
   "metadata": {},
   "source": [
    "### Model 2: Random Forest Regressor"
   ]
  },
  {
   "cell_type": "code",
   "execution_count": null,
   "id": "3fb43eaa",
   "metadata": {},
   "outputs": [],
   "source": [
    "from sklearn.ensemble import RandomForestRegressor"
   ]
  },
  {
   "cell_type": "markdown",
   "id": "6c645b2e",
   "metadata": {},
   "source": [
    "#### a. Baseline Model"
   ]
  },
  {
   "cell_type": "code",
   "execution_count": 32,
   "id": "6d090c0c",
   "metadata": {},
   "outputs": [],
   "source": [
    "# Initialize and fit data\n",
    "RFreg = RandomForestRegressor(random_state=0)\n",
    "\n",
    "RFreg.fit(X_train_scaled, y_train)\n",
    "\n",
    "# Make predictions\n",
    "y_train_pred = RFreg.predict(X_train_scaled)\n",
    "y_test_pred = RFreg.predict(X_test_scaled)"
   ]
  },
  {
   "cell_type": "code",
   "execution_count": 33,
   "id": "aab5dd74",
   "metadata": {},
   "outputs": [
    {
     "data": {
      "text/plain": [
       "(0.9798872539842325, 0.3237193824606306)"
      ]
     },
     "execution_count": 33,
     "metadata": {},
     "output_type": "execute_result"
    }
   ],
   "source": [
    "r2_score(y_train, y_train_pred), r2_score(y_test, y_test_pred)"
   ]
  },
  {
   "cell_type": "code",
   "execution_count": 97,
   "id": "34868290",
   "metadata": {},
   "outputs": [
    {
     "data": {
      "text/plain": [
       "(1162165.547065794, 19673459.22667044)"
      ]
     },
     "execution_count": 97,
     "metadata": {},
     "output_type": "execute_result"
    }
   ],
   "source": [
    "np.sqrt(mean_squared_error(y_train, y_train_pred)), np.sqrt(mean_squared_error(y_test, y_test_pred))"
   ]
  },
  {
   "cell_type": "code",
   "execution_count": 37,
   "id": "2800511b",
   "metadata": {},
   "outputs": [
    {
     "data": {
      "text/plain": [
       "(47979.82817496883, 311825.0774630075)"
      ]
     },
     "execution_count": 37,
     "metadata": {},
     "output_type": "execute_result"
    }
   ],
   "source": [
    "mean_absolute_error(y_train, y_train_pred), mean_absolute_error(y_test, y_test_pred)"
   ]
  },
  {
   "cell_type": "markdown",
   "id": "39dd6d0d",
   "metadata": {},
   "source": [
    "#### b. Tuning Hyperparameters"
   ]
  },
  {
   "cell_type": "code",
   "execution_count": 39,
   "id": "2942c9d6",
   "metadata": {},
   "outputs": [],
   "source": [
    "n_est = [int(x) for x in np.linspace(start=10,stop=1000,num=100)]\n",
    "max_feat = ['auto','sqrt','log2',None]\n",
    "max_depth = [int(x) for x in np.linspace(start=10,stop=100,num=10)]\n",
    "max_depth.append(None)\n",
    "\n",
    "param_grid_RF = [\n",
    "    {'n_estimators':n_est, 'max_features':max_feat,\n",
    "    'max_depth':max_depth, 'bootstrap':[True, False]}]"
   ]
  },
  {
   "cell_type": "code",
   "execution_count": 72,
   "id": "295b92cf",
   "metadata": {},
   "outputs": [
    {
     "data": {
      "text/plain": [
       "RandomizedSearchCV(cv=5, estimator=RandomForestRegressor(random_state=0),\n",
       "                   n_iter=20, n_jobs=-1,\n",
       "                   param_distributions=[{'bootstrap': [True, False],\n",
       "                                         'max_depth': [10, 20, 30, 40, 50, 60,\n",
       "                                                       70, 80, 90, 100, None],\n",
       "                                         'max_features': ['auto', 'sqrt',\n",
       "                                                          'log2', None],\n",
       "                                         'n_estimators': [10, 20, 30, 40, 50,\n",
       "                                                          60, 70, 80, 90, 100,\n",
       "                                                          110, 120, 130, 140,\n",
       "                                                          150, 160, 170, 180,\n",
       "                                                          190, 200, 210, 220,\n",
       "                                                          230, 240, 250, 260,\n",
       "                                                          270, 280, 290, 300, ...]}],\n",
       "                   refit='neg_root_mean_squared_error',\n",
       "                   scoring=['r2', 'neg_root_mean_squared_error'])"
      ]
     },
     "execution_count": 72,
     "metadata": {},
     "output_type": "execute_result"
    }
   ],
   "source": [
    "RF = RandomForestRegressor(random_state=0)\n",
    "\n",
    "randomcv_rf = RandomizedSearchCV(RF, param_distributions=param_grid_RF, cv=5, scoring=['r2','neg_root_mean_squared_error'],\n",
    "                                 refit='neg_root_mean_squared_error', n_iter=20, n_jobs=-1)\n",
    "randomcv_rf.fit(X_train_scaled, y_train)"
   ]
  },
  {
   "cell_type": "code",
   "execution_count": 85,
   "id": "15268d23",
   "metadata": {},
   "outputs": [
    {
     "name": "stdout",
     "output_type": "stream",
     "text": [
      "Params: {'n_estimators': 10, 'max_features': None, 'max_depth': 20, 'bootstrap': False} \n",
      " R2: 0.7528311999401899 | RMSE: 4016241.001842282 | Fit Time: 1.322209119796753 sec \n",
      "\n",
      "Params: {'n_estimators': 540, 'max_features': 'auto', 'max_depth': None, 'bootstrap': True} \n",
      " R2: 0.8797732176590787 | RMSE: 2851793.069267135 | Fit Time: 43.86522650718689 sec \n",
      "\n",
      "Params: {'n_estimators': 130, 'max_features': 'sqrt', 'max_depth': 90, 'bootstrap': False} \n",
      " R2: 0.7924059543718485 | RMSE: 3841342.413268406 | Fit Time: 5.385624837875366 sec \n",
      "\n",
      "Params: {'n_estimators': 270, 'max_features': 'log2', 'max_depth': 80, 'bootstrap': True} \n",
      " R2: 0.7375531078936165 | RMSE: 4323774.213470918 | Fit Time: 6.401364135742187 sec \n",
      "\n",
      "Params: {'n_estimators': 150, 'max_features': None, 'max_depth': 70, 'bootstrap': True} \n",
      " R2: 0.8771667776047245 | RMSE: 2895144.448228608 | Fit Time: 11.381531476974487 sec \n",
      "\n",
      "Params: {'n_estimators': 950, 'max_features': None, 'max_depth': None, 'bootstrap': True} \n",
      " R2: 0.8768704314025729 | RMSE: 2889192.590197975 | Fit Time: 74.08113350868226 sec \n",
      "\n",
      "Params: {'n_estimators': 690, 'max_features': 'sqrt', 'max_depth': 50, 'bootstrap': True} \n",
      " R2: 0.7558297041258637 | RMSE: 4172442.089227584 | Fit Time: 17.289204025268553 sec \n",
      "\n",
      "Params: {'n_estimators': 240, 'max_features': None, 'max_depth': 60, 'bootstrap': False} \n",
      " R2: 0.7610306981980794 | RMSE: 3954885.698018777 | Fit Time: 32.919000720977785 sec \n",
      "\n",
      "Params: {'n_estimators': 350, 'max_features': None, 'max_depth': 40, 'bootstrap': False} \n",
      " R2: 0.7609844379145778 | RMSE: 3955371.8569628308 | Fit Time: 46.41796455383301 sec \n",
      "\n",
      "Params: {'n_estimators': 820, 'max_features': None, 'max_depth': 100, 'bootstrap': False} \n",
      " R2: 0.7628848573839219 | RMSE: 3938128.2893222338 | Fit Time: 108.5090639591217 sec \n",
      "\n",
      "Params: {'n_estimators': 440, 'max_features': 'sqrt', 'max_depth': 10, 'bootstrap': False} \n",
      " R2: 0.7920440624025733 | RMSE: 3835739.444879888 | Fit Time: 8.005619001388549 sec \n",
      "\n",
      "Params: {'n_estimators': 980, 'max_features': None, 'max_depth': 40, 'bootstrap': False} \n",
      " R2: 0.7627399072467286 | RMSE: 3940855.538865981 | Fit Time: 133.30948429107667 sec \n",
      "\n",
      "Params: {'n_estimators': 840, 'max_features': None, 'max_depth': 20, 'bootstrap': True} \n",
      " R2: 0.8770739824036197 | RMSE: 2888759.6740987254 | Fit Time: 70.46358489990234 sec \n",
      "\n",
      "Params: {'n_estimators': 610, 'max_features': 'auto', 'max_depth': 100, 'bootstrap': True} \n",
      " R2: 0.8788879466471299 | RMSE: 2862935.906774746 | Fit Time: 52.564854860305786 sec \n",
      "\n",
      "Params: {'n_estimators': 920, 'max_features': 'auto', 'max_depth': 20, 'bootstrap': False} \n",
      " R2: 0.7628065951051886 | RMSE: 3939935.478397522 | Fit Time: 135.67939882278444 sec \n",
      "\n",
      "Params: {'n_estimators': 610, 'max_features': 'sqrt', 'max_depth': 10, 'bootstrap': False} \n",
      " R2: 0.7881228691964026 | RMSE: 3874323.101877223 | Fit Time: 11.720504760742188 sec \n",
      "\n",
      "Params: {'n_estimators': 50, 'max_features': 'sqrt', 'max_depth': 40, 'bootstrap': False} \n",
      " R2: 0.7741080869018727 | RMSE: 4017001.150680697 | Fit Time: 2.157596778869629 sec \n",
      "\n",
      "Params: {'n_estimators': 230, 'max_features': 'sqrt', 'max_depth': 40, 'bootstrap': False} \n",
      " R2: 0.7886748250853678 | RMSE: 3879841.5214242386 | Fit Time: 9.727227783203125 sec \n",
      "\n",
      "Params: {'n_estimators': 500, 'max_features': 'auto', 'max_depth': None, 'bootstrap': False} \n",
      " R2: 0.762461094408339 | RMSE: 3940678.6289684447 | Fit Time: 77.45022535324097 sec \n",
      "\n",
      "Params: {'n_estimators': 810, 'max_features': 'log2', 'max_depth': 90, 'bootstrap': False} \n",
      " R2: 0.7692478895929572 | RMSE: 4054446.0440107025 | Fit Time: 28.364286947250367 sec \n",
      "\n"
     ]
    }
   ],
   "source": [
    "randomcv_rf_results = randomcv_rf.cv_results_\n",
    "\n",
    "for fit_time, mean_r2, mean_neg_rmse, params in zip(randomcv_rf_results[\"mean_fit_time\"], randomcv_rf_results[\"mean_test_r2\"], randomcv_rf_results['mean_test_neg_root_mean_squared_error'], randomcv_rf_results[\"params\"]):\n",
    "    print('Params:', params, '\\n', 'R2:', mean_r2, '|', 'RMSE:', -mean_neg_rmse, '|', 'Fit Time:', fit_time, 'sec', '\\n')"
   ]
  },
  {
   "cell_type": "code",
   "execution_count": 74,
   "id": "f9b2b8b1",
   "metadata": {},
   "outputs": [
    {
     "data": {
      "text/plain": [
       "dict_keys(['mean_fit_time', 'std_fit_time', 'mean_score_time', 'std_score_time', 'param_n_estimators', 'param_max_features', 'param_max_depth', 'param_bootstrap', 'params', 'split0_test_r2', 'split1_test_r2', 'split2_test_r2', 'split3_test_r2', 'split4_test_r2', 'mean_test_r2', 'std_test_r2', 'rank_test_r2', 'split0_test_neg_root_mean_squared_error', 'split1_test_neg_root_mean_squared_error', 'split2_test_neg_root_mean_squared_error', 'split3_test_neg_root_mean_squared_error', 'split4_test_neg_root_mean_squared_error', 'mean_test_neg_root_mean_squared_error', 'std_test_neg_root_mean_squared_error', 'rank_test_neg_root_mean_squared_error'])"
      ]
     },
     "execution_count": 74,
     "metadata": {},
     "output_type": "execute_result"
    }
   ],
   "source": [
    "randomcv_rf.cv_results_.keys()"
   ]
  },
  {
   "cell_type": "code",
   "execution_count": 99,
   "id": "ff33c962",
   "metadata": {
    "scrolled": true
   },
   "outputs": [
    {
     "data": {
      "text/plain": [
       "(RandomForestRegressor(n_estimators=540, random_state=0),\n",
       " {'n_estimators': 540,\n",
       "  'max_features': 'auto',\n",
       "  'max_depth': None,\n",
       "  'bootstrap': True},\n",
       " 2851793.069267135)"
      ]
     },
     "execution_count": 99,
     "metadata": {},
     "output_type": "execute_result"
    }
   ],
   "source": [
    "randomcv_rf.best_estimator_, randomcv_rf.best_params_, -randomcv_rf.best_score_"
   ]
  },
  {
   "cell_type": "code",
   "execution_count": 93,
   "id": "d442d3c7",
   "metadata": {},
   "outputs": [],
   "source": [
    "y_train_pred = randomcv_rf.predict(X_train_scaled)\n",
    "y_test_pred = randomcv_rf.predict(X_test_scaled)"
   ]
  },
  {
   "cell_type": "code",
   "execution_count": 89,
   "id": "d487de85",
   "metadata": {},
   "outputs": [
    {
     "data": {
      "text/plain": [
       "(0.9813113500689633, 0.3218133471368143)"
      ]
     },
     "execution_count": 89,
     "metadata": {},
     "output_type": "execute_result"
    }
   ],
   "source": [
    "r2_score(y_train, y_train_pred), r2_score(y_test, y_test_pred)"
   ]
  },
  {
   "cell_type": "code",
   "execution_count": 91,
   "id": "c71f63b1",
   "metadata": {},
   "outputs": [
    {
     "data": {
      "text/plain": [
       "(1162165.547065794, 19673459.22667044)"
      ]
     },
     "execution_count": 91,
     "metadata": {},
     "output_type": "execute_result"
    }
   ],
   "source": [
    "np.sqrt(mean_squared_error(y_train, y_train_pred)), np.sqrt(mean_squared_error(y_test, y_test_pred))"
   ]
  },
  {
   "cell_type": "code",
   "execution_count": null,
   "id": "87d6a0b9",
   "metadata": {},
   "outputs": [],
   "source": []
  },
  {
   "cell_type": "code",
   "execution_count": null,
   "id": "b601a4d2",
   "metadata": {},
   "outputs": [],
   "source": []
  },
  {
   "cell_type": "code",
   "execution_count": 29,
   "id": "4f9d64d0",
   "metadata": {},
   "outputs": [
    {
     "data": {
      "text/plain": [
       "(0.8772117951982505, 0.08747744972362777)"
      ]
     },
     "execution_count": 29,
     "metadata": {},
     "output_type": "execute_result"
    }
   ],
   "source": [
    "# Make pipeline\n",
    "pipe_rf = make_pipeline(StandardScaler(), RandomForestRegressor(random_state=0))\n",
    "\n",
    "# Cross-validation\n",
    "cv_rf_results = cross_validate(pipe_rf, X_train, y_train, scoring='r2', cv=5)\n",
    "cv_rf_scores = cv_rf_results['test_score']\n",
    "np.mean(cv_rf_scores), np.std(cv_rf_scores)"
   ]
  },
  {
   "cell_type": "code",
   "execution_count": null,
   "id": "7640ad16",
   "metadata": {},
   "outputs": [],
   "source": []
  },
  {
   "cell_type": "code",
   "execution_count": null,
   "id": "ff0687ec",
   "metadata": {},
   "outputs": [],
   "source": []
  },
  {
   "cell_type": "code",
   "execution_count": null,
   "id": "94c4d1f2",
   "metadata": {},
   "outputs": [],
   "source": []
  },
  {
   "cell_type": "code",
   "execution_count": null,
   "id": "8e5929ef",
   "metadata": {},
   "outputs": [],
   "source": []
  },
  {
   "cell_type": "code",
   "execution_count": null,
   "id": "dcffd967",
   "metadata": {},
   "outputs": [],
   "source": []
  },
  {
   "cell_type": "code",
   "execution_count": null,
   "id": "20d52561",
   "metadata": {},
   "outputs": [],
   "source": []
  },
  {
   "cell_type": "markdown",
   "id": "f40d51c9",
   "metadata": {},
   "source": [
    "### Model 3: Gradient Boosting Regression"
   ]
  },
  {
   "cell_type": "code",
   "execution_count": 100,
   "id": "bef4de50",
   "metadata": {},
   "outputs": [],
   "source": [
    "from sklearn.ensemble import GradientBoostingRegressor"
   ]
  },
  {
   "cell_type": "code",
   "execution_count": 102,
   "id": "c117adae",
   "metadata": {},
   "outputs": [],
   "source": [
    "# Initialize and fit data\n",
    "GBreg = GradientBoostingRegressor(random_state=0)\n",
    "\n",
    "GBreg.fit(X_train_scaled, y_train)\n",
    "\n",
    "# Make predictions\n",
    "y_train_pred = GBreg.predict(X_train_scaled)\n",
    "y_test_pred = GBreg.predict(X_test_scaled)"
   ]
  },
  {
   "cell_type": "code",
   "execution_count": 105,
   "id": "55cb5191",
   "metadata": {},
   "outputs": [
    {
     "data": {
      "text/plain": [
       "(0.9963242241076219, 0.3849858355264244)"
      ]
     },
     "execution_count": 105,
     "metadata": {},
     "output_type": "execute_result"
    }
   ],
   "source": [
    "r2_score(y_train, y_train_pred), r2_score(y_test, y_test_pred)"
   ]
  },
  {
   "cell_type": "code",
   "execution_count": 106,
   "id": "83d9c2f8",
   "metadata": {},
   "outputs": [
    {
     "data": {
      "text/plain": [
       "(515410.83545322146, 18734783.101287726)"
      ]
     },
     "execution_count": 106,
     "metadata": {},
     "output_type": "execute_result"
    }
   ],
   "source": [
    "np.sqrt(mean_squared_error(y_train, y_train_pred)), np.sqrt(mean_squared_error(y_test, y_test_pred))"
   ]
  },
  {
   "cell_type": "code",
   "execution_count": null,
   "id": "8a97e0c3",
   "metadata": {},
   "outputs": [],
   "source": []
  },
  {
   "cell_type": "code",
   "execution_count": null,
   "id": "506c19c5",
   "metadata": {},
   "outputs": [],
   "source": []
  },
  {
   "cell_type": "code",
   "execution_count": null,
   "id": "b87c6acf",
   "metadata": {},
   "outputs": [],
   "source": []
  },
  {
   "cell_type": "code",
   "execution_count": null,
   "id": "09d47a58",
   "metadata": {},
   "outputs": [],
   "source": []
  },
  {
   "cell_type": "code",
   "execution_count": null,
   "id": "e582c08f",
   "metadata": {},
   "outputs": [],
   "source": []
  }
 ],
 "metadata": {
  "kernelspec": {
   "display_name": "Python 3 (ipykernel)",
   "language": "python",
   "name": "python3"
  },
  "language_info": {
   "codemirror_mode": {
    "name": "ipython",
    "version": 3
   },
   "file_extension": ".py",
   "mimetype": "text/x-python",
   "name": "python",
   "nbconvert_exporter": "python",
   "pygments_lexer": "ipython3",
   "version": "3.8.12"
  }
 },
 "nbformat": 4,
 "nbformat_minor": 5
}
