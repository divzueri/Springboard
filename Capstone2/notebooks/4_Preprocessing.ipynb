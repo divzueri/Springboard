{
 "cells": [
  {
   "cell_type": "code",
   "execution_count": 1,
   "id": "ef62f90d",
   "metadata": {},
   "outputs": [],
   "source": [
    "import pandas as pd\n",
    "import numpy as np\n",
    "import matplotlib.pyplot as plt\n",
    "from datetime import datetime\n",
    "import seaborn as sns\n",
    "\n",
    "from sklearn.model_selection import train_test_split\n",
    "from sklearn.preprocessing import StandardScaler\n",
    "\n",
    "import os"
   ]
  },
  {
   "cell_type": "code",
   "execution_count": 2,
   "id": "d0fc82e1",
   "metadata": {},
   "outputs": [],
   "source": [
    "pd.options.display.float_format = '{:20,.2f}'.format"
   ]
  },
  {
   "cell_type": "code",
   "execution_count": 3,
   "id": "ca2f25f5",
   "metadata": {},
   "outputs": [],
   "source": [
    "steam_data2 = pd.read_csv('../data/steam_clean2.csv', parse_dates=['release_date'], index_col=0)"
   ]
  },
  {
   "cell_type": "code",
   "execution_count": 4,
   "id": "995fca09",
   "metadata": {},
   "outputs": [
    {
     "data": {
      "text/plain": [
       "(26356, 43)"
      ]
     },
     "execution_count": 4,
     "metadata": {},
     "output_type": "execute_result"
    }
   ],
   "source": [
    "steam_data2.shape"
   ]
  },
  {
   "cell_type": "code",
   "execution_count": 5,
   "id": "ead91d01",
   "metadata": {},
   "outputs": [
    {
     "name": "stdout",
     "output_type": "stream",
     "text": [
      "<class 'pandas.core.frame.DataFrame'>\n",
      "Int64Index: 26356 entries, 0 to 27074\n",
      "Data columns (total 43 columns):\n",
      " #   Column            Non-Null Count  Dtype         \n",
      "---  ------            --------------  -----         \n",
      " 0   appid             26356 non-null  int64         \n",
      " 1   name              26356 non-null  object        \n",
      " 2   release_date      26356 non-null  datetime64[ns]\n",
      " 3   yrs_released      26356 non-null  int64         \n",
      " 4   winter            26356 non-null  int64         \n",
      " 5   spring            26356 non-null  int64         \n",
      " 6   summer            26356 non-null  int64         \n",
      " 7   fall              26356 non-null  int64         \n",
      " 8   achievements      26356 non-null  int64         \n",
      " 9   average_playtime  26356 non-null  int64         \n",
      " 10  median_playtime   26356 non-null  int64         \n",
      " 11  price             26356 non-null  float64       \n",
      " 12  avg_owners        26356 non-null  float64       \n",
      " 13  revenue           26356 non-null  float64       \n",
      " 14  total_ratings     26356 non-null  int64         \n",
      " 15  perc_pos_ratings  26356 non-null  float64       \n",
      " 16  tags_per_game     26356 non-null  int64         \n",
      " 17  multi             26356 non-null  int64         \n",
      " 18  co-op             26356 non-null  int64         \n",
      " 19  cont_supp         26356 non-null  int64         \n",
      " 20  steam_achiev      26356 non-null  int64         \n",
      " 21  steam_tc          26356 non-null  int64         \n",
      " 22  steam_cloud       26356 non-null  int64         \n",
      " 23  indie             26356 non-null  int64         \n",
      " 24  action            26356 non-null  int64         \n",
      " 25  adventure         26356 non-null  int64         \n",
      " 26  casual            26356 non-null  int64         \n",
      " 27  strategy          26356 non-null  int64         \n",
      " 28  simulation        26356 non-null  int64         \n",
      " 29  rpg               26356 non-null  int64         \n",
      " 30  puzzle            26356 non-null  int64         \n",
      " 31  2d                26356 non-null  int64         \n",
      " 32  great_soundtrack  26356 non-null  int64         \n",
      " 33  atmospheric       26356 non-null  int64         \n",
      " 34  vr                26356 non-null  int64         \n",
      " 35  difficult         26356 non-null  int64         \n",
      " 36  story_rich        26356 non-null  int64         \n",
      " 37  free_to_play      26356 non-null  int64         \n",
      " 38  anime             26356 non-null  int64         \n",
      " 39  horror            26356 non-null  int64         \n",
      " 40  platformer        26356 non-null  int64         \n",
      " 41  pixel_graphics    26356 non-null  int64         \n",
      " 42  violent           26356 non-null  int64         \n",
      "dtypes: datetime64[ns](1), float64(4), int64(37), object(1)\n",
      "memory usage: 8.8+ MB\n"
     ]
    }
   ],
   "source": [
    "steam_data2.info()"
   ]
  },
  {
   "cell_type": "markdown",
   "id": "30d6ef86",
   "metadata": {},
   "source": [
    "# 1. Scale Data"
   ]
  },
  {
   "cell_type": "code",
   "execution_count": 9,
   "id": "1719a9fe",
   "metadata": {},
   "outputs": [],
   "source": [
    "# Define X and y\n",
    "X = steam_data2.drop(columns=['revenue', 'appid', 'name', 'release_date'])\n",
    "y = steam_data2.revenue"
   ]
  },
  {
   "cell_type": "code",
   "execution_count": 7,
   "id": "f9325172",
   "metadata": {},
   "outputs": [
    {
     "data": {
      "text/plain": [
       "((26356, 40), (26356,))"
      ]
     },
     "execution_count": 7,
     "metadata": {},
     "output_type": "execute_result"
    }
   ],
   "source": [
    "X.shape, y.shape"
   ]
  },
  {
   "cell_type": "code",
   "execution_count": 11,
   "id": "27025055",
   "metadata": {},
   "outputs": [],
   "source": [
    "# Initialize scaler\n",
    "scaler = StandardScaler()\n",
    "\n",
    "# Fit and transform data\n",
    "X_scaled = scaler.fit_transform(X)"
   ]
  },
  {
   "cell_type": "code",
   "execution_count": 12,
   "id": "ac3ef243",
   "metadata": {},
   "outputs": [
    {
     "data": {
      "text/plain": [
       "array([[ 7.68482511, -0.56256868, -0.59534657, ..., -0.28109458,\n",
       "        -0.2809374 ,  3.74630451],\n",
       "       [ 8.15076602, -0.56256868,  1.6796939 , ..., -0.28109458,\n",
       "        -0.2809374 ,  3.74630451],\n",
       "       [ 6.28700239, -0.56256868,  1.6796939 , ..., -0.28109458,\n",
       "        -0.2809374 , -0.26692972],\n",
       "       ...,\n",
       "       [-1.16805212, -0.56256868,  1.6796939 , ..., -0.28109458,\n",
       "        -0.2809374 , -0.26692972],\n",
       "       [-1.16805212, -0.56256868,  1.6796939 , ..., -0.28109458,\n",
       "        -0.2809374 , -0.26692972],\n",
       "       [-1.16805212, -0.56256868,  1.6796939 , ..., -0.28109458,\n",
       "        -0.2809374 , -0.26692972]])"
      ]
     },
     "execution_count": 12,
     "metadata": {},
     "output_type": "execute_result"
    }
   ],
   "source": [
    "X_scaled"
   ]
  },
  {
   "cell_type": "markdown",
   "id": "ec22dfc7",
   "metadata": {},
   "source": [
    "# 2. Split into Train/Test"
   ]
  },
  {
   "cell_type": "code",
   "execution_count": 16,
   "id": "59441416",
   "metadata": {},
   "outputs": [],
   "source": [
    "X_train, X_test, y_train, y_test = train_test_split(X_scaled, y, test_size=0.3)"
   ]
  },
  {
   "cell_type": "code",
   "execution_count": 17,
   "id": "7e1ed1d5",
   "metadata": {},
   "outputs": [
    {
     "data": {
      "text/plain": [
       "((18449, 39), (7907, 39))"
      ]
     },
     "execution_count": 17,
     "metadata": {},
     "output_type": "execute_result"
    }
   ],
   "source": [
    "X_train.shape, X_test.shape"
   ]
  },
  {
   "cell_type": "code",
   "execution_count": 18,
   "id": "4f06255a",
   "metadata": {},
   "outputs": [
    {
     "data": {
      "text/plain": [
       "array([[-0.23617031, -0.56256868, -0.59534657, ..., -0.28109458,\n",
       "         3.55951183, -0.26692972],\n",
       "       [ 0.69571151, -0.56256868,  1.6796939 , ..., -0.28109458,\n",
       "        -0.2809374 , -0.26692972],\n",
       "       [ 2.55947514, -0.56256868,  1.6796939 , ..., -0.28109458,\n",
       "        -0.2809374 , -0.26692972],\n",
       "       ...,\n",
       "       [-0.23617031,  1.77756075, -0.59534657, ..., -0.28109458,\n",
       "        -0.2809374 , -0.26692972],\n",
       "       [-0.70211121, -0.56256868, -0.59534657, ..., -0.28109458,\n",
       "        -0.2809374 , -0.26692972],\n",
       "       [-0.70211121, -0.56256868,  1.6796939 , ..., -0.28109458,\n",
       "        -0.2809374 , -0.26692972]])"
      ]
     },
     "execution_count": 18,
     "metadata": {},
     "output_type": "execute_result"
    }
   ],
   "source": [
    "X_train"
   ]
  },
  {
   "cell_type": "code",
   "execution_count": null,
   "id": "b24504b7",
   "metadata": {},
   "outputs": [],
   "source": []
  }
 ],
 "metadata": {
  "kernelspec": {
   "display_name": "Python 3 (ipykernel)",
   "language": "python",
   "name": "python3"
  },
  "language_info": {
   "codemirror_mode": {
    "name": "ipython",
    "version": 3
   },
   "file_extension": ".py",
   "mimetype": "text/x-python",
   "name": "python",
   "nbconvert_exporter": "python",
   "pygments_lexer": "ipython3",
   "version": "3.8.12"
  }
 },
 "nbformat": 4,
 "nbformat_minor": 5
}
