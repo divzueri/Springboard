{
 "cells": [
  {
   "cell_type": "markdown",
   "id": "71841d1c",
   "metadata": {},
   "source": [
    "# 3b. Modeling"
   ]
  },
  {
   "cell_type": "code",
   "execution_count": 26,
   "id": "fda8b039",
   "metadata": {},
   "outputs": [],
   "source": [
    "import pandas as pd\n",
    "import numpy as np\n",
    "import matplotlib.pyplot as plt\n",
    "import seaborn as sns\n",
    "\n",
    "from sklearn.preprocessing import StandardScaler\n",
    "from sklearn.model_selection import cross_validate, RandomizedSearchCV, GridSearchCV\n",
    "\n",
    "from sklearn.ensemble import RandomForestClassifier, GradientBoostingClassifier\n",
    "\n",
    "from sklearn.pipeline import Pipeline\n",
    "from sklearn.model_selection import RandomizedSearchCV, GridSearchCV\n",
    "\n",
    "from sklearn.metrics import (accuracy_score, f1_score, precision_recall_curve, auc, log_loss, classification_report,\n",
    "confusion_matrix, plot_confusion_matrix, roc_curve)"
   ]
  },
  {
   "cell_type": "code",
   "execution_count": 2,
   "id": "0135d608",
   "metadata": {},
   "outputs": [
    {
     "data": {
      "text/plain": [
       "((37500, 14), (12500, 14))"
      ]
     },
     "execution_count": 2,
     "metadata": {},
     "output_type": "execute_result"
    }
   ],
   "source": [
    "train = pd.read_csv('train.csv')\n",
    "test = pd.read_csv('test.csv')\n",
    "\n",
    "train.shape, test.shape"
   ]
  },
  {
   "cell_type": "code",
   "execution_count": 3,
   "id": "1c3e2fb3",
   "metadata": {},
   "outputs": [
    {
     "data": {
      "text/html": [
       "<div>\n",
       "<style scoped>\n",
       "    .dataframe tbody tr th:only-of-type {\n",
       "        vertical-align: middle;\n",
       "    }\n",
       "\n",
       "    .dataframe tbody tr th {\n",
       "        vertical-align: top;\n",
       "    }\n",
       "\n",
       "    .dataframe thead th {\n",
       "        text-align: right;\n",
       "    }\n",
       "</style>\n",
       "<table border=\"1\" class=\"dataframe\">\n",
       "  <thead>\n",
       "    <tr style=\"text-align: right;\">\n",
       "      <th></th>\n",
       "      <th>trips_in_first_30_days</th>\n",
       "      <th>signup_date</th>\n",
       "      <th>avg_rating_of_driver</th>\n",
       "      <th>avg_surge</th>\n",
       "      <th>last_trip_date</th>\n",
       "      <th>surge_pct</th>\n",
       "      <th>ultimate_black_user</th>\n",
       "      <th>weekday_pct</th>\n",
       "      <th>avg_dist</th>\n",
       "      <th>avg_rating_by_driver</th>\n",
       "      <th>active</th>\n",
       "      <th>iPhone</th>\n",
       "      <th>city_King's Landing</th>\n",
       "      <th>city_Winterfell</th>\n",
       "    </tr>\n",
       "  </thead>\n",
       "  <tbody>\n",
       "    <tr>\n",
       "      <th>0</th>\n",
       "      <td>0</td>\n",
       "      <td>2014-01-01</td>\n",
       "      <td>3.0</td>\n",
       "      <td>1.0</td>\n",
       "      <td>2014-06-16</td>\n",
       "      <td>0.0</td>\n",
       "      <td>1</td>\n",
       "      <td>100.0</td>\n",
       "      <td>3.90</td>\n",
       "      <td>4.0</td>\n",
       "      <td>1</td>\n",
       "      <td>1</td>\n",
       "      <td>1</td>\n",
       "      <td>0</td>\n",
       "    </tr>\n",
       "    <tr>\n",
       "      <th>1</th>\n",
       "      <td>2</td>\n",
       "      <td>2014-01-09</td>\n",
       "      <td>5.0</td>\n",
       "      <td>1.0</td>\n",
       "      <td>2014-06-08</td>\n",
       "      <td>0.0</td>\n",
       "      <td>1</td>\n",
       "      <td>50.0</td>\n",
       "      <td>2.64</td>\n",
       "      <td>4.9</td>\n",
       "      <td>1</td>\n",
       "      <td>1</td>\n",
       "      <td>0</td>\n",
       "      <td>1</td>\n",
       "    </tr>\n",
       "    <tr>\n",
       "      <th>2</th>\n",
       "      <td>1</td>\n",
       "      <td>2014-01-07</td>\n",
       "      <td>5.0</td>\n",
       "      <td>1.0</td>\n",
       "      <td>2014-01-08</td>\n",
       "      <td>0.0</td>\n",
       "      <td>0</td>\n",
       "      <td>100.0</td>\n",
       "      <td>15.74</td>\n",
       "      <td>5.0</td>\n",
       "      <td>0</td>\n",
       "      <td>0</td>\n",
       "      <td>0</td>\n",
       "      <td>0</td>\n",
       "    </tr>\n",
       "    <tr>\n",
       "      <th>3</th>\n",
       "      <td>1</td>\n",
       "      <td>2014-01-12</td>\n",
       "      <td>5.0</td>\n",
       "      <td>1.0</td>\n",
       "      <td>2014-01-12</td>\n",
       "      <td>0.0</td>\n",
       "      <td>0</td>\n",
       "      <td>0.0</td>\n",
       "      <td>3.09</td>\n",
       "      <td>5.0</td>\n",
       "      <td>0</td>\n",
       "      <td>1</td>\n",
       "      <td>0</td>\n",
       "      <td>1</td>\n",
       "    </tr>\n",
       "    <tr>\n",
       "      <th>4</th>\n",
       "      <td>2</td>\n",
       "      <td>2014-01-02</td>\n",
       "      <td>5.0</td>\n",
       "      <td>1.0</td>\n",
       "      <td>2014-05-19</td>\n",
       "      <td>0.0</td>\n",
       "      <td>0</td>\n",
       "      <td>75.0</td>\n",
       "      <td>11.79</td>\n",
       "      <td>4.3</td>\n",
       "      <td>0</td>\n",
       "      <td>0</td>\n",
       "      <td>0</td>\n",
       "      <td>0</td>\n",
       "    </tr>\n",
       "  </tbody>\n",
       "</table>\n",
       "</div>"
      ],
      "text/plain": [
       "   trips_in_first_30_days signup_date  avg_rating_of_driver  avg_surge  \\\n",
       "0                       0  2014-01-01                   3.0        1.0   \n",
       "1                       2  2014-01-09                   5.0        1.0   \n",
       "2                       1  2014-01-07                   5.0        1.0   \n",
       "3                       1  2014-01-12                   5.0        1.0   \n",
       "4                       2  2014-01-02                   5.0        1.0   \n",
       "\n",
       "  last_trip_date  surge_pct  ultimate_black_user  weekday_pct  avg_dist  \\\n",
       "0     2014-06-16        0.0                    1        100.0      3.90   \n",
       "1     2014-06-08        0.0                    1         50.0      2.64   \n",
       "2     2014-01-08        0.0                    0        100.0     15.74   \n",
       "3     2014-01-12        0.0                    0          0.0      3.09   \n",
       "4     2014-05-19        0.0                    0         75.0     11.79   \n",
       "\n",
       "   avg_rating_by_driver  active  iPhone  city_King's Landing  city_Winterfell  \n",
       "0                   4.0       1       1                    1                0  \n",
       "1                   4.9       1       1                    0                1  \n",
       "2                   5.0       0       0                    0                0  \n",
       "3                   5.0       0       1                    0                1  \n",
       "4                   4.3       0       0                    0                0  "
      ]
     },
     "execution_count": 3,
     "metadata": {},
     "output_type": "execute_result"
    }
   ],
   "source": [
    "train.head()"
   ]
  },
  {
   "cell_type": "code",
   "execution_count": 4,
   "id": "882f4ae1",
   "metadata": {},
   "outputs": [
    {
     "data": {
      "text/plain": [
       "((37500, 11), (37500,), (12500, 11), (12500,))"
      ]
     },
     "execution_count": 4,
     "metadata": {},
     "output_type": "execute_result"
    }
   ],
   "source": [
    "X_train, y_train = train.drop(columns=['active', 'signup_date', 'last_trip_date']), train.active\n",
    "X_test, y_test = test.drop(columns=['active', 'signup_date', 'last_trip_date']), test.active\n",
    "\n",
    "X_train.shape, y_train.shape, X_test.shape, y_test.shape"
   ]
  },
  {
   "cell_type": "code",
   "execution_count": 5,
   "id": "77c4cd0a",
   "metadata": {},
   "outputs": [],
   "source": [
    "# Apply scaler\n",
    "\n",
    "scaler = StandardScaler()\n",
    "\n",
    "scaler.fit(X_train)\n",
    "\n",
    "X_train_scaled = scaler.transform(X_train)\n",
    "X_test_scaled = scaler.transform(X_test)"
   ]
  },
  {
   "cell_type": "code",
   "execution_count": 6,
   "id": "71ccf4e8",
   "metadata": {},
   "outputs": [],
   "source": [
    "def print_eval(model, X_tr, X_te, y_tr, y_te):\n",
    "    \"\"\"Quickly evaluate different models\"\"\"\n",
    "    model.fit(X_tr, y_tr)\n",
    "    y_tr_pred = model.predict(X_tr)\n",
    "    y_te_pred = model.predict(X_te)\n",
    "    \n",
    "    r2_tr, r2_te = r2_score(y_tr, y_tr_pred), r2_score(y_te, y_te_pred)\n",
    "    rmse_tr, rmse_te = np.sqrt(mean_squared_error(y_tr, y_tr_pred)), np.sqrt(mean_squared_error(y_te, y_te_pred))\n",
    "    mae_tr, mae_te = mean_absolute_error(y_tr, y_tr_pred), mean_absolute_error(y_te, y_te_pred)\n",
    "    \n",
    "    print(f\"Train R2: {r2_tr:.2f}  |  Test R2: {r2_te:.2f} \\n\"\n",
    "         f\"Train RMSE: {rmse_tr:,.2f}  |  Test RMSE: {rmse_te:,.2f} \\n\"\n",
    "         f\"Train MAE: {mae_tr:,.2f}  |  Test MAE: {mae_te:,.2f}\")"
   ]
  },
  {
   "cell_type": "markdown",
   "id": "94ed4f03",
   "metadata": {},
   "source": [
    "## 0. Baseline Model"
   ]
  },
  {
   "cell_type": "code",
   "execution_count": 7,
   "id": "dc3ae35d",
   "metadata": {},
   "outputs": [
    {
     "data": {
      "text/html": [
       "<div>\n",
       "<style scoped>\n",
       "    .dataframe tbody tr th:only-of-type {\n",
       "        vertical-align: middle;\n",
       "    }\n",
       "\n",
       "    .dataframe tbody tr th {\n",
       "        vertical-align: top;\n",
       "    }\n",
       "\n",
       "    .dataframe thead th {\n",
       "        text-align: right;\n",
       "    }\n",
       "</style>\n",
       "<table border=\"1\" class=\"dataframe\">\n",
       "  <thead>\n",
       "    <tr style=\"text-align: right;\">\n",
       "      <th></th>\n",
       "      <th>Values</th>\n",
       "      <th>Perc</th>\n",
       "    </tr>\n",
       "  </thead>\n",
       "  <tbody>\n",
       "    <tr>\n",
       "      <th>0</th>\n",
       "      <td>23740</td>\n",
       "      <td>63.306667</td>\n",
       "    </tr>\n",
       "    <tr>\n",
       "      <th>1</th>\n",
       "      <td>13760</td>\n",
       "      <td>36.693333</td>\n",
       "    </tr>\n",
       "  </tbody>\n",
       "</table>\n",
       "</div>"
      ],
      "text/plain": [
       "   Values       Perc\n",
       "0   23740  63.306667\n",
       "1   13760  36.693333"
      ]
     },
     "execution_count": 7,
     "metadata": {},
     "output_type": "execute_result"
    }
   ],
   "source": [
    "pd.DataFrame({'Values':y_train.value_counts(), 'Perc':y_train.value_counts()/len(y_train)*100})"
   ]
  },
  {
   "cell_type": "markdown",
   "id": "e50f6091",
   "metadata": {},
   "source": [
    "About 63% of users are not active, so our baseline model will predict that all users are inactive."
   ]
  },
  {
   "cell_type": "code",
   "execution_count": 8,
   "id": "1e41e3db",
   "metadata": {},
   "outputs": [
    {
     "name": "stdout",
     "output_type": "stream",
     "text": [
      "              precision    recall  f1-score   support\n",
      "\n",
      "           0       1.00      0.64      0.78     12500\n",
      "           1       0.00      0.00      0.00         0\n",
      "\n",
      "    accuracy                           0.64     12500\n",
      "   macro avg       0.50      0.32      0.39     12500\n",
      "weighted avg       1.00      0.64      0.78     12500\n",
      "\n"
     ]
    }
   ],
   "source": [
    "from sklearn.dummy import DummyClassifier\n",
    "\n",
    "dummy = DummyClassifier(strategy='most_frequent')\n",
    "dummy.fit(X_train_scaled, y_train)\n",
    "y_pred = dummy.predict(X_test_scaled)\n",
    "\n",
    "print(classification_report(y_pred, y_test, zero_division=0))"
   ]
  },
  {
   "cell_type": "code",
   "execution_count": 9,
   "id": "6ceb87fc",
   "metadata": {},
   "outputs": [
    {
     "data": {
      "image/png": "[encoded data removed]",
      "text/plain": [
       "<Figure size 432x288 with 2 Axes>"
      ]
     },
     "metadata": {
      "needs_background": "light"
     },
     "output_type": "display_data"
    }
   ],
   "source": [
    "plot_confusion_matrix(dummy, X_test_scaled, y_test);"
   ]
  },
  {
   "cell_type": "markdown",
   "id": "58752b36",
   "metadata": {},
   "source": [
    "Baseline accuracy is 0.64"
   ]
  },
  {
   "cell_type": "markdown",
   "id": "1693381c",
   "metadata": {},
   "source": [
    "## I. Logistic Regression"
   ]
  },
  {
   "cell_type": "code",
   "execution_count": 10,
   "id": "e5547c67",
   "metadata": {},
   "outputs": [
    {
     "name": "stdout",
     "output_type": "stream",
     "text": [
      "              precision    recall  f1-score   support\n",
      "\n",
      "           0       0.75      0.86      0.80      7950\n",
      "           1       0.67      0.49      0.57      4550\n",
      "\n",
      "    accuracy                           0.72     12500\n",
      "   macro avg       0.71      0.67      0.68     12500\n",
      "weighted avg       0.72      0.72      0.71     12500\n",
      "\n"
     ]
    }
   ],
   "source": [
    "from sklearn.linear_model import LogisticRegression\n",
    "\n",
    "LR = LogisticRegression(random_state=0)\n",
    "\n",
    "LR.fit(X_train_scaled, y_train)\n",
    "y_pred = LR.predict(X_test_scaled)\n",
    "\n",
    "print(classification_report(y_test, y_pred))"
   ]
  },
  {
   "cell_type": "code",
   "execution_count": 11,
   "id": "c124fc10",
   "metadata": {},
   "outputs": [
    {
     "data": {
      "image/png": "[encoded data removed]",
      "text/plain": [
       "<Figure size 432x288 with 2 Axes>"
      ]
     },
     "metadata": {
      "needs_background": "light"
     },
     "output_type": "display_data"
    }
   ],
   "source": [
    "plot_confusion_matrix(LR, X_test_scaled, y_test);"
   ]
  },
  {
   "cell_type": "code",
   "execution_count": 12,
   "id": "78afcae8",
   "metadata": {},
   "outputs": [],
   "source": [
    "# Make pipeline\n",
    "pipeline = Pipeline([('scaler', StandardScaler()), ('LR', LogisticRegression())])\n",
    "\n",
    "# Define param grid\n",
    "c_range = [0.001, 0.1, 1, 10, 100]\n",
    "penalty = ['l2', 'none']\n",
    "solver = ['newton-cg', 'lbfgs', 'sag', 'saga']\n",
    "class_weight = [None, 'balanced']\n",
    "\n",
    "param_grid = {'LR__C':c_range, 'LR__penalty':penalty, 'LR__solver':solver, 'LR__class_weight':class_weight}"
   ]
  },
  {
   "cell_type": "code",
   "execution_count": 13,
   "id": "7045135e",
   "metadata": {},
   "outputs": [
    {
     "name": "stderr",
     "output_type": "stream",
     "text": [
      "C:\\Users\\divzu\\anaconda3\\lib\\site-packages\\sklearn\\linear_model\\_logistic.py:1322: UserWarning: Setting penalty='none' will ignore the C and l1_ratio parameters\n",
      "  warnings.warn(\n"
     ]
    },
    {
     "data": {
      "text/plain": [
       "GridSearchCV(cv=5,\n",
       "             estimator=Pipeline(steps=[('scaler', StandardScaler()),\n",
       "                                       ('LR', LogisticRegression())]),\n",
       "             n_jobs=-1,\n",
       "             param_grid={'LR__C': [0.001, 0.1, 1, 10, 100],\n",
       "                         'LR__class_weight': [None, 'balanced'],\n",
       "                         'LR__penalty': ['l2', 'none'],\n",
       "                         'LR__solver': ['newton-cg', 'lbfgs', 'sag', 'saga']},\n",
       "             scoring='accuracy')"
      ]
     },
     "execution_count": 13,
     "metadata": {},
     "output_type": "execute_result"
    }
   ],
   "source": [
    "scoring= ['accuracy', 'roc_auc', 'neg_log_loss']\n",
    "\n",
    "LR_gridcv = GridSearchCV(pipeline, param_grid, scoring='accuracy', cv=5, n_jobs=-1)\n",
    "LR_gridcv.fit(X_train, y_train)"
   ]
  },
  {
   "cell_type": "code",
   "execution_count": 14,
   "id": "731ef34d",
   "metadata": {},
   "outputs": [
    {
     "data": {
      "text/plain": [
       "(Pipeline(steps=[('scaler', StandardScaler()),\n",
       "                 ('LR',\n",
       "                  LogisticRegression(C=0.001, penalty='none', solver='sag'))]),\n",
       " {'LR__C': 0.001,\n",
       "  'LR__class_weight': None,\n",
       "  'LR__penalty': 'none',\n",
       "  'LR__solver': 'sag'},\n",
       " 0.72552)"
      ]
     },
     "execution_count": 14,
     "metadata": {},
     "output_type": "execute_result"
    }
   ],
   "source": [
    "LR_gridcv.best_estimator_, LR_gridcv.best_params_, LR_gridcv.best_score_"
   ]
  },
  {
   "cell_type": "code",
   "execution_count": 15,
   "id": "3274a7e3",
   "metadata": {},
   "outputs": [
    {
     "name": "stdout",
     "output_type": "stream",
     "text": [
      "              precision    recall  f1-score   support\n",
      "\n",
      "           0       0.75      0.86      0.80      7950\n",
      "           1       0.67      0.49      0.57      4550\n",
      "\n",
      "    accuracy                           0.73     12500\n",
      "   macro avg       0.71      0.68      0.68     12500\n",
      "weighted avg       0.72      0.73      0.71     12500\n",
      "\n"
     ]
    }
   ],
   "source": [
    "LR_best = LR_gridcv.best_estimator_\n",
    "\n",
    "y_pred = LR_best.predict(X_test)\n",
    "\n",
    "print(classification_report(y_test, y_pred))"
   ]
  },
  {
   "cell_type": "markdown",
   "id": "6ba4f511",
   "metadata": {},
   "source": [
    "Accuracy of grid search CV LR model is only slightly better than the default LR settings."
   ]
  },
  {
   "cell_type": "code",
   "execution_count": 32,
   "id": "fa24298c",
   "metadata": {},
   "outputs": [
    {
     "data": {
      "text/plain": [
       "trips_in_first_30_days    0.455701\n",
       "avg_rating_of_driver     -0.067091\n",
       "avg_surge                -0.033839\n",
       "surge_pct                 0.072905\n",
       "ultimate_black_user       0.434668\n",
       "weekday_pct               0.030439\n",
       "avg_dist                 -0.204478\n",
       "avg_rating_by_driver     -0.074088\n",
       "iPhone                    0.517180\n",
       "city_King's Landing       0.719570\n",
       "city_Winterfell           0.269316\n",
       "dtype: float64"
      ]
     },
     "execution_count": 32,
     "metadata": {},
     "output_type": "execute_result"
    }
   ],
   "source": [
    "pd.Series(importance, index=X_train.columns)"
   ]
  },
  {
   "cell_type": "code",
   "execution_count": 45,
   "id": "5fee1caf",
   "metadata": {},
   "outputs": [
    {
     "name": "stdout",
     "output_type": "stream",
     "text": [
      "city_King's Landing : 0.7195698512000043\n",
      "iPhone : 0.5171804601956171\n",
      "trips_in_first_30_days : 0.455700869771066\n",
      "ultimate_black_user : 0.43466807054742507\n",
      "city_Winterfell : 0.2693156094199031\n",
      "surge_pct : 0.07290506670407465\n",
      "weekday_pct : 0.030438940228769806\n",
      "avg_surge : -0.03383852300878903\n",
      "avg_rating_of_driver : -0.06709074414101235\n",
      "avg_rating_by_driver : -0.07408834163291847\n",
      "avg_dist : -0.20447799343742953\n"
     ]
    },
    {
     "data": {
      "image/png": "[encoded data removed]",
      "text/plain": [
       "<Figure size 720x360 with 1 Axes>"
      ]
     },
     "metadata": {
      "needs_background": "light"
     },
     "output_type": "display_data"
    }
   ],
   "source": [
    "importance = LR_best.named_steps.LR.coef_[0]\n",
    "feat_imp = pd.Series(importance, index=X_train.columns).sort_values(ascending=False)\n",
    "\n",
    "for i,v in zip(feat_imp.index, feat_imp):\n",
    "    print(i,':', v)\n",
    "\n",
    "fig, ax = plt.subplots(figsize=(10,5))\n",
    "feat_imp.plot.bar(ax=ax)\n",
    "\n",
    "ax.set_title(\"Feature importances\")\n",
    "ax.set_ylabel(\"Coefficient of features in decision function\")\n",
    "plt.xticks(rotation=45);"
   ]
  },
  {
   "cell_type": "markdown",
   "id": "d6dd7a64",
   "metadata": {},
   "source": [
    "The features most influential in predicting active users are:\n",
    "- Location: King's Landing\n",
    "- iPhone user\n",
    "- Number of trips in first 30 days\n",
    "- Being an ultimate black user"
   ]
  },
  {
   "cell_type": "code",
   "execution_count": null,
   "id": "77d47855",
   "metadata": {},
   "outputs": [],
   "source": []
  },
  {
   "cell_type": "code",
   "execution_count": null,
   "id": "fa8e6048",
   "metadata": {},
   "outputs": [],
   "source": []
  },
  {
   "cell_type": "markdown",
   "id": "460d3078",
   "metadata": {},
   "source": [
    "## II. Random Forest Classifier"
   ]
  },
  {
   "cell_type": "code",
   "execution_count": 64,
   "id": "dfbc6185",
   "metadata": {},
   "outputs": [
    {
     "name": "stdout",
     "output_type": "stream",
     "text": [
      "              precision    recall  f1-score   support\n",
      "\n",
      "           0       0.81      0.83      0.82      7950\n",
      "           1       0.68      0.66      0.67      4550\n",
      "\n",
      "    accuracy                           0.77     12500\n",
      "   macro avg       0.75      0.74      0.75     12500\n",
      "weighted avg       0.76      0.77      0.77     12500\n",
      "\n",
      "Wall time: 3.56 s\n"
     ]
    }
   ],
   "source": [
    "%%time\n",
    "\n",
    "RF = RandomForestClassifier(random_state=0)\n",
    "\n",
    "RF.fit(X_train_scaled, y_train)\n",
    "y_pred = RF.predict(X_test_scaled)\n",
    "\n",
    "print(classification_report(y_test, y_pred))"
   ]
  },
  {
   "cell_type": "code",
   "execution_count": 47,
   "id": "19554632",
   "metadata": {
    "scrolled": true
   },
   "outputs": [
    {
     "data": {
      "image/png": "[encoded data removed]",
      "text/plain": [
       "<Figure size 432x288 with 2 Axes>"
      ]
     },
     "metadata": {
      "needs_background": "light"
     },
     "output_type": "display_data"
    }
   ],
   "source": [
    "plot_confusion_matrix(RF, X_test_scaled, y_test);"
   ]
  },
  {
   "cell_type": "markdown",
   "id": "16f1f538",
   "metadata": {},
   "source": [
    "The default Random Forest Classifier performs better than either logistic regression model. I will now tune hyperparameters to optimize this model."
   ]
  },
  {
   "cell_type": "code",
   "execution_count": 48,
   "id": "0660e154",
   "metadata": {},
   "outputs": [],
   "source": [
    "# Make pipeline\n",
    "pipeline = Pipeline([('scaler', StandardScaler()), ('RF', RandomForestClassifier())])\n",
    "\n",
    "# Define param grid\n",
    "n_est = [int(x) for x in np.linspace(start=100,stop=1000,num=10)]\n",
    "max_depth = [int(x) for x in np.linspace(start=10,stop=100,num=10)]\n",
    "max_feat = ['sqrt', 'log2', None]\n",
    "crit = ['gini', 'entropy']\n",
    "\n",
    "param_grid = {'RF__n_estimators':n_est, 'RF__max_depth':max_depth, 'RF__max_features':max_feat, 'RF__criterion':crit}"
   ]
  },
  {
   "cell_type": "code",
   "execution_count": 49,
   "id": "478de43b",
   "metadata": {},
   "outputs": [
    {
     "name": "stdout",
     "output_type": "stream",
     "text": [
      "Wall time: 35min 7s\n"
     ]
    },
    {
     "data": {
      "text/plain": [
       "RandomizedSearchCV(cv=5,\n",
       "                   estimator=Pipeline(steps=[('scaler', StandardScaler()),\n",
       "                                             ('RF', RandomForestClassifier())]),\n",
       "                   n_iter=75, n_jobs=-1,\n",
       "                   param_distributions={'RF__criterion': ['gini', 'entropy'],\n",
       "                                        'RF__max_depth': [10, 20, 30, 40, 50,\n",
       "                                                          60, 70, 80, 90, 100],\n",
       "                                        'RF__max_features': ['sqrt', 'log2',\n",
       "                                                             None],\n",
       "                                        'RF__n_estimators': [100, 200, 300, 400,\n",
       "                                                             500, 600, 700, 800,\n",
       "                                                             900, 1000]},\n",
       "                   refit='accuracy',\n",
       "                   scoring=['accuracy', 'roc_auc', 'neg_log_loss'])"
      ]
     },
     "execution_count": 49,
     "metadata": {},
     "output_type": "execute_result"
    }
   ],
   "source": [
    "%%time\n",
    "\n",
    "scoring= ['accuracy', 'roc_auc', 'neg_log_loss']\n",
    "\n",
    "RF_randcv = RandomizedSearchCV(pipeline, param_grid, scoring=scoring, refit='accuracy', cv=5, n_iter=75, n_jobs=-1)\n",
    "RF_randcv.fit(X_train, y_train)"
   ]
  },
  {
   "cell_type": "code",
   "execution_count": 50,
   "id": "0afb4a55",
   "metadata": {},
   "outputs": [
    {
     "data": {
      "text/plain": [
       "(Pipeline(steps=[('scaler', StandardScaler()),\n",
       "                 ('RF',\n",
       "                  RandomForestClassifier(max_depth=10, max_features='log2',\n",
       "                                         n_estimators=600))]),\n",
       " {'RF__n_estimators': 600,\n",
       "  'RF__max_features': 'log2',\n",
       "  'RF__max_depth': 10,\n",
       "  'RF__criterion': 'gini'},\n",
       " 0.7871466666666666)"
      ]
     },
     "execution_count": 50,
     "metadata": {},
     "output_type": "execute_result"
    }
   ],
   "source": [
    "RF_randcv.best_estimator_, RF_randcv.best_params_, RF_randcv.best_score_"
   ]
  },
  {
   "cell_type": "code",
   "execution_count": 51,
   "id": "5cbce3d8",
   "metadata": {},
   "outputs": [
    {
     "name": "stdout",
     "output_type": "stream",
     "text": [
      "              precision    recall  f1-score   support\n",
      "\n",
      "           0       0.81      0.87      0.84      7950\n",
      "           1       0.74      0.65      0.69      4550\n",
      "\n",
      "    accuracy                           0.79     12500\n",
      "   macro avg       0.78      0.76      0.77     12500\n",
      "weighted avg       0.79      0.79      0.79     12500\n",
      "\n"
     ]
    }
   ],
   "source": [
    "RF_best = RF_randcv.best_estimator_\n",
    "\n",
    "y_pred = RF_best.predict(X_test)\n",
    "\n",
    "print(classification_report(y_test, y_pred))"
   ]
  },
  {
   "cell_type": "code",
   "execution_count": 52,
   "id": "72619c62",
   "metadata": {
    "scrolled": true
   },
   "outputs": [
    {
     "data": {
      "image/png": "[encoded data removed]",
      "text/plain": [
       "<Figure size 432x288 with 2 Axes>"
      ]
     },
     "metadata": {
      "needs_background": "light"
     },
     "output_type": "display_data"
    }
   ],
   "source": [
    "plot_confusion_matrix(RF_best, X_test, y_test);"
   ]
  },
  {
   "cell_type": "markdown",
   "id": "2e8d7e6a",
   "metadata": {},
   "source": [
    "This RF model is definitely the best performing one so far, and much better than the dummy model."
   ]
  },
  {
   "cell_type": "code",
   "execution_count": 58,
   "id": "76251514",
   "metadata": {},
   "outputs": [
    {
     "data": {
      "image/png": "[encoded data removed]",
      "text/plain": [
       "<Figure size 1080x360 with 1 Axes>"
      ]
     },
     "metadata": {
      "needs_background": "light"
     },
     "output_type": "display_data"
    }
   ],
   "source": [
    "# Viewing feature importances\n",
    "\n",
    "importance = RF_best.named_steps.RF.feature_importances_\n",
    "forest_imp = pd.Series(importance, index=X_train.columns).sort_values(ascending=False)\n",
    "std = np.std([tree.feature_importances_ for tree in RF_best.named_steps.RF.estimators_], axis=0)\n",
    "\n",
    "# Plot\n",
    "fig, ax = plt.subplots(figsize=(15,5))\n",
    "\n",
    "forest_imp.plot.bar(yerr=std, ax=ax)\n",
    "\n",
    "ax.set_title(\"Feature importances\")\n",
    "ax.set_ylabel(\"Mean decrease in impurity\")\n",
    "plt.xticks(rotation=45);"
   ]
  },
  {
   "cell_type": "markdown",
   "id": "c336921f",
   "metadata": {},
   "source": [
    "In contrast to the LR model, the tuned RF model finds avg rating by driver to be the most influential feature. Surge pct and weekday pct are also much more important here.\n",
    "\n",
    "But like the LR model, King's Landing is also very influential."
   ]
  },
  {
   "cell_type": "markdown",
   "id": "5c97f69f",
   "metadata": {},
   "source": [
    "## III. Gradient Boost Classifier"
   ]
  },
  {
   "cell_type": "code",
   "execution_count": 63,
   "id": "9133642c",
   "metadata": {},
   "outputs": [
    {
     "name": "stdout",
     "output_type": "stream",
     "text": [
      "              precision    recall  f1-score   support\n",
      "\n",
      "           0       0.82      0.86      0.84      7950\n",
      "           1       0.74      0.66      0.69      4550\n",
      "\n",
      "    accuracy                           0.79     12500\n",
      "   macro avg       0.78      0.76      0.77     12500\n",
      "weighted avg       0.79      0.79      0.79     12500\n",
      "\n",
      "Wall time: 2.83 s\n"
     ]
    }
   ],
   "source": [
    "%%time\n",
    "\n",
    "GB = GradientBoostingClassifier(random_state=0)\n",
    "\n",
    "GB.fit(X_train_scaled, y_train)\n",
    "y_pred = GB.predict(X_test_scaled)\n",
    "\n",
    "print(classification_report(y_test, y_pred))"
   ]
  },
  {
   "cell_type": "code",
   "execution_count": 65,
   "id": "0ef3824a",
   "metadata": {},
   "outputs": [
    {
     "data": {
      "image/png": "[encoded data removed]",
      "text/plain": [
       "<Figure size 432x288 with 2 Axes>"
      ]
     },
     "metadata": {
      "needs_background": "light"
     },
     "output_type": "display_data"
    }
   ],
   "source": [
    "plot_confusion_matrix(GB, X_test_scaled, y_test);"
   ]
  },
  {
   "cell_type": "markdown",
   "id": "3ff921de",
   "metadata": {},
   "source": [
    "The GB model with baseline settings appears to perform about equal to the optimized RF model."
   ]
  },
  {
   "cell_type": "code",
   "execution_count": 75,
   "id": "f4d59efd",
   "metadata": {},
   "outputs": [
    {
     "data": {
      "text/plain": [
       "array([0.1, 0.2, 0.3, 0.4, 0.5, 0.6, 0.7, 0.8, 0.9, 1. ])"
      ]
     },
     "execution_count": 75,
     "metadata": {},
     "output_type": "execute_result"
    }
   ],
   "source": [
    "np.linspace(0.1, 1.0, 10, endpoint=True)"
   ]
  },
  {
   "cell_type": "code",
   "execution_count": 77,
   "id": "c49009b8",
   "metadata": {},
   "outputs": [],
   "source": [
    "# Make pipeline\n",
    "pipeline = Pipeline([('scaler', StandardScaler()), ('GB', GradientBoostingClassifier())])\n",
    "\n",
    "# Define param grid\n",
    "param_grid = {\n",
    "    'GB__n_estimators': [5, 10, 15, 25, 50, 100, 200],\n",
    "    'GB__max_depth': [4,5,6,7,8],\n",
    "    'GB__learning_rate': [0.01, 0.05, 0.1, 0.2, 0.5],\n",
    "    'GB__max_features': ['sqrt','log2',None],\n",
    "    'GB__min_samples_split': [.005, .01]\n",
    "}"
   ]
  },
  {
   "cell_type": "code",
   "execution_count": 83,
   "id": "d398b67b",
   "metadata": {},
   "outputs": [
    {
     "name": "stdout",
     "output_type": "stream",
     "text": [
      "Wall time: 32min 11s\n"
     ]
    },
    {
     "data": {
      "text/plain": [
       "GridSearchCV(cv=5,\n",
       "             estimator=Pipeline(steps=[('scaler', StandardScaler()),\n",
       "                                       ('GB', GradientBoostingClassifier())]),\n",
       "             n_jobs=-1,\n",
       "             param_grid={'GB__learning_rate': [0.01, 0.05, 0.1, 0.2, 0.5],\n",
       "                         'GB__max_depth': [4, 5, 6, 7, 8],\n",
       "                         'GB__max_features': ['sqrt', 'log2', None],\n",
       "                         'GB__min_samples_split': [0.005, 0.01],\n",
       "                         'GB__n_estimators': [5, 10, 15, 25, 50, 100, 200]},\n",
       "             scoring='accuracy')"
      ]
     },
     "execution_count": 83,
     "metadata": {},
     "output_type": "execute_result"
    }
   ],
   "source": [
    "%%time\n",
    "\n",
    "#scoring= ['accuracy', 'roc_auc', 'neg_log_loss']\n",
    "\n",
    "GB_gridcv = GridSearchCV(pipeline, param_grid, scoring='accuracy', cv=5, n_jobs=-1)\n",
    "GB_gridcv.fit(X_train, y_train)"
   ]
  },
  {
   "cell_type": "code",
   "execution_count": 84,
   "id": "e4767ec6",
   "metadata": {},
   "outputs": [
    {
     "data": {
      "text/plain": [
       "(Pipeline(steps=[('scaler', StandardScaler()),\n",
       "                 ('GB',\n",
       "                  GradientBoostingClassifier(max_depth=5, max_features='sqrt',\n",
       "                                             min_samples_split=0.005,\n",
       "                                             n_estimators=200))]),\n",
       " {'GB__learning_rate': 0.1,\n",
       "  'GB__max_depth': 5,\n",
       "  'GB__max_features': 'sqrt',\n",
       "  'GB__min_samples_split': 0.005,\n",
       "  'GB__n_estimators': 200},\n",
       " 0.7952533333333334)"
      ]
     },
     "execution_count": 84,
     "metadata": {},
     "output_type": "execute_result"
    }
   ],
   "source": [
    "GB_gridcv.best_estimator_, GB_gridcv.best_params_, GB_gridcv.best_score_"
   ]
  },
  {
   "cell_type": "code",
   "execution_count": 166,
   "id": "66f82a28",
   "metadata": {},
   "outputs": [
    {
     "name": "stdout",
     "output_type": "stream",
     "text": [
      "              precision    recall  f1-score   support\n",
      "\n",
      "           0       0.82      0.87      0.85      7950\n",
      "           1       0.75      0.67      0.71      4550\n",
      "\n",
      "    accuracy                           0.80     12500\n",
      "   macro avg       0.78      0.77      0.78     12500\n",
      "weighted avg       0.79      0.80      0.79     12500\n",
      "\n",
      "Wall time: 129 ms\n"
     ]
    }
   ],
   "source": [
    "GB_best = GB_gridcv.best_estimator_\n",
    "\n",
    "y_pred = GB_best.predict(X_test)\n",
    "\n",
    "print(classification_report(y_test, y_pred))"
   ]
  },
  {
   "cell_type": "code",
   "execution_count": 86,
   "id": "eeae752b",
   "metadata": {},
   "outputs": [
    {
     "data": {
      "image/png": "[encoded data removed]",
      "text/plain": [
       "<Figure size 432x288 with 2 Axes>"
      ]
     },
     "metadata": {
      "needs_background": "light"
     },
     "output_type": "display_data"
    }
   ],
   "source": [
    "plot_confusion_matrix(GB_best, X_test, y_test);"
   ]
  },
  {
   "cell_type": "code",
   "execution_count": 87,
   "id": "242e4448",
   "metadata": {},
   "outputs": [
    {
     "data": {
      "image/png": "[encoded data removed]",
      "text/plain": [
       "<Figure size 1080x360 with 1 Axes>"
      ]
     },
     "metadata": {
      "needs_background": "light"
     },
     "output_type": "display_data"
    }
   ],
   "source": [
    "# Viewing feature importances\n",
    "\n",
    "importance = GB_best.named_steps.GB.feature_importances_\n",
    "GB_imp = pd.Series(importance, index=X_train.columns).sort_values(ascending=False)\n",
    "#std = np.std([tree.feature_importances_ for tree in RF_best.named_steps.RF.estimators_], axis=0)\n",
    "\n",
    "# Plot\n",
    "fig, ax = plt.subplots(figsize=(15,5))\n",
    "\n",
    "GB_imp.plot.bar(yerr=std, ax=ax)\n",
    "\n",
    "ax.set_title(\"Feature importances\")\n",
    "ax.set_ylabel(\"Mean decrease in impurity\")\n",
    "plt.xticks(rotation=45);"
   ]
  },
  {
   "cell_type": "markdown",
   "id": "4af3a7a5",
   "metadata": {},
   "source": [
    "Based on this model, our most influential features are avg rating by driver, King's Landing, and weekday %."
   ]
  },
  {
   "cell_type": "markdown",
   "id": "b2284cff",
   "metadata": {},
   "source": [
    "# IV. Compare All Models"
   ]
  },
  {
   "cell_type": "code",
   "execution_count": 131,
   "id": "6d1d2c91",
   "metadata": {},
   "outputs": [],
   "source": [
    "models = [('LogReg_best', LR_best), \n",
    "          ('RF_best', RF_best),\n",
    "          ('GB_best', GB_best)]\n",
    "\n",
    "scoring = ['accuracy', 'f1', 'roc_auc']"
   ]
  },
  {
   "cell_type": "code",
   "execution_count": 94,
   "id": "a05f9d6f",
   "metadata": {},
   "outputs": [
    {
     "name": "stdout",
     "output_type": "stream",
     "text": [
      "Wall time: 4min 2s\n"
     ]
    }
   ],
   "source": [
    "%%time\n",
    "%%capture --no-display\n",
    "\n",
    "results= {}\n",
    "for name, model in models:\n",
    "    results[name] = {}\n",
    "    for i in scoring:        \n",
    "        scores = cross_validate(model, X_train, y_train, scoring=i, cv=5, return_train_score=True)\n",
    "        results[name][i] = scores"
   ]
  },
  {
   "cell_type": "code",
   "execution_count": 175,
   "id": "b029f40a",
   "metadata": {},
   "outputs": [],
   "source": [
    "# Calculate mean and std for each model and metric\n",
    "\n",
    "Accuracy_Train = []\n",
    "Accuracy_Test = []\n",
    "F1_Train = []\n",
    "F1_Test = []\n",
    "ROC_AUC_Train = []\n",
    "ROC_AUC_Test = []\n",
    "\n",
    "for model in results.keys():\n",
    "    # Accuracy\n",
    "    acc_train_mean = results[model]['accuracy']['train_score'].mean()*100\n",
    "    acc_test_mean = results[model]['accuracy']['test_score'].mean()*100\n",
    "    Accuracy_Train.append(round(acc_train_mean, 2))\n",
    "    Accuracy_Test.append(round(acc_test_mean, 2))\n",
    "    \n",
    "    # F1\n",
    "    f1_train_mean = results[model]['f1']['train_score'].mean()*100\n",
    "    f1_test_mean = results[model]['f1']['test_score'].mean()*100\n",
    "    F1_Train.append(round(f1_train_mean, 2))\n",
    "    F1_Test.append(round(f1_test_mean, 2))\n",
    "    \n",
    "    # ROC AUC\n",
    "    auc_train_mean = results[model]['roc_auc']['train_score'].mean()*100\n",
    "    auc_test_mean = results[model]['roc_auc']['test_score'].mean()*100\n",
    "    ROC_AUC_Train.append(round(auc_train_mean, 2))\n",
    "    ROC_AUC_Test.append(round(auc_test_mean, 2))"
   ]
  },
  {
   "cell_type": "code",
   "execution_count": null,
   "id": "b79cbdd2",
   "metadata": {},
   "outputs": [],
   "source": [
    "# Save model parameters as list\n",
    "\n",
    "steps = []\n",
    "for name, model in models:\n",
    "    steps.append(str(model[1]))"
   ]
  },
  {
   "cell_type": "code",
   "execution_count": 182,
   "id": "9cc0b2f8",
   "metadata": {},
   "outputs": [
    {
     "name": "stdout",
     "output_type": "stream",
     "text": [
      "LogisticRegression(C=0.001, penalty='none', solver='sag')\n",
      "RandomForestClassifier(max_depth=10, max_features='log2', n_estimators=600)\n",
      "GradientBoostingClassifier(max_depth=5, max_features='sqrt',\n",
      "                           min_samples_split=0.005, n_estimators=200)\n"
     ]
    }
   ],
   "source": [
    "for name, model in models:\n",
    "    print((str(model[1])))"
   ]
  },
  {
   "cell_type": "code",
   "execution_count": 187,
   "id": "8f70d30a",
   "metadata": {},
   "outputs": [
    {
     "data": {
      "text/html": [
       "<div>\n",
       "<style scoped>\n",
       "    .dataframe tbody tr th:only-of-type {\n",
       "        vertical-align: middle;\n",
       "    }\n",
       "\n",
       "    .dataframe tbody tr th {\n",
       "        vertical-align: top;\n",
       "    }\n",
       "\n",
       "    .dataframe thead th {\n",
       "        text-align: right;\n",
       "    }\n",
       "</style>\n",
       "<table border=\"1\" class=\"dataframe\">\n",
       "  <thead>\n",
       "    <tr style=\"text-align: right;\">\n",
       "      <th></th>\n",
       "      <th>Model</th>\n",
       "      <th>Accuracy_Train</th>\n",
       "      <th>Accuracy_Test</th>\n",
       "      <th>F1_Train</th>\n",
       "      <th>F1_Test</th>\n",
       "      <th>ROC_AUC_Train</th>\n",
       "      <th>ROC_AUC_Test</th>\n",
       "      <th>Parameters</th>\n",
       "    </tr>\n",
       "  </thead>\n",
       "  <tbody>\n",
       "    <tr>\n",
       "      <th>0</th>\n",
       "      <td>LogReg</td>\n",
       "      <td>72.54</td>\n",
       "      <td>72.55</td>\n",
       "      <td>56.86</td>\n",
       "      <td>56.88</td>\n",
       "      <td>76.83</td>\n",
       "      <td>76.79</td>\n",
       "      <td>LogisticRegression(C=0.001, penalty='none', solver='sag')</td>\n",
       "    </tr>\n",
       "    <tr>\n",
       "      <th>1</th>\n",
       "      <td>RandomForest_Classifier</td>\n",
       "      <td>82.18</td>\n",
       "      <td>78.73</td>\n",
       "      <td>74.31</td>\n",
       "      <td>69.24</td>\n",
       "      <td>89.34</td>\n",
       "      <td>85.34</td>\n",
       "      <td>RandomForestClassifier(max_depth=10, max_features='log2', n_estimators=600)</td>\n",
       "    </tr>\n",
       "    <tr>\n",
       "      <th>2</th>\n",
       "      <td>GradientBoost_Classifier</td>\n",
       "      <td>81.46</td>\n",
       "      <td>79.46</td>\n",
       "      <td>73.47</td>\n",
       "      <td>70.38</td>\n",
       "      <td>88.44</td>\n",
       "      <td>86.00</td>\n",
       "      <td>GradientBoostingClassifier(max_depth=5, max_features='sqrt',\\n                           min_sam...</td>\n",
       "    </tr>\n",
       "  </tbody>\n",
       "</table>\n",
       "</div>"
      ],
      "text/plain": [
       "                      Model  Accuracy_Train  Accuracy_Test  F1_Train  F1_Test  \\\n",
       "0                    LogReg           72.54          72.55     56.86    56.88   \n",
       "1   RandomForest_Classifier           82.18          78.73     74.31    69.24   \n",
       "2  GradientBoost_Classifier           81.46          79.46     73.47    70.38   \n",
       "\n",
       "   ROC_AUC_Train  ROC_AUC_Test  \\\n",
       "0          76.83         76.79   \n",
       "1          89.34         85.34   \n",
       "2          88.44         86.00   \n",
       "\n",
       "                                                                                            Parameters  \n",
       "0                                            LogisticRegression(C=0.001, penalty='none', solver='sag')  \n",
       "1                          RandomForestClassifier(max_depth=10, max_features='log2', n_estimators=600)  \n",
       "2  GradientBoostingClassifier(max_depth=5, max_features='sqrt',\\n                           min_sam...  "
      ]
     },
     "execution_count": 187,
     "metadata": {},
     "output_type": "execute_result"
    }
   ],
   "source": [
    "pd.options.display.max_colwidth = 100\n",
    "\n",
    "model_compare = pd.DataFrame(\n",
    "    {'Model': ['LogReg', 'RandomForest_Classifier', 'GradientBoost_Classifier'],\n",
    "     'Accuracy_Train': Accuracy_Train,\n",
    "     'Accuracy_Test': Accuracy_Test,\n",
    "     'F1_Train': F1_Train,\n",
    "     'F1_Test': F1_Test,\n",
    "     'ROC_AUC_Train': ROC_AUC_Train,\n",
    "     'ROC_AUC_Test': ROC_AUC_Test,\n",
    "     'Parameters': steps,\n",
    "    }\n",
    ")\n",
    "\n",
    "model_compare"
   ]
  },
  {
   "cell_type": "markdown",
   "id": "4fa84d70",
   "metadata": {},
   "source": [
    "It seems the gradient boosting classifier is our best performing model, though it's performance isn't much higher than the random forest classifier."
   ]
  },
  {
   "cell_type": "markdown",
   "id": "7ff84162",
   "metadata": {},
   "source": [
    "# V. Conclusion"
   ]
  },
  {
   "cell_type": "markdown",
   "id": "b2dde534",
   "metadata": {},
   "source": [
    "- About 36.62% of users who signed up January were still active six months later.\n",
    "- Users are more likely to be active if:\n",
    "    - They live in King's Landing\n",
    "    - They are an iPhone user\n",
    "    - They took an ultimate black ride in their first 30 days\n",
    "- Inactive users had a wider range of weekday usage. In other words, their usage didn't seem dependent on day of the week.\n",
    "\n",
    "The most influential features in our best model (gradient boost classifier with a max_depth of 5 and 200 estimators) were average rating by driver, city King's Landing, and percentage of weekday usage.\n",
    "\n",
    "Ultimate Inc. can use this information to:\n",
    "- Market differently to users in King's Landing\n",
    "- Offer special deals to users with high driver rating, decrease their wait time, or provide other perks.\n",
    "- Offer a commuter's perk, as users with a consistent weekday/weekend travel schedule are more likely to be active users."
   ]
  }
 ],
 "metadata": {
  "kernelspec": {
   "display_name": "Python 3 (ipykernel)",
   "language": "python",
   "name": "python3"
  },
  "language_info": {
   "codemirror_mode": {
    "name": "ipython",
    "version": 3
   },
   "file_extension": ".py",
   "mimetype": "text/x-python",
   "name": "python",
   "nbconvert_exporter": "python",
   "pygments_lexer": "ipython3",
   "version": "3.8.12"
  }
 },
 "nbformat": 4,
 "nbformat_minor": 5
}
