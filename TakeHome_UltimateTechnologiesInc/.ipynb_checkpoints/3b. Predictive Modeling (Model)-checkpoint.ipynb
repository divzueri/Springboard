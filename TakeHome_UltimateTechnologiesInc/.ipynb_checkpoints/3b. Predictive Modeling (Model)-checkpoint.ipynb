{
 "cells": [
  {
   "cell_type": "markdown",
   "id": "71841d1c",
   "metadata": {},
   "source": [
    "# 3b. Modeling"
   ]
  },
  {
   "cell_type": "code",
   "execution_count": 31,
   "id": "fda8b039",
   "metadata": {},
   "outputs": [],
   "source": [
    "import pandas as pd\n",
    "import numpy as np\n",
    "\n",
    "from sklearn.preprocessing import StandardScaler\n",
    "from sklearn.model_selection import cross_validate, RandomizedSearchCV, GridSearchCV\n",
    "\n",
    "from sklearn.dummy import DummyClassifier\n",
    "from sklearn.linear_model import LogisticRegression\n",
    "from sklearn.ensemble import RandomForestClassifier, GradientBoostingClassifier\n",
    "\n",
    "from sklearn.pipeline import Pipeline\n",
    "from sklearn.model_selection import RandomizedSearchCV, GridSearchCV\n",
    "\n",
    "from sklearn.metrics import (accuracy_score, f1_score, precision_recall_curve, auc, log_loss, classification_report,\n",
    "confusion_matrix, plot_confusion_matrix, roc_curve)"
   ]
  },
  {
   "cell_type": "code",
   "execution_count": 11,
   "id": "0135d608",
   "metadata": {},
   "outputs": [
    {
     "data": {
      "text/plain": [
       "((37500, 14), (12500, 14))"
      ]
     },
     "execution_count": 11,
     "metadata": {},
     "output_type": "execute_result"
    }
   ],
   "source": [
    "train = pd.read_csv('train.csv')\n",
    "test = pd.read_csv('test.csv')\n",
    "\n",
    "train.shape, test.shape"
   ]
  },
  {
   "cell_type": "code",
   "execution_count": 12,
   "id": "1c3e2fb3",
   "metadata": {},
   "outputs": [
    {
     "data": {
      "text/html": [
       "<div>\n",
       "<style scoped>\n",
       "    .dataframe tbody tr th:only-of-type {\n",
       "        vertical-align: middle;\n",
       "    }\n",
       "\n",
       "    .dataframe tbody tr th {\n",
       "        vertical-align: top;\n",
       "    }\n",
       "\n",
       "    .dataframe thead th {\n",
       "        text-align: right;\n",
       "    }\n",
       "</style>\n",
       "<table border=\"1\" class=\"dataframe\">\n",
       "  <thead>\n",
       "    <tr style=\"text-align: right;\">\n",
       "      <th></th>\n",
       "      <th>trips_in_first_30_days</th>\n",
       "      <th>signup_date</th>\n",
       "      <th>avg_rating_of_driver</th>\n",
       "      <th>avg_surge</th>\n",
       "      <th>last_trip_date</th>\n",
       "      <th>surge_pct</th>\n",
       "      <th>ultimate_black_user</th>\n",
       "      <th>weekday_pct</th>\n",
       "      <th>avg_dist</th>\n",
       "      <th>avg_rating_by_driver</th>\n",
       "      <th>active</th>\n",
       "      <th>iPhone</th>\n",
       "      <th>city_King's Landing</th>\n",
       "      <th>city_Winterfell</th>\n",
       "    </tr>\n",
       "  </thead>\n",
       "  <tbody>\n",
       "    <tr>\n",
       "      <th>0</th>\n",
       "      <td>0</td>\n",
       "      <td>2014-01-01</td>\n",
       "      <td>3.0</td>\n",
       "      <td>1.0</td>\n",
       "      <td>2014-06-16</td>\n",
       "      <td>0.0</td>\n",
       "      <td>1</td>\n",
       "      <td>100.0</td>\n",
       "      <td>3.90</td>\n",
       "      <td>4.0</td>\n",
       "      <td>1</td>\n",
       "      <td>1</td>\n",
       "      <td>1</td>\n",
       "      <td>0</td>\n",
       "    </tr>\n",
       "    <tr>\n",
       "      <th>1</th>\n",
       "      <td>2</td>\n",
       "      <td>2014-01-09</td>\n",
       "      <td>5.0</td>\n",
       "      <td>1.0</td>\n",
       "      <td>2014-06-08</td>\n",
       "      <td>0.0</td>\n",
       "      <td>1</td>\n",
       "      <td>50.0</td>\n",
       "      <td>2.64</td>\n",
       "      <td>4.9</td>\n",
       "      <td>1</td>\n",
       "      <td>1</td>\n",
       "      <td>0</td>\n",
       "      <td>1</td>\n",
       "    </tr>\n",
       "    <tr>\n",
       "      <th>2</th>\n",
       "      <td>1</td>\n",
       "      <td>2014-01-07</td>\n",
       "      <td>5.0</td>\n",
       "      <td>1.0</td>\n",
       "      <td>2014-01-08</td>\n",
       "      <td>0.0</td>\n",
       "      <td>0</td>\n",
       "      <td>100.0</td>\n",
       "      <td>15.74</td>\n",
       "      <td>5.0</td>\n",
       "      <td>0</td>\n",
       "      <td>0</td>\n",
       "      <td>0</td>\n",
       "      <td>0</td>\n",
       "    </tr>\n",
       "    <tr>\n",
       "      <th>3</th>\n",
       "      <td>1</td>\n",
       "      <td>2014-01-12</td>\n",
       "      <td>5.0</td>\n",
       "      <td>1.0</td>\n",
       "      <td>2014-01-12</td>\n",
       "      <td>0.0</td>\n",
       "      <td>0</td>\n",
       "      <td>0.0</td>\n",
       "      <td>3.09</td>\n",
       "      <td>5.0</td>\n",
       "      <td>0</td>\n",
       "      <td>1</td>\n",
       "      <td>0</td>\n",
       "      <td>1</td>\n",
       "    </tr>\n",
       "    <tr>\n",
       "      <th>4</th>\n",
       "      <td>2</td>\n",
       "      <td>2014-01-02</td>\n",
       "      <td>5.0</td>\n",
       "      <td>1.0</td>\n",
       "      <td>2014-05-19</td>\n",
       "      <td>0.0</td>\n",
       "      <td>0</td>\n",
       "      <td>75.0</td>\n",
       "      <td>11.79</td>\n",
       "      <td>4.3</td>\n",
       "      <td>0</td>\n",
       "      <td>0</td>\n",
       "      <td>0</td>\n",
       "      <td>0</td>\n",
       "    </tr>\n",
       "  </tbody>\n",
       "</table>\n",
       "</div>"
      ],
      "text/plain": [
       "   trips_in_first_30_days signup_date  avg_rating_of_driver  avg_surge  \\\n",
       "0                       0  2014-01-01                   3.0        1.0   \n",
       "1                       2  2014-01-09                   5.0        1.0   \n",
       "2                       1  2014-01-07                   5.0        1.0   \n",
       "3                       1  2014-01-12                   5.0        1.0   \n",
       "4                       2  2014-01-02                   5.0        1.0   \n",
       "\n",
       "  last_trip_date  surge_pct  ultimate_black_user  weekday_pct  avg_dist  \\\n",
       "0     2014-06-16        0.0                    1        100.0      3.90   \n",
       "1     2014-06-08        0.0                    1         50.0      2.64   \n",
       "2     2014-01-08        0.0                    0        100.0     15.74   \n",
       "3     2014-01-12        0.0                    0          0.0      3.09   \n",
       "4     2014-05-19        0.0                    0         75.0     11.79   \n",
       "\n",
       "   avg_rating_by_driver  active  iPhone  city_King's Landing  city_Winterfell  \n",
       "0                   4.0       1       1                    1                0  \n",
       "1                   4.9       1       1                    0                1  \n",
       "2                   5.0       0       0                    0                0  \n",
       "3                   5.0       0       1                    0                1  \n",
       "4                   4.3       0       0                    0                0  "
      ]
     },
     "execution_count": 12,
     "metadata": {},
     "output_type": "execute_result"
    }
   ],
   "source": [
    "train.head()"
   ]
  },
  {
   "cell_type": "code",
   "execution_count": 17,
   "id": "882f4ae1",
   "metadata": {},
   "outputs": [
    {
     "data": {
      "text/plain": [
       "((37500, 11), (37500,), (12500, 11), (12500,))"
      ]
     },
     "execution_count": 17,
     "metadata": {},
     "output_type": "execute_result"
    }
   ],
   "source": [
    "X_train, y_train = train.drop(columns=['active', 'signup_date', 'last_trip_date']), train.active\n",
    "X_test, y_test = test.drop(columns=['active', 'signup_date', 'last_trip_date']), test.active\n",
    "\n",
    "X_train.shape, y_train.shape, X_test.shape, y_test.shape"
   ]
  },
  {
   "cell_type": "code",
   "execution_count": 18,
   "id": "77c4cd0a",
   "metadata": {},
   "outputs": [],
   "source": [
    "# Apply scaler\n",
    "\n",
    "scaler = StandardScaler()\n",
    "\n",
    "scaler.fit(X_train)\n",
    "\n",
    "X_train_scaled = scaler.transform(X_train)\n",
    "X_test_scaled = scaler.transform(X_test)"
   ]
  },
  {
   "cell_type": "code",
   "execution_count": null,
   "id": "2a82fb5d",
   "metadata": {},
   "outputs": [],
   "source": [
    "def print_eval(model, X_tr, X_te, y_tr, y_te):\n",
    "    \"\"\"Quickly evaluate different models\"\"\"\n",
    "    model.fit(X_tr, y_tr)\n",
    "    y_tr_pred = model.predict(X_tr)\n",
    "    y_te_pred = model.predict(X_te)\n",
    "    \n",
    "    r2_tr, r2_te = r2_score(y_tr, y_tr_pred), r2_score(y_te, y_te_pred)\n",
    "    rmse_tr, rmse_te = np.sqrt(mean_squared_error(y_tr, y_tr_pred)), np.sqrt(mean_squared_error(y_te, y_te_pred))\n",
    "    mae_tr, mae_te = mean_absolute_error(y_tr, y_tr_pred), mean_absolute_error(y_te, y_te_pred)\n",
    "    \n",
    "    print(f\"Train R2: {r2_tr:.2f}  |  Test R2: {r2_te:.2f} \\n\"\n",
    "         f\"Train RMSE: {rmse_tr:,.2f}  |  Test RMSE: {rmse_te:,.2f} \\n\"\n",
    "         f\"Train MAE: {mae_tr:,.2f}  |  Test MAE: {mae_te:,.2f}\")"
   ]
  },
  {
   "cell_type": "markdown",
   "id": "94ed4f03",
   "metadata": {},
   "source": [
    "## 0. Baseline Model"
   ]
  },
  {
   "cell_type": "code",
   "execution_count": 24,
   "id": "dc3ae35d",
   "metadata": {},
   "outputs": [
    {
     "data": {
      "text/html": [
       "<div>\n",
       "<style scoped>\n",
       "    .dataframe tbody tr th:only-of-type {\n",
       "        vertical-align: middle;\n",
       "    }\n",
       "\n",
       "    .dataframe tbody tr th {\n",
       "        vertical-align: top;\n",
       "    }\n",
       "\n",
       "    .dataframe thead th {\n",
       "        text-align: right;\n",
       "    }\n",
       "</style>\n",
       "<table border=\"1\" class=\"dataframe\">\n",
       "  <thead>\n",
       "    <tr style=\"text-align: right;\">\n",
       "      <th></th>\n",
       "      <th>Values</th>\n",
       "      <th>Perc</th>\n",
       "    </tr>\n",
       "  </thead>\n",
       "  <tbody>\n",
       "    <tr>\n",
       "      <th>0</th>\n",
       "      <td>23740</td>\n",
       "      <td>63.306667</td>\n",
       "    </tr>\n",
       "    <tr>\n",
       "      <th>1</th>\n",
       "      <td>13760</td>\n",
       "      <td>36.693333</td>\n",
       "    </tr>\n",
       "  </tbody>\n",
       "</table>\n",
       "</div>"
      ],
      "text/plain": [
       "   Values       Perc\n",
       "0   23740  63.306667\n",
       "1   13760  36.693333"
      ]
     },
     "execution_count": 24,
     "metadata": {},
     "output_type": "execute_result"
    }
   ],
   "source": [
    "pd.DataFrame({'Values':y_train.value_counts(), 'Perc':y_train.value_counts()/len(y_train)*100})"
   ]
  },
  {
   "cell_type": "markdown",
   "id": "e50f6091",
   "metadata": {},
   "source": [
    "About 63% of users are not active, so our baseline model will predict that all users are inactive."
   ]
  },
  {
   "cell_type": "code",
   "execution_count": 35,
   "id": "1e41e3db",
   "metadata": {},
   "outputs": [
    {
     "name": "stdout",
     "output_type": "stream",
     "text": [
      "              precision    recall  f1-score   support\n",
      "\n",
      "           0       1.00      0.64      0.78     12500\n",
      "           1       0.00      0.00      0.00         0\n",
      "\n",
      "    accuracy                           0.64     12500\n",
      "   macro avg       0.50      0.32      0.39     12500\n",
      "weighted avg       1.00      0.64      0.78     12500\n",
      "\n"
     ]
    }
   ],
   "source": [
    "dummy = DummyClassifier(strategy='most_frequent')\n",
    "dummy.fit(X_train_scaled, y_train)\n",
    "y_pred = dummy.predict(X_test_scaled)\n",
    "\n",
    "print(classification_report(y_pred, y_test, zero_division=0))"
   ]
  },
  {
   "cell_type": "code",
   "execution_count": 20,
   "id": "6ceb87fc",
   "metadata": {},
   "outputs": [
    {
     "data": {
      "image/png": "[encoded data removed]",
      "text/plain": [
       "<Figure size 432x288 with 2 Axes>"
      ]
     },
     "metadata": {
      "needs_background": "light"
     },
     "output_type": "display_data"
    }
   ],
   "source": [
    "plot_confusion_matrix(dummy, X_test_scaled, y_test);"
   ]
  },
  {
   "cell_type": "markdown",
   "id": "58752b36",
   "metadata": {},
   "source": [
    "Baseline accuracy is 0.64"
   ]
  },
  {
   "cell_type": "markdown",
   "id": "1693381c",
   "metadata": {},
   "source": [
    "## I. Logistic Regression"
   ]
  },
  {
   "cell_type": "code",
   "execution_count": 37,
   "id": "e5547c67",
   "metadata": {},
   "outputs": [
    {
     "name": "stdout",
     "output_type": "stream",
     "text": [
      "              precision    recall  f1-score   support\n",
      "\n",
      "           0       0.75      0.86      0.80      7950\n",
      "           1       0.67      0.49      0.57      4550\n",
      "\n",
      "    accuracy                           0.72     12500\n",
      "   macro avg       0.71      0.67      0.68     12500\n",
      "weighted avg       0.72      0.72      0.71     12500\n",
      "\n"
     ]
    }
   ],
   "source": [
    "LR = LogisticRegression(random_state=0)\n",
    "\n",
    "LR.fit(X_train_scaled, y_train)\n",
    "y_pred = LR.predict(X_test_scaled)\n",
    "\n",
    "print(classification_report(y_test, y_pred))"
   ]
  },
  {
   "cell_type": "code",
   "execution_count": 26,
   "id": "c124fc10",
   "metadata": {},
   "outputs": [
    {
     "data": {
      "image/png": "[encoded data removed]",
      "text/plain": [
       "<Figure size 432x288 with 2 Axes>"
      ]
     },
     "metadata": {
      "needs_background": "light"
     },
     "output_type": "display_data"
    }
   ],
   "source": [
    "plot_confusion_matrix(LR, X_test_scaled, y_test);"
   ]
  },
  {
   "cell_type": "code",
   "execution_count": 48,
   "id": "78afcae8",
   "metadata": {},
   "outputs": [],
   "source": [
    "# Make pipeline\n",
    "pipeline = Pipeline([('scaler', StandardScaler()), ('LR', LogisticRegression())])\n",
    "\n",
    "# Define param grid\n",
    "c_range = [0.001, 0.1, 1, 10, 100]\n",
    "penalty = ['l2', 'none']\n",
    "solver = ['newton-cg', 'lbfgs', 'sag', 'saga']\n",
    "class_weight = [None, 'balanced']\n",
    "\n",
    "param_grid = {'LR__C':c_range, 'LR__penalty':penalty, 'LR__solver':solver, 'LR__class_weight':class_weight}"
   ]
  },
  {
   "cell_type": "code",
   "execution_count": 49,
   "id": "c980ff3f",
   "metadata": {},
   "outputs": [
    {
     "name": "stderr",
     "output_type": "stream",
     "text": [
      "C:\\Users\\divzu\\anaconda3\\lib\\site-packages\\sklearn\\linear_model\\_logistic.py:1322: UserWarning: Setting penalty='none' will ignore the C and l1_ratio parameters\n",
      "  warnings.warn(\n"
     ]
    },
    {
     "data": {
      "text/plain": [
       "GridSearchCV(cv=5,\n",
       "             estimator=Pipeline(steps=[('scaler', StandardScaler()),\n",
       "                                       ('LR', LogisticRegression())]),\n",
       "             n_jobs=-1,\n",
       "             param_grid={'LR__C': [0.001, 0.1, 1, 10, 100],\n",
       "                         'LR__class_weight': [None, 'balanced'],\n",
       "                         'LR__penalty': ['l2', 'none'],\n",
       "                         'LR__solver': ['newton-cg', 'lbfgs', 'sag', 'saga']},\n",
       "             scoring='accuracy')"
      ]
     },
     "execution_count": 49,
     "metadata": {},
     "output_type": "execute_result"
    }
   ],
   "source": [
    "scoring= ['accuracy', 'roc_auc', 'neg_log_loss']\n",
    "\n",
    "LR_gridcv = GridSearchCV(pipeline, param_grid, scoring='accuracy', cv=5, n_jobs=-1)\n",
    "LR_gridcv.fit(X_train, y_train)"
   ]
  },
  {
   "cell_type": "code",
   "execution_count": 50,
   "id": "5859827e",
   "metadata": {},
   "outputs": [
    {
     "data": {
      "text/plain": [
       "(Pipeline(steps=[('scaler', StandardScaler()),\n",
       "                 ('LR',\n",
       "                  LogisticRegression(C=0.001, penalty='none',\n",
       "                                     solver='newton-cg'))]),\n",
       " {'LR__C': 0.001,\n",
       "  'LR__class_weight': None,\n",
       "  'LR__penalty': 'none',\n",
       "  'LR__solver': 'newton-cg'},\n",
       " 0.7254933333333333)"
      ]
     },
     "execution_count": 50,
     "metadata": {},
     "output_type": "execute_result"
    }
   ],
   "source": [
    "LR_gridcv.best_estimator_, LR_gridcv.best_params_, LR_gridcv.best_score_"
   ]
  },
  {
   "cell_type": "code",
   "execution_count": 51,
   "id": "2109fc7e",
   "metadata": {},
   "outputs": [
    {
     "name": "stdout",
     "output_type": "stream",
     "text": [
      "              precision    recall  f1-score   support\n",
      "\n",
      "           0       0.75      0.86      0.80      7950\n",
      "           1       0.67      0.49      0.57      4550\n",
      "\n",
      "    accuracy                           0.73     12500\n",
      "   macro avg       0.71      0.68      0.68     12500\n",
      "weighted avg       0.72      0.73      0.71     12500\n",
      "\n"
     ]
    }
   ],
   "source": [
    "y_pred = LR_gridcv.best_estimator_.predict(X_test)\n",
    "\n",
    "print(classification_report(y_test, y_pred))"
   ]
  },
  {
   "cell_type": "markdown",
   "id": "ecba0c26",
   "metadata": {},
   "source": [
    "Accuracy of grid search CV LR model is only slightly better than the default LR settings."
   ]
  },
  {
   "cell_type": "markdown",
   "id": "460d3078",
   "metadata": {},
   "source": [
    "## II. Random Forest Classifier"
   ]
  },
  {
   "cell_type": "code",
   "execution_count": 27,
   "id": "dfbc6185",
   "metadata": {},
   "outputs": [
    {
     "name": "stdout",
     "output_type": "stream",
     "text": [
      "              precision    recall  f1-score   support\n",
      "\n",
      "           0       0.81      0.83      0.82      7950\n",
      "           1       0.68      0.66      0.67      4550\n",
      "\n",
      "    accuracy                           0.77     12500\n",
      "   macro avg       0.75      0.74      0.75     12500\n",
      "weighted avg       0.76      0.77      0.77     12500\n",
      "\n"
     ]
    }
   ],
   "source": [
    "RF = RandomForestClassifier(random_state=0)\n",
    "\n",
    "RF.fit(X_train_scaled, y_train)\n",
    "y_pred = RF.predict(X_test_scaled)\n",
    "\n",
    "print(classification_report(y_test, y_pred))"
   ]
  },
  {
   "cell_type": "code",
   "execution_count": 28,
   "id": "19554632",
   "metadata": {},
   "outputs": [
    {
     "data": {
      "image/png": "[encoded data removed]",
      "text/plain": [
       "<Figure size 432x288 with 2 Axes>"
      ]
     },
     "metadata": {
      "needs_background": "light"
     },
     "output_type": "display_data"
    }
   ],
   "source": [
    "plot_confusion_matrix(RF, X_test_scaled, y_test);"
   ]
  },
  {
   "cell_type": "code",
   "execution_count": null,
   "id": "9f1c7fbe",
   "metadata": {},
   "outputs": [],
   "source": []
  },
  {
   "cell_type": "code",
   "execution_count": null,
   "id": "534c54b8",
   "metadata": {},
   "outputs": [],
   "source": [
    "# Make pipeline\n",
    "pipeline = Pipeline([('scaler', StandardScaler()), ('RF', RandomForestClassifier())])\n",
    "\n",
    "# Define param grid\n",
    "\n",
    "\n",
    "param_grid = {}"
   ]
  },
  {
   "cell_type": "code",
   "execution_count": null,
   "id": "0afb4a55",
   "metadata": {},
   "outputs": [],
   "source": []
  },
  {
   "cell_type": "markdown",
   "id": "5c97f69f",
   "metadata": {},
   "source": [
    "## III. Gradient Boost Classifier"
   ]
  },
  {
   "cell_type": "code",
   "execution_count": 29,
   "id": "9133642c",
   "metadata": {},
   "outputs": [
    {
     "name": "stdout",
     "output_type": "stream",
     "text": [
      "              precision    recall  f1-score   support\n",
      "\n",
      "           0       0.82      0.86      0.84      7950\n",
      "           1       0.74      0.66      0.69      4550\n",
      "\n",
      "    accuracy                           0.79     12500\n",
      "   macro avg       0.78      0.76      0.77     12500\n",
      "weighted avg       0.79      0.79      0.79     12500\n",
      "\n"
     ]
    }
   ],
   "source": [
    "GB = GradientBoostingClassifier(random_state=0)\n",
    "\n",
    "GB.fit(X_train_scaled, y_train)\n",
    "y_pred = GB.predict(X_test_scaled)\n",
    "\n",
    "print(classification_report(y_test, y_pred))"
   ]
  },
  {
   "cell_type": "code",
   "execution_count": 30,
   "id": "0ef3824a",
   "metadata": {},
   "outputs": [
    {
     "data": {
      "image/png": "[encoded data removed]",
      "text/plain": [
       "<Figure size 432x288 with 2 Axes>"
      ]
     },
     "metadata": {
      "needs_background": "light"
     },
     "output_type": "display_data"
    }
   ],
   "source": [
    "plot_confusion_matrix(GB, X_test_scaled, y_test);"
   ]
  },
  {
   "cell_type": "code",
   "execution_count": null,
   "id": "fd4caf06",
   "metadata": {},
   "outputs": [],
   "source": []
  },
  {
   "cell_type": "code",
   "execution_count": null,
   "id": "eaa1c908",
   "metadata": {},
   "outputs": [],
   "source": []
  },
  {
   "cell_type": "code",
   "execution_count": null,
   "id": "3fc49e46",
   "metadata": {},
   "outputs": [],
   "source": []
  }
 ],
 "metadata": {
  "kernelspec": {
   "display_name": "Python 3 (ipykernel)",
   "language": "python",
   "name": "python3"
  },
  "language_info": {
   "codemirror_mode": {
    "name": "ipython",
    "version": 3
   },
   "file_extension": ".py",
   "mimetype": "text/x-python",
   "name": "python",
   "nbconvert_exporter": "python",
   "pygments_lexer": "ipython3",
   "version": "3.8.12"
  }
 },
 "nbformat": 4,
 "nbformat_minor": 5
}
