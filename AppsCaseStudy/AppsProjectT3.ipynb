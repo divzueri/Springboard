{
 "cells": [
  {
   "cell_type": "markdown",
   "metadata": {
    "colab_type": "text",
    "id": "i2RUFW7TFcuh"
   },
   "source": [
    "# Springboard Apps project - Tier 3 - Complete\n",
    "\n",
    "Welcome to the Apps project! To give you a taste of your future career, we're going to walk through exactly the kind of notebook that you'd write as a data scientist. In the process, we'll be sure to signpost the general framework for our investigation - the Data Science Pipeline - as well as give reasons for why we're doing what we're doing. We're also going to apply some of the skills and knowledge you've built up in the previous unit when reading Professor Spiegelhalter's *The Art of Statistics* (hereinafter *AoS*). \n",
    "\n",
    "So let's get cracking!\n",
    "\n",
    "**Brief**\n",
    "\n",
    "Did Apple Store apps receive better reviews than Google Play apps?\n",
    "\n",
    "## Stages of the project\n",
    "\n",
    "1. Sourcing and loading \n",
    "    * Load the two datasets\n",
    "    * Pick the columns that we are going to work with \n",
    "    * Subsetting the data on this basis \n",
    " \n",
    " \n",
    "2. Cleaning, transforming and visualizing\n",
    "    * Check the data types and fix them\n",
    "    * Add a `platform` column to both the `Apple` and the `Google` dataframes\n",
    "    * Changing the column names to prepare for a join \n",
    "    * Join the two data sets\n",
    "    * Eliminate the `NaN` values\n",
    "    * Filter only those apps that have been reviewed at least once\n",
    "    * Summarize the data visually and analytically (by the column `platform`)  \n",
    "  \n",
    "  \n",
    "3. Modelling \n",
    "    * Hypothesis formulation\n",
    "    * Getting the distribution of the data\n",
    "    * Permutation test \n",
    "\n",
    "\n",
    "4. Evaluating and concluding \n",
    "    * What is our conclusion?\n",
    "    * What is our decision?\n",
    "    * Other models we could have used. \n",
    "    "
   ]
  },
  {
   "cell_type": "markdown",
   "metadata": {
    "colab_type": "text",
    "id": "QLUAXtl1Fcuk"
   },
   "source": [
    "## Importing the libraries\n",
    "\n",
    "In this case we are going to import pandas, numpy, scipy, random and matplotlib.pyplot"
   ]
  },
  {
   "cell_type": "code",
   "execution_count": 1,
   "metadata": {
    "colab": {},
    "colab_type": "code",
    "id": "XeXJOlGiFcum"
   },
   "outputs": [],
   "source": [
    "import pandas as pd\n",
    "import numpy as np\n",
    "import matplotlib.pyplot as plt\n",
    "# scipi is a library for statistical tests and visualizations \n",
    "from scipy import stats\n",
    "# random enables us to generate random numbers\n",
    "import random"
   ]
  },
  {
   "cell_type": "markdown",
   "metadata": {
    "colab_type": "text",
    "id": "zVD7NlPAFcup"
   },
   "source": [
    "## Stage 1 -  Sourcing and loading data"
   ]
  },
  {
   "cell_type": "markdown",
   "metadata": {
    "colab_type": "text",
    "id": "KU8bdbImFcuq"
   },
   "source": [
    "### 1a. Source and load the data\n",
    "Let's download the data from Kaggle. Kaggle is a fantastic resource: a kind of social medium for data scientists, it boasts projects, datasets and news on the freshest libraries and technologies all in one place. The data from the Apple Store can be found [here](https://www.kaggle.com/ramamet4/app-store-apple-data-set-10k-apps) and the data from Google Store can be found [here](https://www.kaggle.com/lava18/google-play-store-apps).\n",
    "Download the datasets and save them in your working directory."
   ]
  },
  {
   "cell_type": "code",
   "execution_count": 5,
   "metadata": {
    "colab": {},
    "colab_type": "code",
    "id": "laM1PB76Fcur"
   },
   "outputs": [
    {
     "data": {
      "text/html": [
       "<div>\n",
       "<style scoped>\n",
       "    .dataframe tbody tr th:only-of-type {\n",
       "        vertical-align: middle;\n",
       "    }\n",
       "\n",
       "    .dataframe tbody tr th {\n",
       "        vertical-align: top;\n",
       "    }\n",
       "\n",
       "    .dataframe thead th {\n",
       "        text-align: right;\n",
       "    }\n",
       "</style>\n",
       "<table border=\"1\" class=\"dataframe\">\n",
       "  <thead>\n",
       "    <tr style=\"text-align: right;\">\n",
       "      <th></th>\n",
       "      <th>App</th>\n",
       "      <th>Category</th>\n",
       "      <th>Rating</th>\n",
       "      <th>Reviews</th>\n",
       "      <th>Size</th>\n",
       "      <th>Installs</th>\n",
       "      <th>Type</th>\n",
       "      <th>Price</th>\n",
       "      <th>Content Rating</th>\n",
       "      <th>Genres</th>\n",
       "      <th>Last Updated</th>\n",
       "      <th>Current Ver</th>\n",
       "      <th>Android Ver</th>\n",
       "    </tr>\n",
       "  </thead>\n",
       "  <tbody>\n",
       "    <tr>\n",
       "      <th>0</th>\n",
       "      <td>Photo Editor &amp; Candy Camera &amp; Grid &amp; ScrapBook</td>\n",
       "      <td>ART_AND_DESIGN</td>\n",
       "      <td>4.1</td>\n",
       "      <td>159</td>\n",
       "      <td>19M</td>\n",
       "      <td>10,000+</td>\n",
       "      <td>Free</td>\n",
       "      <td>0</td>\n",
       "      <td>Everyone</td>\n",
       "      <td>Art &amp; Design</td>\n",
       "      <td>January 7, 2018</td>\n",
       "      <td>1.0.0</td>\n",
       "      <td>4.0.3 and up</td>\n",
       "    </tr>\n",
       "    <tr>\n",
       "      <th>1</th>\n",
       "      <td>Coloring book moana</td>\n",
       "      <td>ART_AND_DESIGN</td>\n",
       "      <td>3.9</td>\n",
       "      <td>967</td>\n",
       "      <td>14M</td>\n",
       "      <td>500,000+</td>\n",
       "      <td>Free</td>\n",
       "      <td>0</td>\n",
       "      <td>Everyone</td>\n",
       "      <td>Art &amp; Design;Pretend Play</td>\n",
       "      <td>January 15, 2018</td>\n",
       "      <td>2.0.0</td>\n",
       "      <td>4.0.3 and up</td>\n",
       "    </tr>\n",
       "    <tr>\n",
       "      <th>2</th>\n",
       "      <td>U Launcher Lite – FREE Live Cool Themes, Hide ...</td>\n",
       "      <td>ART_AND_DESIGN</td>\n",
       "      <td>4.7</td>\n",
       "      <td>87510</td>\n",
       "      <td>8.7M</td>\n",
       "      <td>5,000,000+</td>\n",
       "      <td>Free</td>\n",
       "      <td>0</td>\n",
       "      <td>Everyone</td>\n",
       "      <td>Art &amp; Design</td>\n",
       "      <td>August 1, 2018</td>\n",
       "      <td>1.2.4</td>\n",
       "      <td>4.0.3 and up</td>\n",
       "    </tr>\n",
       "  </tbody>\n",
       "</table>\n",
       "</div>"
      ],
      "text/plain": [
       "                                                 App        Category  Rating  \\\n",
       "0     Photo Editor & Candy Camera & Grid & ScrapBook  ART_AND_DESIGN     4.1   \n",
       "1                                Coloring book moana  ART_AND_DESIGN     3.9   \n",
       "2  U Launcher Lite – FREE Live Cool Themes, Hide ...  ART_AND_DESIGN     4.7   \n",
       "\n",
       "  Reviews  Size    Installs  Type Price Content Rating  \\\n",
       "0     159   19M     10,000+  Free     0       Everyone   \n",
       "1     967   14M    500,000+  Free     0       Everyone   \n",
       "2   87510  8.7M  5,000,000+  Free     0       Everyone   \n",
       "\n",
       "                      Genres      Last Updated Current Ver   Android Ver  \n",
       "0               Art & Design   January 7, 2018       1.0.0  4.0.3 and up  \n",
       "1  Art & Design;Pretend Play  January 15, 2018       2.0.0  4.0.3 and up  \n",
       "2               Art & Design    August 1, 2018       1.2.4  4.0.3 and up  "
      ]
     },
     "execution_count": 5,
     "metadata": {},
     "output_type": "execute_result"
    }
   ],
   "source": [
    "# Now that the files are saved, we want to load them into Python using read_csv and pandas.\n",
    "\n",
    "# Create a variable called google, and store in it the path of the csv file that contains your google dataset. \n",
    "# If your dataset is in the same folder as this notebook, the path will simply be the name of the file. \n",
    "google = 'raw_data/googleplaystore.csv'\n",
    "\n",
    "# Read the csv file into a data frame called Google using the read_csv() pandas method.\n",
    "google_df = pd.read_csv(google)\n",
    "\n",
    "# Using the head() pandas method, observe the first three entries.\n",
    "google_df.head(3)"
   ]
  },
  {
   "cell_type": "code",
   "execution_count": 6,
   "metadata": {
    "colab": {},
    "colab_type": "code",
    "id": "3AW8EA1wFcuu"
   },
   "outputs": [
    {
     "data": {
      "text/html": [
       "<div>\n",
       "<style scoped>\n",
       "    .dataframe tbody tr th:only-of-type {\n",
       "        vertical-align: middle;\n",
       "    }\n",
       "\n",
       "    .dataframe tbody tr th {\n",
       "        vertical-align: top;\n",
       "    }\n",
       "\n",
       "    .dataframe thead th {\n",
       "        text-align: right;\n",
       "    }\n",
       "</style>\n",
       "<table border=\"1\" class=\"dataframe\">\n",
       "  <thead>\n",
       "    <tr style=\"text-align: right;\">\n",
       "      <th></th>\n",
       "      <th>Unnamed: 0</th>\n",
       "      <th>id</th>\n",
       "      <th>track_name</th>\n",
       "      <th>size_bytes</th>\n",
       "      <th>currency</th>\n",
       "      <th>price</th>\n",
       "      <th>rating_count_tot</th>\n",
       "      <th>rating_count_ver</th>\n",
       "      <th>user_rating</th>\n",
       "      <th>user_rating_ver</th>\n",
       "      <th>ver</th>\n",
       "      <th>cont_rating</th>\n",
       "      <th>prime_genre</th>\n",
       "      <th>sup_devices.num</th>\n",
       "      <th>ipadSc_urls.num</th>\n",
       "      <th>lang.num</th>\n",
       "      <th>vpp_lic</th>\n",
       "    </tr>\n",
       "  </thead>\n",
       "  <tbody>\n",
       "    <tr>\n",
       "      <th>0</th>\n",
       "      <td>1</td>\n",
       "      <td>281656475</td>\n",
       "      <td>PAC-MAN Premium</td>\n",
       "      <td>100788224</td>\n",
       "      <td>USD</td>\n",
       "      <td>3.99</td>\n",
       "      <td>21292</td>\n",
       "      <td>26</td>\n",
       "      <td>4.0</td>\n",
       "      <td>4.5</td>\n",
       "      <td>6.3.5</td>\n",
       "      <td>4+</td>\n",
       "      <td>Games</td>\n",
       "      <td>38</td>\n",
       "      <td>5</td>\n",
       "      <td>10</td>\n",
       "      <td>1</td>\n",
       "    </tr>\n",
       "    <tr>\n",
       "      <th>1</th>\n",
       "      <td>2</td>\n",
       "      <td>281796108</td>\n",
       "      <td>Evernote - stay organized</td>\n",
       "      <td>158578688</td>\n",
       "      <td>USD</td>\n",
       "      <td>0.00</td>\n",
       "      <td>161065</td>\n",
       "      <td>26</td>\n",
       "      <td>4.0</td>\n",
       "      <td>3.5</td>\n",
       "      <td>8.2.2</td>\n",
       "      <td>4+</td>\n",
       "      <td>Productivity</td>\n",
       "      <td>37</td>\n",
       "      <td>5</td>\n",
       "      <td>23</td>\n",
       "      <td>1</td>\n",
       "    </tr>\n",
       "    <tr>\n",
       "      <th>2</th>\n",
       "      <td>3</td>\n",
       "      <td>281940292</td>\n",
       "      <td>WeatherBug - Local Weather, Radar, Maps, Alerts</td>\n",
       "      <td>100524032</td>\n",
       "      <td>USD</td>\n",
       "      <td>0.00</td>\n",
       "      <td>188583</td>\n",
       "      <td>2822</td>\n",
       "      <td>3.5</td>\n",
       "      <td>4.5</td>\n",
       "      <td>5.0.0</td>\n",
       "      <td>4+</td>\n",
       "      <td>Weather</td>\n",
       "      <td>37</td>\n",
       "      <td>5</td>\n",
       "      <td>3</td>\n",
       "      <td>1</td>\n",
       "    </tr>\n",
       "  </tbody>\n",
       "</table>\n",
       "</div>"
      ],
      "text/plain": [
       "   Unnamed: 0         id                                       track_name  \\\n",
       "0           1  281656475                                  PAC-MAN Premium   \n",
       "1           2  281796108                        Evernote - stay organized   \n",
       "2           3  281940292  WeatherBug - Local Weather, Radar, Maps, Alerts   \n",
       "\n",
       "   size_bytes currency  price  rating_count_tot  rating_count_ver  \\\n",
       "0   100788224      USD   3.99             21292                26   \n",
       "1   158578688      USD   0.00            161065                26   \n",
       "2   100524032      USD   0.00            188583              2822   \n",
       "\n",
       "   user_rating  user_rating_ver    ver cont_rating   prime_genre  \\\n",
       "0          4.0              4.5  6.3.5          4+         Games   \n",
       "1          4.0              3.5  8.2.2          4+  Productivity   \n",
       "2          3.5              4.5  5.0.0          4+       Weather   \n",
       "\n",
       "   sup_devices.num  ipadSc_urls.num  lang.num  vpp_lic  \n",
       "0               38                5        10        1  \n",
       "1               37                5        23        1  \n",
       "2               37                5         3        1  "
      ]
     },
     "execution_count": 6,
     "metadata": {},
     "output_type": "execute_result"
    }
   ],
   "source": [
    "# Create a variable called apple, and store in it the path of the csv file that contains your apple dataset. \n",
    "apple = 'raw_data/AppleStore.csv'\n",
    "\n",
    "# Read the csv file into a pandas DataFrame object called Apple.\n",
    "apple_df = pd.read_csv(apple)\n",
    "\n",
    "# Observe the first three entries like you did with your other data. \n",
    "apple_df.head(3)"
   ]
  },
  {
   "cell_type": "markdown",
   "metadata": {
    "colab_type": "text",
    "id": "vljOHKNTFcuw"
   },
   "source": [
    "### 1b. Pick the columns we'll work with\n",
    "\n",
    "From the documentation of these datasets, we can infer that the most appropriate columns to answer the brief are:\n",
    "\n",
    "1. Google:\n",
    "    * `Category` # Do we need this?\n",
    "    * `Rating`\n",
    "    * `Reviews`\n",
    "    * `Price` (maybe)\n",
    "2. Apple:    \n",
    "    * `prime_genre` # Do we need this?\n",
    "    * `user_rating` \n",
    "    * `rating_count_tot`\n",
    "    * `price` (maybe)"
   ]
  },
  {
   "cell_type": "markdown",
   "metadata": {
    "colab_type": "text",
    "id": "uf69AeTvFcux"
   },
   "source": [
    "### 1c. Subsetting accordingly\n",
    "\n",
    "Let's select only those columns that we want to work with from both datasets. We'll overwrite the subsets in the original variables."
   ]
  },
  {
   "cell_type": "code",
   "execution_count": 17,
   "metadata": {
    "colab": {},
    "colab_type": "code",
    "id": "LNSDXyjdFcuy"
   },
   "outputs": [
    {
     "data": {
      "text/html": [
       "<div>\n",
       "<style scoped>\n",
       "    .dataframe tbody tr th:only-of-type {\n",
       "        vertical-align: middle;\n",
       "    }\n",
       "\n",
       "    .dataframe tbody tr th {\n",
       "        vertical-align: top;\n",
       "    }\n",
       "\n",
       "    .dataframe thead th {\n",
       "        text-align: right;\n",
       "    }\n",
       "</style>\n",
       "<table border=\"1\" class=\"dataframe\">\n",
       "  <thead>\n",
       "    <tr style=\"text-align: right;\">\n",
       "      <th></th>\n",
       "      <th>Category</th>\n",
       "      <th>Rating</th>\n",
       "      <th>Reviews</th>\n",
       "      <th>Price</th>\n",
       "    </tr>\n",
       "  </thead>\n",
       "  <tbody>\n",
       "    <tr>\n",
       "      <th>0</th>\n",
       "      <td>ART_AND_DESIGN</td>\n",
       "      <td>4.1</td>\n",
       "      <td>159</td>\n",
       "      <td>0</td>\n",
       "    </tr>\n",
       "    <tr>\n",
       "      <th>1</th>\n",
       "      <td>ART_AND_DESIGN</td>\n",
       "      <td>3.9</td>\n",
       "      <td>967</td>\n",
       "      <td>0</td>\n",
       "    </tr>\n",
       "    <tr>\n",
       "      <th>2</th>\n",
       "      <td>ART_AND_DESIGN</td>\n",
       "      <td>4.7</td>\n",
       "      <td>87510</td>\n",
       "      <td>0</td>\n",
       "    </tr>\n",
       "  </tbody>\n",
       "</table>\n",
       "</div>"
      ],
      "text/plain": [
       "         Category  Rating Reviews Price\n",
       "0  ART_AND_DESIGN     4.1     159     0\n",
       "1  ART_AND_DESIGN     3.9     967     0\n",
       "2  ART_AND_DESIGN     4.7   87510     0"
      ]
     },
     "execution_count": 17,
     "metadata": {},
     "output_type": "execute_result"
    }
   ],
   "source": [
    "# Subset our DataFrame object Google by selecting just the variables ['Category', 'Rating', 'Reviews', 'Price']\n",
    "Google = google_df[['Category', 'Rating', 'Reviews', 'Price']]\n",
    "\n",
    "# Check the first three entries\n",
    "Google.head(3)"
   ]
  },
  {
   "cell_type": "code",
   "execution_count": 18,
   "metadata": {
    "colab": {},
    "colab_type": "code",
    "id": "AVCtENPtFcu0"
   },
   "outputs": [
    {
     "data": {
      "text/html": [
       "<div>\n",
       "<style scoped>\n",
       "    .dataframe tbody tr th:only-of-type {\n",
       "        vertical-align: middle;\n",
       "    }\n",
       "\n",
       "    .dataframe tbody tr th {\n",
       "        vertical-align: top;\n",
       "    }\n",
       "\n",
       "    .dataframe thead th {\n",
       "        text-align: right;\n",
       "    }\n",
       "</style>\n",
       "<table border=\"1\" class=\"dataframe\">\n",
       "  <thead>\n",
       "    <tr style=\"text-align: right;\">\n",
       "      <th></th>\n",
       "      <th>prime_genre</th>\n",
       "      <th>user_rating</th>\n",
       "      <th>rating_count_tot</th>\n",
       "      <th>price</th>\n",
       "    </tr>\n",
       "  </thead>\n",
       "  <tbody>\n",
       "    <tr>\n",
       "      <th>0</th>\n",
       "      <td>Games</td>\n",
       "      <td>4.0</td>\n",
       "      <td>21292</td>\n",
       "      <td>3.99</td>\n",
       "    </tr>\n",
       "    <tr>\n",
       "      <th>1</th>\n",
       "      <td>Productivity</td>\n",
       "      <td>4.0</td>\n",
       "      <td>161065</td>\n",
       "      <td>0.00</td>\n",
       "    </tr>\n",
       "    <tr>\n",
       "      <th>2</th>\n",
       "      <td>Weather</td>\n",
       "      <td>3.5</td>\n",
       "      <td>188583</td>\n",
       "      <td>0.00</td>\n",
       "    </tr>\n",
       "  </tbody>\n",
       "</table>\n",
       "</div>"
      ],
      "text/plain": [
       "    prime_genre  user_rating  rating_count_tot  price\n",
       "0         Games          4.0             21292   3.99\n",
       "1  Productivity          4.0            161065   0.00\n",
       "2       Weather          3.5            188583   0.00"
      ]
     },
     "execution_count": 18,
     "metadata": {},
     "output_type": "execute_result"
    }
   ],
   "source": [
    "# Do the same with our Apple object, selecting just the variables ['prime_genre', 'user_rating', 'rating_count_tot', 'price']\n",
    "Apple = apple_df[['prime_genre', 'user_rating', 'rating_count_tot', 'price']]\n",
    "\n",
    "# Let's check the first three entries\n",
    "Apple.head(3)"
   ]
  },
  {
   "cell_type": "markdown",
   "metadata": {
    "colab_type": "text",
    "id": "wwK2wH-rFcu2"
   },
   "source": [
    "## Stage 2 -  Cleaning, transforming and visualizing"
   ]
  },
  {
   "cell_type": "markdown",
   "metadata": {
    "colab_type": "text",
    "id": "NsoE5x0JFcu3"
   },
   "source": [
    "### 2a. Check the data types for both Apple and Google, and fix them\n",
    "\n",
    "Types are crucial for data science in Python. Let's determine whether the variables we selected in the previous section belong to the types they should do, or whether there are any errors here. "
   ]
  },
  {
   "cell_type": "code",
   "execution_count": 12,
   "metadata": {
    "colab": {},
    "colab_type": "code",
    "id": "ymw10SaWFcu4"
   },
   "outputs": [
    {
     "data": {
      "text/plain": [
       "prime_genre          object\n",
       "user_rating         float64\n",
       "rating_count_tot      int64\n",
       "price               float64\n",
       "dtype: object"
      ]
     },
     "execution_count": 12,
     "metadata": {},
     "output_type": "execute_result"
    }
   ],
   "source": [
    "# Using the dtypes feature of pandas DataFrame objects, check out the data types within our Apple dataframe.\n",
    "# Are they what you expect?\n",
    "Apple.dtypes"
   ]
  },
  {
   "cell_type": "markdown",
   "metadata": {
    "colab_type": "text",
    "id": "VAiM6jIxFcu6"
   },
   "source": [
    "This is looking healthy. But what about our Google data frame?"
   ]
  },
  {
   "cell_type": "code",
   "execution_count": 13,
   "metadata": {
    "colab": {},
    "colab_type": "code",
    "id": "kmP8MhqyFcu7"
   },
   "outputs": [
    {
     "data": {
      "text/plain": [
       "Category     object\n",
       "Rating      float64\n",
       "Reviews      object\n",
       "Price        object\n",
       "dtype: object"
      ]
     },
     "execution_count": 13,
     "metadata": {},
     "output_type": "execute_result"
    }
   ],
   "source": [
    "# Using the same dtypes feature, check out the data types of our Google dataframe. \n",
    "Google.dtypes"
   ]
  },
  {
   "cell_type": "markdown",
   "metadata": {
    "colab_type": "text",
    "id": "O-dxAy0WFcu9"
   },
   "source": [
    "Weird. The data type for the column 'Price' is 'object', not a numeric data type like a float or an integer. Let's investigate the unique values of this column. "
   ]
  },
  {
   "cell_type": "code",
   "execution_count": 24,
   "metadata": {
    "colab": {},
    "colab_type": "code",
    "id": "Hu08K9y7Fcu9"
   },
   "outputs": [
    {
     "data": {
      "text/plain": [
       "array(['0', '$4.99', '$3.99', '$6.99', '$1.49', '$2.99', '$7.99', '$5.99',\n",
       "       '$3.49', '$1.99', '$9.99', '$7.49', '$0.99', '$9.00', '$5.49',\n",
       "       '$10.00', '$24.99', '$11.99', '$79.99', '$16.99', '$14.99',\n",
       "       '$1.00', '$29.99', '$12.99', '$2.49', '$10.99', '$1.50', '$19.99',\n",
       "       '$15.99', '$33.99', '$74.99', '$39.99', '$3.95', '$4.49', '$1.70',\n",
       "       '$8.99', '$2.00', '$3.88', '$25.99', '$399.99', '$17.99',\n",
       "       '$400.00', '$3.02', '$1.76', '$4.84', '$4.77', '$1.61', '$2.50',\n",
       "       '$1.59', '$6.49', '$1.29', '$5.00', '$13.99', '$299.99', '$379.99',\n",
       "       '$37.99', '$18.99', '$389.99', '$19.90', '$8.49', '$1.75',\n",
       "       '$14.00', '$4.85', '$46.99', '$109.99', '$154.99', '$3.08',\n",
       "       '$2.59', '$4.80', '$1.96', '$19.40', '$3.90', '$4.59', '$15.46',\n",
       "       '$3.04', '$4.29', '$2.60', '$3.28', '$4.60', '$28.99', '$2.95',\n",
       "       '$2.90', '$1.97', '$200.00', '$89.99', '$2.56', '$30.99', '$3.61',\n",
       "       '$394.99', '$1.26', 'Everyone', '$1.20', '$1.04'], dtype=object)"
      ]
     },
     "execution_count": 24,
     "metadata": {},
     "output_type": "execute_result"
    }
   ],
   "source": [
    "# Use the unique() pandas method on the Price column to check its unique values. \n",
    "Google['Price'].unique()"
   ]
  },
  {
   "cell_type": "markdown",
   "metadata": {
    "colab_type": "text",
    "id": "w_7nkogFFcu_"
   },
   "source": [
    "Aha! Fascinating. There are actually two issues here. \n",
    "\n",
    "- Firstly, there's a price called `Everyone`. That is a massive mistake! \n",
    "- Secondly, there are dollar symbols everywhere! \n",
    "\n",
    "\n",
    "Let's address the first issue first. Let's check the datapoints that have the price value `Everyone`"
   ]
  },
  {
   "cell_type": "code",
   "execution_count": 25,
   "metadata": {
    "colab": {},
    "colab_type": "code",
    "id": "E75WWmhdFcvA"
   },
   "outputs": [
    {
     "data": {
      "text/html": [
       "<div>\n",
       "<style scoped>\n",
       "    .dataframe tbody tr th:only-of-type {\n",
       "        vertical-align: middle;\n",
       "    }\n",
       "\n",
       "    .dataframe tbody tr th {\n",
       "        vertical-align: top;\n",
       "    }\n",
       "\n",
       "    .dataframe thead th {\n",
       "        text-align: right;\n",
       "    }\n",
       "</style>\n",
       "<table border=\"1\" class=\"dataframe\">\n",
       "  <thead>\n",
       "    <tr style=\"text-align: right;\">\n",
       "      <th></th>\n",
       "      <th>Category</th>\n",
       "      <th>Rating</th>\n",
       "      <th>Reviews</th>\n",
       "      <th>Price</th>\n",
       "    </tr>\n",
       "  </thead>\n",
       "  <tbody>\n",
       "    <tr>\n",
       "      <th>10472</th>\n",
       "      <td>1.9</td>\n",
       "      <td>19.0</td>\n",
       "      <td>3.0M</td>\n",
       "      <td>Everyone</td>\n",
       "    </tr>\n",
       "  </tbody>\n",
       "</table>\n",
       "</div>"
      ],
      "text/plain": [
       "      Category  Rating Reviews     Price\n",
       "10472      1.9    19.0    3.0M  Everyone"
      ]
     },
     "execution_count": 25,
     "metadata": {},
     "output_type": "execute_result"
    }
   ],
   "source": [
    "# Let's check which data points have the value 'Everyone' for the 'Price' column by subsetting our Google dataframe.\n",
    "\n",
    "# Subset the Google dataframe on the price column. \n",
    "# To be sure: you want to pick out just those rows whose value for the 'Price' column is just 'Everyone'. \n",
    "Google[Google['Price']=='Everyone']"
   ]
  },
  {
   "cell_type": "markdown",
   "metadata": {
    "colab_type": "text",
    "id": "ezfLshdRFcvC"
   },
   "source": [
    "Thankfully, it's just one row. We've gotta get rid of it. "
   ]
  },
  {
   "cell_type": "code",
   "execution_count": 26,
   "metadata": {
    "colab": {},
    "colab_type": "code",
    "id": "DBmjUQUkFcvD"
   },
   "outputs": [
    {
     "data": {
      "text/plain": [
       "array(['0', '$4.99', '$3.99', '$6.99', '$1.49', '$2.99', '$7.99', '$5.99',\n",
       "       '$3.49', '$1.99', '$9.99', '$7.49', '$0.99', '$9.00', '$5.49',\n",
       "       '$10.00', '$24.99', '$11.99', '$79.99', '$16.99', '$14.99',\n",
       "       '$1.00', '$29.99', '$12.99', '$2.49', '$10.99', '$1.50', '$19.99',\n",
       "       '$15.99', '$33.99', '$74.99', '$39.99', '$3.95', '$4.49', '$1.70',\n",
       "       '$8.99', '$2.00', '$3.88', '$25.99', '$399.99', '$17.99',\n",
       "       '$400.00', '$3.02', '$1.76', '$4.84', '$4.77', '$1.61', '$2.50',\n",
       "       '$1.59', '$6.49', '$1.29', '$5.00', '$13.99', '$299.99', '$379.99',\n",
       "       '$37.99', '$18.99', '$389.99', '$19.90', '$8.49', '$1.75',\n",
       "       '$14.00', '$4.85', '$46.99', '$109.99', '$154.99', '$3.08',\n",
       "       '$2.59', '$4.80', '$1.96', '$19.40', '$3.90', '$4.59', '$15.46',\n",
       "       '$3.04', '$4.29', '$2.60', '$3.28', '$4.60', '$28.99', '$2.95',\n",
       "       '$2.90', '$1.97', '$200.00', '$89.99', '$2.56', '$30.99', '$3.61',\n",
       "       '$394.99', '$1.26', '$1.20', '$1.04'], dtype=object)"
      ]
     },
     "execution_count": 26,
     "metadata": {},
     "output_type": "execute_result"
    }
   ],
   "source": [
    "# Let's eliminate that row. \n",
    "\n",
    "# Subset our Google dataframe to pick out just those rows whose value for the 'Price' column is NOT 'Everyone'. \n",
    "# Reassign that subset to the Google variable. \n",
    "# You can do this in two lines or one. Your choice! \n",
    "Google = Google[Google['Price']!='Everyone']\n",
    "\n",
    "# Check again the unique values of Google\n",
    "Google['Price'].unique()"
   ]
  },
  {
   "cell_type": "markdown",
   "metadata": {
    "colab_type": "text",
    "id": "T43TB4qFFcvF"
   },
   "source": [
    "Our second problem remains: I'm seeing dollar symbols when I close my eyes! (And not in a good way). \n",
    "\n",
    "This is a problem because Python actually considers these values strings. So we can't do mathematical and statistical operations on them until we've made them into numbers. "
   ]
  },
  {
   "cell_type": "code",
   "execution_count": 30,
   "metadata": {
    "colab": {},
    "colab_type": "code",
    "id": "W87gVS9BFcvG"
   },
   "outputs": [
    {
     "name": "stderr",
     "output_type": "stream",
     "text": [
      "<ipython-input-30-d45c92603cba>:3: FutureWarning: The default value of regex will change from True to False in a future version. In addition, single character regular expressions will*not* be treated as literal strings when regex=True.\n",
      "  nosymb = Google['Price'].str.replace('$', '')\n"
     ]
    }
   ],
   "source": [
    "# Let's create a variable called nosymb.\n",
    "# This variable will take the Price column of Google and apply the str.replace() method. \n",
    "nosymb = Google['Price'].str.replace('$', '')\n",
    "\n",
    "# Now we need to do two things:\n",
    "# i. Make the values in the nosymb variable numeric using the to_numeric() pandas method.\n",
    "# ii. Assign this new set of numeric, dollar-sign-less values to Google['Price']. \n",
    "# You can do this in one line if you wish.\n",
    "Google['Price'] = pd.to_numeric(nosymb)"
   ]
  },
  {
   "cell_type": "markdown",
   "metadata": {
    "colab_type": "text",
    "id": "LxpJQ9yyFcvI"
   },
   "source": [
    "Now let's check the data types for our Google dataframe again, to verify that the 'Price' column really is numeric now."
   ]
  },
  {
   "cell_type": "code",
   "execution_count": 31,
   "metadata": {
    "colab": {},
    "colab_type": "code",
    "id": "Fn5Gt-QbFcvI"
   },
   "outputs": [
    {
     "data": {
      "text/plain": [
       "Category     object\n",
       "Rating      float64\n",
       "Reviews      object\n",
       "Price       float64\n",
       "dtype: object"
      ]
     },
     "execution_count": 31,
     "metadata": {},
     "output_type": "execute_result"
    }
   ],
   "source": [
    "# Use the function dtypes. \n",
    "Google.dtypes"
   ]
  },
  {
   "cell_type": "markdown",
   "metadata": {
    "colab_type": "text",
    "id": "FgfuiVo0FcvK"
   },
   "source": [
    "Notice that the column `Reviews` is still an object column. We actually need this column to be a numeric column, too. "
   ]
  },
  {
   "cell_type": "code",
   "execution_count": 32,
   "metadata": {
    "colab": {},
    "colab_type": "code",
    "id": "MiVEWsWBFcvL"
   },
   "outputs": [],
   "source": [
    "# Convert the 'Reviews' column to a numeric data type. \n",
    "Google['Reviews'] = pd.to_numeric(Google['Reviews'])"
   ]
  },
  {
   "cell_type": "code",
   "execution_count": 33,
   "metadata": {
    "colab": {},
    "colab_type": "code",
    "id": "wWJdXXTTFcvN"
   },
   "outputs": [
    {
     "data": {
      "text/plain": [
       "Category     object\n",
       "Rating      float64\n",
       "Reviews       int64\n",
       "Price       float64\n",
       "dtype: object"
      ]
     },
     "execution_count": 33,
     "metadata": {},
     "output_type": "execute_result"
    }
   ],
   "source": [
    "# Let's check the data types of Google again\n",
    "Google.dtypes"
   ]
  },
  {
   "cell_type": "markdown",
   "metadata": {
    "colab_type": "text",
    "id": "OiLm2GEKFcvP"
   },
   "source": [
    "### 2b. Add a `platform` column to both the `Apple` and the `Google` dataframes\n",
    "Let's add a new column to both dataframe objects called `platform`: all of its values in the Google dataframe will be just 'google', and all of its values for the Apple dataframe will be just 'apple'. \n",
    "\n",
    "The reason we're making this column is so that we can ultimately join our Apple and Google data together, and actually test out some hypotheses to solve the problem in our brief. "
   ]
  },
  {
   "cell_type": "code",
   "execution_count": 35,
   "metadata": {
    "colab": {},
    "colab_type": "code",
    "id": "mF-sOcx2FcvQ"
   },
   "outputs": [
    {
     "name": "stderr",
     "output_type": "stream",
     "text": [
      "<ipython-input-35-930e82a087a7>:4: SettingWithCopyWarning: \n",
      "A value is trying to be set on a copy of a slice from a DataFrame.\n",
      "Try using .loc[row_indexer,col_indexer] = value instead\n",
      "\n",
      "See the caveats in the documentation: https://pandas.pydata.org/pandas-docs/stable/user_guide/indexing.html#returning-a-view-versus-a-copy\n",
      "  Apple['Platform'] = 'apple'\n"
     ]
    }
   ],
   "source": [
    "# Create a column called 'platform' in both the Apple and Google dataframes. \n",
    "# Add the value 'apple' and the value 'google' as appropriate. \n",
    "Google['Platform'] = 'google'\n",
    "Apple['Platform'] = 'apple'"
   ]
  },
  {
   "cell_type": "markdown",
   "metadata": {
    "colab_type": "text",
    "id": "EJcry17IFcvS"
   },
   "source": [
    "### 2c. Changing the column names to prepare for our join of the two datasets \n",
    "Since the easiest way to join two datasets is if they have both:\n",
    "- the same number of columns\n",
    "- the same column names\n",
    "we need to rename the columns of `Apple` so that they're the same as the ones of `Google`, or vice versa.\n",
    "\n",
    "In this case, we're going to change the `Apple` columns names to the names of the `Google` columns. \n",
    "\n",
    "This is an important step to unify the two datasets!"
   ]
  },
  {
   "cell_type": "code",
   "execution_count": 43,
   "metadata": {
    "colab": {},
    "colab_type": "code",
    "id": "bdt9XH2KFcvT"
   },
   "outputs": [
    {
     "name": "stderr",
     "output_type": "stream",
     "text": [
      "C:\\Users\\divzu\\anaconda3\\lib\\site-packages\\pandas\\core\\frame.py:4441: SettingWithCopyWarning: \n",
      "A value is trying to be set on a copy of a slice from a DataFrame\n",
      "\n",
      "See the caveats in the documentation: https://pandas.pydata.org/pandas-docs/stable/user_guide/indexing.html#returning-a-view-versus-a-copy\n",
      "  return super().rename(\n"
     ]
    }
   ],
   "source": [
    "# Create a variable called old_names where you'll store the column names of the Apple dataframe. \n",
    "# Use the feature .columns.\n",
    "old_names = Apple.columns\n",
    "\n",
    "# Create a variable called new_names where you'll store the column names of the Google dataframe. \n",
    "new_names = Google.columns\n",
    "\n",
    "# Use the rename() DataFrame method to change the columns names. \n",
    "Apple.rename(columns=dict(zip(old_names, new_names)), inplace=True)"
   ]
  },
  {
   "cell_type": "markdown",
   "metadata": {
    "colab_type": "text",
    "id": "qewPiLrRFcvX"
   },
   "source": [
    "### 2d. Join the two datasets \n",
    "Let's combine the two datasets into a single data frame called `df`."
   ]
  },
  {
   "cell_type": "code",
   "execution_count": 48,
   "metadata": {
    "colab": {},
    "colab_type": "code",
    "id": "jq6fGfvyFcvY"
   },
   "outputs": [
    {
     "data": {
      "text/html": [
       "<div>\n",
       "<style scoped>\n",
       "    .dataframe tbody tr th:only-of-type {\n",
       "        vertical-align: middle;\n",
       "    }\n",
       "\n",
       "    .dataframe tbody tr th {\n",
       "        vertical-align: top;\n",
       "    }\n",
       "\n",
       "    .dataframe thead th {\n",
       "        text-align: right;\n",
       "    }\n",
       "</style>\n",
       "<table border=\"1\" class=\"dataframe\">\n",
       "  <thead>\n",
       "    <tr style=\"text-align: right;\">\n",
       "      <th></th>\n",
       "      <th>Category</th>\n",
       "      <th>Rating</th>\n",
       "      <th>Reviews</th>\n",
       "      <th>Price</th>\n",
       "      <th>Platform</th>\n",
       "    </tr>\n",
       "  </thead>\n",
       "  <tbody>\n",
       "    <tr>\n",
       "      <th>825</th>\n",
       "      <td>EDUCATION</td>\n",
       "      <td>4.4</td>\n",
       "      <td>148550</td>\n",
       "      <td>0.00</td>\n",
       "      <td>google</td>\n",
       "    </tr>\n",
       "    <tr>\n",
       "      <th>6821</th>\n",
       "      <td>Games</td>\n",
       "      <td>4.0</td>\n",
       "      <td>721</td>\n",
       "      <td>0.00</td>\n",
       "      <td>apple</td>\n",
       "    </tr>\n",
       "    <tr>\n",
       "      <th>7374</th>\n",
       "      <td>FAMILY</td>\n",
       "      <td>4.3</td>\n",
       "      <td>108</td>\n",
       "      <td>0.00</td>\n",
       "      <td>google</td>\n",
       "    </tr>\n",
       "    <tr>\n",
       "      <th>2485</th>\n",
       "      <td>MEDICAL</td>\n",
       "      <td>NaN</td>\n",
       "      <td>0</td>\n",
       "      <td>0.00</td>\n",
       "      <td>google</td>\n",
       "    </tr>\n",
       "    <tr>\n",
       "      <th>5115</th>\n",
       "      <td>Games</td>\n",
       "      <td>4.0</td>\n",
       "      <td>53</td>\n",
       "      <td>0.00</td>\n",
       "      <td>apple</td>\n",
       "    </tr>\n",
       "    <tr>\n",
       "      <th>4080</th>\n",
       "      <td>Games</td>\n",
       "      <td>3.0</td>\n",
       "      <td>129</td>\n",
       "      <td>0.99</td>\n",
       "      <td>apple</td>\n",
       "    </tr>\n",
       "    <tr>\n",
       "      <th>619</th>\n",
       "      <td>DATING</td>\n",
       "      <td>3.0</td>\n",
       "      <td>2</td>\n",
       "      <td>0.00</td>\n",
       "      <td>google</td>\n",
       "    </tr>\n",
       "    <tr>\n",
       "      <th>5781</th>\n",
       "      <td>Games</td>\n",
       "      <td>4.5</td>\n",
       "      <td>1974</td>\n",
       "      <td>0.00</td>\n",
       "      <td>apple</td>\n",
       "    </tr>\n",
       "    <tr>\n",
       "      <th>710</th>\n",
       "      <td>Lifestyle</td>\n",
       "      <td>3.0</td>\n",
       "      <td>1887</td>\n",
       "      <td>4.99</td>\n",
       "      <td>apple</td>\n",
       "    </tr>\n",
       "    <tr>\n",
       "      <th>7015</th>\n",
       "      <td>FAMILY</td>\n",
       "      <td>3.5</td>\n",
       "      <td>807</td>\n",
       "      <td>0.00</td>\n",
       "      <td>google</td>\n",
       "    </tr>\n",
       "    <tr>\n",
       "      <th>7953</th>\n",
       "      <td>FAMILY</td>\n",
       "      <td>3.9</td>\n",
       "      <td>139</td>\n",
       "      <td>0.00</td>\n",
       "      <td>google</td>\n",
       "    </tr>\n",
       "    <tr>\n",
       "      <th>407</th>\n",
       "      <td>COMMUNICATION</td>\n",
       "      <td>4.3</td>\n",
       "      <td>2546527</td>\n",
       "      <td>0.00</td>\n",
       "      <td>google</td>\n",
       "    </tr>\n",
       "  </tbody>\n",
       "</table>\n",
       "</div>"
      ],
      "text/plain": [
       "           Category  Rating  Reviews  Price Platform\n",
       "825       EDUCATION     4.4   148550   0.00   google\n",
       "6821          Games     4.0      721   0.00    apple\n",
       "7374         FAMILY     4.3      108   0.00   google\n",
       "2485        MEDICAL     NaN        0   0.00   google\n",
       "5115          Games     4.0       53   0.00    apple\n",
       "4080          Games     3.0      129   0.99    apple\n",
       "619          DATING     3.0        2   0.00   google\n",
       "5781          Games     4.5     1974   0.00    apple\n",
       "710       Lifestyle     3.0     1887   4.99    apple\n",
       "7015         FAMILY     3.5      807   0.00   google\n",
       "7953         FAMILY     3.9      139   0.00   google\n",
       "407   COMMUNICATION     4.3  2546527   0.00   google"
      ]
     },
     "execution_count": 48,
     "metadata": {},
     "output_type": "execute_result"
    }
   ],
   "source": [
    "# Let's use the append() method to append Apple to Google. \n",
    "df = Google.append(Apple)\n",
    "\n",
    "# Using the sample() method with the number 12 passed to it, check 12 random points of your dataset.\n",
    "df.sample(12)"
   ]
  },
  {
   "cell_type": "markdown",
   "metadata": {
    "colab_type": "text",
    "id": "FjqsHugWFcvb"
   },
   "source": [
    "### 2e. Eliminate the NaN values\n",
    "\n",
    "As you can see there are some `NaN` values. We want to eliminate all these `NaN` values from the table."
   ]
  },
  {
   "cell_type": "code",
   "execution_count": 49,
   "metadata": {},
   "outputs": [
    {
     "data": {
      "text/plain": [
       "Category       0\n",
       "Rating      1474\n",
       "Reviews        0\n",
       "Price          0\n",
       "Platform       0\n",
       "dtype: int64"
      ]
     },
     "execution_count": 49,
     "metadata": {},
     "output_type": "execute_result"
    }
   ],
   "source": [
    "df.isna().sum()"
   ]
  },
  {
   "cell_type": "code",
   "execution_count": 46,
   "metadata": {
    "colab": {},
    "colab_type": "code",
    "id": "Gp2q6GLyFcvb"
   },
   "outputs": [
    {
     "data": {
      "text/plain": [
       "(18037, 5)"
      ]
     },
     "execution_count": 46,
     "metadata": {},
     "output_type": "execute_result"
    }
   ],
   "source": [
    "# Lets check first the dimesions of df before droping `NaN` values. Use the .shape feature. \n",
    "df.shape"
   ]
  },
  {
   "cell_type": "code",
   "execution_count": 50,
   "metadata": {},
   "outputs": [],
   "source": [
    "# Use the dropna() method to eliminate all the NaN values, and overwrite the same dataframe with the result. \n",
    "df.dropna(inplace=True)"
   ]
  },
  {
   "cell_type": "code",
   "execution_count": 51,
   "metadata": {},
   "outputs": [
    {
     "data": {
      "text/plain": [
       "(16563, 5)"
      ]
     },
     "execution_count": 51,
     "metadata": {},
     "output_type": "execute_result"
    }
   ],
   "source": [
    "# Check the new dimesions of our dataframe. \n",
    "df.shape"
   ]
  },
  {
   "cell_type": "markdown",
   "metadata": {
    "colab_type": "text",
    "id": "qtfeQKtAFcvd"
   },
   "source": [
    "### 2f. Filter the data so that we only see whose apps that have been reviewed at least once\n",
    "\n",
    "Apps that haven't been reviewed yet can't help us solve our brief. \n",
    "\n",
    "So let's check to see if any apps have no reviews at all. "
   ]
  },
  {
   "cell_type": "code",
   "execution_count": 57,
   "metadata": {
    "colab": {},
    "colab_type": "code",
    "id": "Ge9OKXLNFcvd"
   },
   "outputs": [
    {
     "data": {
      "text/plain": [
       "Category    929\n",
       "Rating      929\n",
       "Reviews     929\n",
       "Price       929\n",
       "Platform    929\n",
       "dtype: int64"
      ]
     },
     "execution_count": 57,
     "metadata": {},
     "output_type": "execute_result"
    }
   ],
   "source": [
    "# Subset your df to pick out just those rows whose value for 'Reviews' is equal to 0. \n",
    "# Do a count() on the result. \n",
    "df[df['Reviews']==0].count()"
   ]
  },
  {
   "cell_type": "markdown",
   "metadata": {
    "colab_type": "text",
    "id": "05f7H0kAFcvg"
   },
   "source": [
    "929 apps do not have reviews, we need to eliminate these points!"
   ]
  },
  {
   "cell_type": "code",
   "execution_count": 58,
   "metadata": {
    "colab": {},
    "colab_type": "code",
    "id": "pD8vmPjkFcvg"
   },
   "outputs": [],
   "source": [
    "# Eliminate the points that have 0 reviews.\n",
    "df = df[df['Reviews']!=0]"
   ]
  },
  {
   "cell_type": "code",
   "execution_count": 59,
   "metadata": {},
   "outputs": [
    {
     "data": {
      "text/plain": [
       "(15634, 5)"
      ]
     },
     "execution_count": 59,
     "metadata": {},
     "output_type": "execute_result"
    }
   ],
   "source": [
    "df.shape"
   ]
  },
  {
   "cell_type": "markdown",
   "metadata": {
    "colab_type": "text",
    "id": "ApnKES_bFcvi"
   },
   "source": [
    "### 2g. Summarize the data visually and analytically (by the column `platform`)"
   ]
  },
  {
   "cell_type": "markdown",
   "metadata": {
    "colab_type": "text",
    "id": "2smt9UocFcvj"
   },
   "source": [
    "What we need to solve our brief is a summary of the `Rating` column, but separated by the different platforms."
   ]
  },
  {
   "cell_type": "code",
   "execution_count": 67,
   "metadata": {
    "colab": {},
    "colab_type": "code",
    "id": "Vqckt347Fcvj"
   },
   "outputs": [
    {
     "data": {
      "text/plain": [
       "Platform\n",
       "apple     4.049697\n",
       "google    4.191757\n",
       "Name: Rating, dtype: float64"
      ]
     },
     "execution_count": 67,
     "metadata": {},
     "output_type": "execute_result"
    }
   ],
   "source": [
    "# To summarize analytically, let's use the groupby() method on our df.\n",
    "df.groupby(by='Platform')['Rating'].mean()"
   ]
  },
  {
   "cell_type": "markdown",
   "metadata": {
    "colab_type": "text",
    "id": "8f9TqMtKFcvl"
   },
   "source": [
    "Interesting! Our means of 4.049697 and 4.191757 don't **seem** all that different! Perhaps we've solved our brief already: there's no significant difference between Google Play app reviews and Apple Store app reviews. We have an ***observed difference*** here: which is simply (4.191757 - 4.049697) = 0.14206. This is just the actual difference that we observed between the mean rating for apps from Google Play, and the mean rating for apps from the Apple Store. Let's look at how we're going to use this observed difference to solve our problem using a statistical test. \n",
    "\n",
    "**Outline of our method:**\n",
    "1. We'll assume that platform (i.e, whether the app was Google or Apple) really doesn’t impact on ratings. \n",
    "\n",
    "\n",
    "2. Given this assumption, we should actually be able to get a difference in mean rating for Apple apps and mean rating for Google apps that's pretty similar to the one we actually got (0.14206) just by: \n",
    "a. shuffling the ratings column, \n",
    "b. keeping the platform column the same,\n",
    "c. calculating the difference between the mean rating for Apple and the mean rating for Google. \n",
    "\n",
    "\n",
    "3. We can make the shuffle more useful by doing it many times, each time calculating the mean rating for Apple apps and the mean rating for Google apps, and the difference between these means. \n",
    "\n",
    "\n",
    "4. We can then take the mean of all these differences, and this will be called our permutation difference. This permutation difference will be great indicator of what the difference would be if our initial assumption were true and platform really doesn’t impact on ratings. \n",
    "\n",
    "\n",
    "5. Now we do a comparison. If the observed difference looks just like the permutation difference, then we stick with the claim that actually, platform doesn’t impact on ratings. If instead, however, the permutation difference differs significantly from the observed difference, we'll conclude: something's going on; the platform does in fact impact on ratings. \n",
    "\n",
    "\n",
    "6. As for what the definition of *significantly* is, we'll get to that. But there’s a brief summary of what we're going to do. Exciting!\n",
    "\n",
    "If you want to look more deeply at the statistics behind this project, check out [this resource](https://www.springboard.com/archeio/download/4ea4d453b0b84014bcef287c50f47f00/)."
   ]
  },
  {
   "cell_type": "markdown",
   "metadata": {
    "colab_type": "text",
    "id": "d6EhTxArFcvm"
   },
   "source": [
    "Let's also get a **visual summary** of the `Rating` column, separated by the different platforms. \n",
    "\n",
    "A good tool to use here is the boxplot!"
   ]
  },
  {
   "cell_type": "code",
   "execution_count": 72,
   "metadata": {
    "colab": {},
    "colab_type": "code",
    "id": "hFKjrlWgFcvm"
   },
   "outputs": [
    {
     "data": {
      "text/plain": [
       "<AxesSubplot:title={'center':'Rating'}, xlabel='Platform'>"
      ]
     },
     "execution_count": 72,
     "metadata": {},
     "output_type": "execute_result"
    },
    {
     "data": {
      "image/png": "[encoded data removed]",
      "text/plain": [
       "<Figure size 432x288 with 1 Axes>"
      ]
     },
     "metadata": {
      "needs_background": "light"
     },
     "output_type": "display_data"
    }
   ],
   "source": [
    "# Call the boxplot() method on our df.\n",
    "df.boxplot(column='Rating', by='Platform')"
   ]
  },
  {
   "cell_type": "markdown",
   "metadata": {
    "colab_type": "text",
    "id": "FqTlAjnmFcvo"
   },
   "source": [
    "Here we see the same information as in the analytical summary, but with a boxplot. Can you see how the boxplot is working here? If you need to revise your boxplots, check out this this [link](https://www.kaggle.com/ramamet4/app-store-apple-data-set-10k-apps). "
   ]
  },
  {
   "cell_type": "markdown",
   "metadata": {
    "colab_type": "text",
    "id": "O8L-s1fgFcvp"
   },
   "source": [
    "## Stage 3 - Modelling"
   ]
  },
  {
   "cell_type": "markdown",
   "metadata": {
    "colab_type": "text",
    "id": "5fbRq2MZFcvq"
   },
   "source": [
    "### 3a. Hypothesis formulation\n",
    "\n",
    "Our **Null hypothesis** is just:\n",
    "\n",
    "**H<sub>null</sub>**: the observed difference in the mean rating of Apple Store and Google Play apps is due to chance (and thus not due to the platform).\n",
    "\n",
    "The more interesting hypothesis is called the **Alternate hypothesis**:\n",
    "\n",
    "**H<sub>alternative</sub>**: the observed difference in the average ratings of apple and google users is not due to chance (and is actually due to platform)\n",
    "\n",
    "We're also going to pick a **significance level** of 0.05. "
   ]
  },
  {
   "cell_type": "markdown",
   "metadata": {
    "colab_type": "text",
    "id": "TjBqkabaFcvq"
   },
   "source": [
    "### 3b. Getting the distribution of the data\n",
    "Now that the hypotheses and significance level are defined, we can select a statistical test to determine which hypothesis to accept. \n",
    "\n",
    "There are many different statistical tests, all with different assumptions. You'll generate an excellent judgement about when to use which statistical tests over the Data Science Career Track course. But in general, one of the most important things to determine is the **distribution of the data**.   "
   ]
  },
  {
   "cell_type": "code",
   "execution_count": 73,
   "metadata": {
    "colab": {},
    "colab_type": "code",
    "id": "bFwVhkeWFcvr"
   },
   "outputs": [],
   "source": [
    "# Create a subset of the column 'Rating' by the different platforms.\n",
    "# Call the subsets 'apple' and 'google' \n",
    "apple = df['Rating'].loc[df['Platform']=='apple']\n",
    "google = df['Rating'].loc[df['Platform']=='google']"
   ]
  },
  {
   "cell_type": "code",
   "execution_count": 77,
   "metadata": {
    "colab": {},
    "colab_type": "code",
    "id": "oPPFpwPvFcvu"
   },
   "outputs": [
    {
     "name": "stdout",
     "output_type": "stream",
     "text": [
      "NormaltestResult(statistic=1778.9974234584017, pvalue=0.0)\n"
     ]
    }
   ],
   "source": [
    "# Using the stats.normaltest() method, get an indication of whether the apple data are normally distributed\n",
    "# Save the result in a variable called apple_normal, and print it out\n",
    "apple_normal = stats.normaltest(apple)\n",
    "print(apple_normal)"
   ]
  },
  {
   "cell_type": "code",
   "execution_count": 78,
   "metadata": {
    "colab": {},
    "colab_type": "code",
    "id": "rCdh8a8KFcvw"
   },
   "outputs": [
    {
     "name": "stdout",
     "output_type": "stream",
     "text": [
      "NormaltestResult(statistic=3678.6157187516856, pvalue=0.0)\n"
     ]
    }
   ],
   "source": [
    "# Do the same with the google data. \n",
    "google_normal = stats.normaltest(google)\n",
    "print(google_normal)"
   ]
  },
  {
   "cell_type": "markdown",
   "metadata": {
    "colab_type": "text",
    "id": "9gDqu21yFcv0"
   },
   "source": [
    "Since the null hypothesis of the normaltest() is that the data are normally distributed, the lower the p-value in the result of this test, the more likely the data are to be non-normal. \n",
    "\n",
    "Since the p-values is 0 for both tests, regardless of what we pick for the significance level, our conclusion is that the data are not normally distributed. \n",
    "\n",
    "We can actually also check out the distribution of the data visually with a histogram. A normal distribution has the following visual characteristics:\n",
    "    - symmetric\n",
    "    - unimodal (one hump)\n",
    "As well as a roughly identical mean, median and mode. "
   ]
  },
  {
   "cell_type": "code",
   "execution_count": 79,
   "metadata": {
    "colab": {},
    "colab_type": "code",
    "id": "P9tT9RjNFcv1"
   },
   "outputs": [
    {
     "data": {
      "text/plain": [
       "<AxesSubplot:>"
      ]
     },
     "execution_count": 79,
     "metadata": {},
     "output_type": "execute_result"
    },
    {
     "data": {
      "image/png": "[encoded data removed]",
      "text/plain": [
       "<Figure size 432x288 with 1 Axes>"
      ]
     },
     "metadata": {
      "needs_background": "light"
     },
     "output_type": "display_data"
    }
   ],
   "source": [
    "# Create a histogram of the apple reviews distribution\n",
    "apple.hist()"
   ]
  },
  {
   "cell_type": "code",
   "execution_count": 80,
   "metadata": {
    "colab": {},
    "colab_type": "code",
    "id": "8dE1uC5iFcv2"
   },
   "outputs": [
    {
     "data": {
      "text/plain": [
       "<AxesSubplot:>"
      ]
     },
     "execution_count": 80,
     "metadata": {},
     "output_type": "execute_result"
    },
    {
     "data": {
      "image/png": "[encoded data removed]",
      "text/plain": [
       "<Figure size 432x288 with 1 Axes>"
      ]
     },
     "metadata": {
      "needs_background": "light"
     },
     "output_type": "display_data"
    }
   ],
   "source": [
    "# Create a histogram of the google data\n",
    "google.hist()"
   ]
  },
  {
   "cell_type": "markdown",
   "metadata": {
    "colab_type": "text",
    "id": "QhZV89FzFcv5"
   },
   "source": [
    "### 3c. Permutation test\n",
    "Since the data aren't normally distributed, we're using a *non-parametric* test here. This is simply a label for statistical tests used when the data aren't normally distributed. These tests are extraordinarily powerful due to how few assumptions we need to make.  \n",
    "\n",
    "Check out more about permutations [here.](http://rasbt.github.io/mlxtend/user_guide/evaluate/permutation_test/)"
   ]
  },
  {
   "cell_type": "code",
   "execution_count": 81,
   "metadata": {
    "colab": {},
    "colab_type": "code",
    "id": "bxNhQgpqFcv6"
   },
   "outputs": [
    {
     "data": {
      "text/html": [
       "<div>\n",
       "<style scoped>\n",
       "    .dataframe tbody tr th:only-of-type {\n",
       "        vertical-align: middle;\n",
       "    }\n",
       "\n",
       "    .dataframe tbody tr th {\n",
       "        vertical-align: top;\n",
       "    }\n",
       "\n",
       "    .dataframe thead th {\n",
       "        text-align: right;\n",
       "    }\n",
       "</style>\n",
       "<table border=\"1\" class=\"dataframe\">\n",
       "  <thead>\n",
       "    <tr style=\"text-align: right;\">\n",
       "      <th></th>\n",
       "      <th>count</th>\n",
       "      <th>mean</th>\n",
       "      <th>std</th>\n",
       "      <th>min</th>\n",
       "      <th>25%</th>\n",
       "      <th>50%</th>\n",
       "      <th>75%</th>\n",
       "      <th>max</th>\n",
       "    </tr>\n",
       "    <tr>\n",
       "      <th>Platform</th>\n",
       "      <th></th>\n",
       "      <th></th>\n",
       "      <th></th>\n",
       "      <th></th>\n",
       "      <th></th>\n",
       "      <th></th>\n",
       "      <th></th>\n",
       "      <th></th>\n",
       "    </tr>\n",
       "  </thead>\n",
       "  <tbody>\n",
       "    <tr>\n",
       "      <th>apple</th>\n",
       "      <td>6268.0</td>\n",
       "      <td>4.137891</td>\n",
       "      <td>0.609432</td>\n",
       "      <td>1.0</td>\n",
       "      <td>4.0</td>\n",
       "      <td>4.3</td>\n",
       "      <td>4.5</td>\n",
       "      <td>5.0</td>\n",
       "    </tr>\n",
       "    <tr>\n",
       "      <th>google</th>\n",
       "      <td>9366.0</td>\n",
       "      <td>4.132735</td>\n",
       "      <td>0.615322</td>\n",
       "      <td>1.0</td>\n",
       "      <td>4.0</td>\n",
       "      <td>4.3</td>\n",
       "      <td>4.5</td>\n",
       "      <td>5.0</td>\n",
       "    </tr>\n",
       "  </tbody>\n",
       "</table>\n",
       "</div>"
      ],
      "text/plain": [
       "           count      mean       std  min  25%  50%  75%  max\n",
       "Platform                                                     \n",
       "apple     6268.0  4.137891  0.609432  1.0  4.0  4.3  4.5  5.0\n",
       "google    9366.0  4.132735  0.615322  1.0  4.0  4.3  4.5  5.0"
      ]
     },
     "execution_count": 81,
     "metadata": {},
     "output_type": "execute_result"
    }
   ],
   "source": [
    "# Create a column called `Permutation1`, and assign to it the result of permuting (shuffling) the Rating column\n",
    "# This assignment will use our numpy object's random.permutation() method\n",
    "df['Permutation1'] = np.random.permutation(df['Rating'])\n",
    "\n",
    "# Call the describe() method on our permutation grouped by 'platform'. \n",
    "df.groupby('Platform')['Permutation1'].describe()"
   ]
  },
  {
   "cell_type": "code",
   "execution_count": 83,
   "metadata": {},
   "outputs": [
    {
     "data": {
      "text/plain": [
       "4.137890874282065"
      ]
     },
     "execution_count": 83,
     "metadata": {},
     "output_type": "execute_result"
    }
   ],
   "source": [
    "df['Permutation1'].loc[df['Platform']=='apple'].mean()"
   ]
  },
  {
   "cell_type": "code",
   "execution_count": 82,
   "metadata": {
    "colab": {},
    "colab_type": "code",
    "id": "AaGNfPGTFcv7"
   },
   "outputs": [
    {
     "data": {
      "text/html": [
       "<div>\n",
       "<style scoped>\n",
       "    .dataframe tbody tr th:only-of-type {\n",
       "        vertical-align: middle;\n",
       "    }\n",
       "\n",
       "    .dataframe tbody tr th {\n",
       "        vertical-align: top;\n",
       "    }\n",
       "\n",
       "    .dataframe thead th {\n",
       "        text-align: right;\n",
       "    }\n",
       "</style>\n",
       "<table border=\"1\" class=\"dataframe\">\n",
       "  <thead>\n",
       "    <tr style=\"text-align: right;\">\n",
       "      <th></th>\n",
       "      <th>count</th>\n",
       "      <th>mean</th>\n",
       "      <th>std</th>\n",
       "      <th>min</th>\n",
       "      <th>25%</th>\n",
       "      <th>50%</th>\n",
       "      <th>75%</th>\n",
       "      <th>max</th>\n",
       "    </tr>\n",
       "    <tr>\n",
       "      <th>Platform</th>\n",
       "      <th></th>\n",
       "      <th></th>\n",
       "      <th></th>\n",
       "      <th></th>\n",
       "      <th></th>\n",
       "      <th></th>\n",
       "      <th></th>\n",
       "      <th></th>\n",
       "    </tr>\n",
       "  </thead>\n",
       "  <tbody>\n",
       "    <tr>\n",
       "      <th>apple</th>\n",
       "      <td>6268.0</td>\n",
       "      <td>4.049697</td>\n",
       "      <td>0.726943</td>\n",
       "      <td>1.0</td>\n",
       "      <td>4.0</td>\n",
       "      <td>4.5</td>\n",
       "      <td>4.5</td>\n",
       "      <td>5.0</td>\n",
       "    </tr>\n",
       "    <tr>\n",
       "      <th>google</th>\n",
       "      <td>9366.0</td>\n",
       "      <td>4.191757</td>\n",
       "      <td>0.515219</td>\n",
       "      <td>1.0</td>\n",
       "      <td>4.0</td>\n",
       "      <td>4.3</td>\n",
       "      <td>4.5</td>\n",
       "      <td>5.0</td>\n",
       "    </tr>\n",
       "  </tbody>\n",
       "</table>\n",
       "</div>"
      ],
      "text/plain": [
       "           count      mean       std  min  25%  50%  75%  max\n",
       "Platform                                                     \n",
       "apple     6268.0  4.049697  0.726943  1.0  4.0  4.5  4.5  5.0\n",
       "google    9366.0  4.191757  0.515219  1.0  4.0  4.3  4.5  5.0"
      ]
     },
     "execution_count": 82,
     "metadata": {},
     "output_type": "execute_result"
    }
   ],
   "source": [
    "# Lets compare with the previous analytical summary:\n",
    "df.groupby('Platform')['Rating'].describe()"
   ]
  },
  {
   "cell_type": "code",
   "execution_count": 91,
   "metadata": {
    "colab": {},
    "colab_type": "code",
    "id": "aJPNpX0JFcv-"
   },
   "outputs": [],
   "source": [
    "# The difference in the means for Permutation1 (0.001103) now looks hugely different to our observed difference of 0.14206. \n",
    "# It's sure starting to look like our observed difference is significant, and that the Null is false; platform does impact\n",
    "# ratings. But to be sure, let's create 10,000 permutations, calculate the mean ratings for Google and Apple apps and the\n",
    "# difference between these for each one, and then take the average of all of these differences.\n",
    "# Let's create a vector with the differences - that will be the distibution of the Null.\n",
    "\n",
    "# First, make a list called difference.\n",
    "difference = []\n",
    "\n",
    "# Now make a for loop that does the following 10,000 times:\n",
    "# 1. makes a permutation of the 'Rating' as you did above\n",
    "# 2. calculates the difference in the mean rating for apple and the mean rating for google. \n",
    "for i in range(10000):\n",
    "    df['Permutation2'] = np.random.permutation(df['Rating'])\n",
    "    apple_mean = df['Permutation2'].loc[df['Platform']=='apple'].mean()\n",
    "    google_mean = df['Permutation2'].loc[df['Platform']=='google'].mean()\n",
    "    diff = google_mean - apple_mean\n",
    "    difference.append(diff)"
   ]
  },
  {
   "cell_type": "code",
   "execution_count": 92,
   "metadata": {},
   "outputs": [
    {
     "data": {
      "text/plain": [
       "[0.0064556541393230304,\n",
       " -6.893322547352199e-05,\n",
       " -0.007871807094335104,\n",
       " 0.021981508970583263,\n",
       " -0.01405019186427836,\n",
       " -0.0012140648853860014,\n",
       " 0.010476930433525489,\n",
       " -0.011280571105329429,\n",
       " 0.0008631506837764036,\n",
       " -0.00257224429603653,\n",
       " -0.0027586610778618237,\n",
       " 0.010823133028393883,\n",
       " 0.02120921087435601,\n",
       " 0.009411691680075052,\n",
       " 0.011142704654405478,\n",
       " -0.007791914187849969,\n",
       " -0.02025520760301447,\n",
       " -0.006966354153925991,\n",
       " 0.00307352109716863,\n",
       " -0.01394366798891511,\n",
       " -0.013783882175911089,\n",
       " -0.021134029574573887,\n",
       " -0.0008678622905335942,\n",
       " 0.002141437187910711,\n",
       " 0.018333066240093565,\n",
       " -0.012239285983445924,\n",
       " -0.0030249707662362013,\n",
       " -0.004170102426159339,\n",
       " 0.010769871090710481,\n",
       " -0.0010010171347234476,\n",
       " -0.00409020951966621,\n",
       " 0.004032235975224729,\n",
       " 0.0008098887461347459,\n",
       " -0.010747951728613536,\n",
       " 0.00344635466087162,\n",
       " -0.003584221111784025,\n",
       " -0.008697367128263522,\n",
       " 0.0018751274995620903,\n",
       " -0.005688067649820994,\n",
       " 0.0009696745591316613,\n",
       " 0.010397037527019926,\n",
       " -0.006726675434394203,\n",
       " 0.009997572994477899,\n",
       " 0.017028148767127327,\n",
       " 0.013512860880800837,\n",
       " 0.0007566268084477912,\n",
       " 0.003792557255752449,\n",
       " -0.0020396249193224136,\n",
       " -0.0007347074463703862,\n",
       " -0.006353841870700094,\n",
       " 0.007574154830425783,\n",
       " 0.00424528372595212,\n",
       " -0.006273948964208742,\n",
       " -0.007978330969690361,\n",
       " -0.000734707446364169,\n",
       " 0.01590964807602191,\n",
       " -0.0029717088285545756,\n",
       " -0.0006015526021743156,\n",
       " 0.008559500677349341,\n",
       " -0.008564212284094097,\n",
       " 0.008879072303365376,\n",
       " 0.0037659262868929844,\n",
       " 0.02586963042060475,\n",
       " -0.00417010242618332,\n",
       " 0.010982918841388134,\n",
       " 0.015510183543473666,\n",
       " -0.008803891003612563,\n",
       " -0.002465720420680384,\n",
       " 0.009172012960543263,\n",
       " 0.0012093532786616734,\n",
       " 0.0047246411649721765,\n",
       " 0.012420991158543337,\n",
       " -0.0017999461997852961,\n",
       " -0.0012140648854117586,\n",
       " 0.00025063840056471776,\n",
       " 0.001901758468386916,\n",
       " 0.0032066759413487134,\n",
       " -0.008644105190586338,\n",
       " -0.0076853903124778356,\n",
       " 0.0019816513748942555,\n",
       " -0.012132762108080897,\n",
       " 0.006002927669113589,\n",
       " -0.011919714357370381,\n",
       " 0.00568335604306025,\n",
       " -0.0038238998313158135,\n",
       " 0.01569660032533804,\n",
       " 0.023712521944907472,\n",
       " -0.01069468979093724,\n",
       " 0.010556823340031052,\n",
       " -0.0006015526021796447,\n",
       " -0.003957054675487015,\n",
       " 0.0015022939358617649,\n",
       " -0.00907020069196296,\n",
       " -0.0013205887607226074,\n",
       " -0.014795858991653255,\n",
       " -0.013570834425205014,\n",
       " 0.008293190988958088,\n",
       " 0.017693922988012645,\n",
       " 0.013006872472926645,\n",
       " 0.010370406558172895,\n",
       " 0.019025471429809926,\n",
       " 0.0043784385701162165,\n",
       " 0.004591486320786764,\n",
       " -0.007419080624154972,\n",
       " 0.016042802920204657,\n",
       " 0.010450299464693558,\n",
       " -0.00488913858474227,\n",
       " -0.027525462095200126,\n",
       " 0.011648693062305426,\n",
       " 0.00911875102288029,\n",
       " -0.006353841870701871,\n",
       " -0.0023591965453304553,\n",
       " -0.0030516017350539215,\n",
       " 0.001875127499555873,\n",
       " -0.016739919716666662,\n",
       " 0.009598108461938537,\n",
       " -0.0012140648854099823,\n",
       " 0.006349130263959779,\n",
       " -0.008590843252930469,\n",
       " -0.0015070055425905338,\n",
       " 0.010503561402360084,\n",
       " -0.009256617473825557,\n",
       " 0.012394360189686537,\n",
       " 0.014498206727733276,\n",
       " -0.001906470075126343,\n",
       " -0.0035575901429547585,\n",
       " -0.012265916952273415,\n",
       " 0.0001441145252174536,\n",
       " -0.0015336365114206885,\n",
       " -0.0016667913556176472,\n",
       " 0.003792557255732021,\n",
       " 0.00975789427495144,\n",
       " 0.001528924904679485,\n",
       " -0.006273948964204301,\n",
       " -0.009229986504997179,\n",
       " 0.010503561402360084,\n",
       " -0.01924323078725454,\n",
       " 0.016468898421569733,\n",
       " 0.007760571612261735,\n",
       " -0.004516305021042832,\n",
       " -0.005501650867958396,\n",
       " -0.00448967405219225,\n",
       " -0.01255885760945219,\n",
       " -0.0019863629816292416,\n",
       " -0.018950290130026026,\n",
       " 0.0007299958396158601,\n",
       " -0.004010316613151765,\n",
       " -0.005315234086138432,\n",
       " -0.014156715739602532,\n",
       " -0.007472342561828604,\n",
       " -0.0026787681713571487,\n",
       " 0.0006234719642712605,\n",
       " -0.005794591525134507,\n",
       " -0.004063578550824509,\n",
       " -0.008830521972438277,\n",
       " -0.008404426471058102,\n",
       " -0.0035309591741041757,\n",
       " 0.007041535453690351,\n",
       " 0.015856386138345613,\n",
       " -0.0025456133271886117,\n",
       " -0.0019064700751378894,\n",
       " 0.01740098233082943,\n",
       " -0.010668058822113302,\n",
       " 0.005337153448217613,\n",
       " 0.018572744959596932,\n",
       " -0.01756547975059064,\n",
       " -0.0061940560577014026,\n",
       " -0.009496296193324483,\n",
       " 0.001129460372144564,\n",
       " -0.009549558131014102,\n",
       " 0.03031700221618383,\n",
       " -0.00925661747381401,\n",
       " -0.008244640658058522,\n",
       " -0.008004961938530286,\n",
       " 0.005097474728676943,\n",
       " -0.01162677370020404,\n",
       " -0.013677358300550502,\n",
       " 0.016628684234587965,\n",
       " 0.003339830785509257,\n",
       " 0.0022213300944144976,\n",
       " -0.009975653632386283,\n",
       " -0.001746684262131204,\n",
       " 0.005203998604013549,\n",
       " 0.00019737646289996746,\n",
       " 0.005390415385885028,\n",
       " -0.0033179114234238583,\n",
       " 0.00456485535195128,\n",
       " -0.015621419025563021,\n",
       " 0.004564855351973485,\n",
       " -0.009283248442643277,\n",
       " -0.0024390894518555584,\n",
       " 0.004538224383156653,\n",
       " -0.01058816591560241,\n",
       " 0.012580776971537588,\n",
       " -0.019722588226287918,\n",
       " -0.010241963320738456,\n",
       " -0.012931691173166726,\n",
       " -0.004782614709384347,\n",
       " -0.006886461247414211,\n",
       " -0.012292547921092023,\n",
       " 0.0021414371879249217,\n",
       " -0.0065136276837209905,\n",
       " 0.01849285205310025,\n",
       " -0.01532847836838691,\n",
       " 0.004644748258469278,\n",
       " 0.010157358807505013,\n",
       " 1.095968104714018e-05,\n",
       " -0.025315091681804347,\n",
       " -0.006407103808402148,\n",
       " 0.010663347215381869,\n",
       " 0.010450299464693558,\n",
       " 0.0010229364968106225,\n",
       " -0.0016401603867839398,\n",
       " -0.016074145495799108,\n",
       " 0.0010229364968159516,\n",
       " 0.0046713792273189725,\n",
       " 0.016655315203421672,\n",
       " -0.00976260588169886,\n",
       " -0.019189968849585348,\n",
       " -0.017352431999893447,\n",
       " 0.002434377845094815,\n",
       " 0.0017153416865367532,\n",
       " 0.0017153416865482995,\n",
       " 0.0013158771540027203,\n",
       " -0.013783882175903983,\n",
       " -0.005102186335446568,\n",
       " -0.016446979059471012,\n",
       " 0.001901758468392245,\n",
       " 0.007707309674596097,\n",
       " 0.00011748355638285801,\n",
       " -0.0089370458477811,\n",
       " -0.02033510050951559,\n",
       " 0.02224781865893899,\n",
       " -0.006460365746043806,\n",
       " 0.010104096869808288,\n",
       " -0.0021195178258057723,\n",
       " 0.0035795095050472625,\n",
       " -0.0023059346076674814,\n",
       " -0.005421757961475926,\n",
       " 0.006588808983480909,\n",
       " -0.022225899296846485,\n",
       " 0.015297135792787131,\n",
       " 0.013459598943130757,\n",
       " -0.01045501107143565,\n",
       " 0.006935011578357297,\n",
       " -0.0068065683409237465,\n",
       " -0.01210613113925696,\n",
       " 0.0050442127910166334,\n",
       " -0.006833199309742355,\n",
       " -0.008404426471074977,\n",
       " 0.016309112608563936,\n",
       " 0.005923034762592927,\n",
       " -0.005581543774462183,\n",
       " -0.00028198097617337936,\n",
       " 0.001235984247496269,\n",
       " 0.0024876397827817698,\n",
       " -0.013810513144743908,\n",
       " -0.0005749216333441609,\n",
       " -0.009016938754284887,\n",
       " -0.02006879082112789,\n",
       " 0.011568800155787429,\n",
       " 0.026801714329855564,\n",
       " 0.019611352744203003,\n",
       " 0.00030390033826588336,\n",
       " -0.0009211242282081145,\n",
       " 0.00030390033824190255,\n",
       " 0.00019737646289375022,\n",
       " 0.010689978184220905,\n",
       " -0.0032646494857555552,\n",
       " -0.03181304807775476,\n",
       " -0.0026255062336923984,\n",
       " 0.00019737646287598665,\n",
       " -0.005608174743282568,\n",
       " -0.0034776972364394254,\n",
       " -0.006939723185098501,\n",
       " -0.003664114018313569,\n",
       " 0.013219920223599857,\n",
       " -0.0032646494857608843,\n",
       " -0.01258548857828412,\n",
       " -0.022758518673555272,\n",
       " -0.019909005008141634,\n",
       " -0.012612119547118716,\n",
       " 0.002088175250229085,\n",
       " -0.0011874339165549586,\n",
       " 0.011968264688323238,\n",
       " -0.010907737541637097,\n",
       " -0.0059277463693439,\n",
       " -0.012452333734126242,\n",
       " 0.005603463136578668,\n",
       " 0.0033131998166862076,\n",
       " -0.0009211242282045617,\n",
       " -0.01202623823275939,\n",
       " -0.000867862290532706,\n",
       " 0.00818666711365168,\n",
       " 0.0005169480889302136,\n",
       " -0.009016938754299986,\n",
       " 0.004325176632431038,\n",
       " 0.0021414371879284744,\n",
       " -0.010801213666271181,\n",
       " -0.0022260417011521483,\n",
       " 0.003606140473885411,\n",
       " -0.003690744987131289,\n",
       " 0.011835109844127167,\n",
       " 0.0006501029331138497,\n",
       " 0.02158204443803058,\n",
       " 0.017480875237337656,\n",
       " -0.006273948964201637,\n",
       " -0.0003618738826656198,\n",
       " -0.00020208806964738812,\n",
       " 0.0003039003382445671,\n",
       " 0.0011294603721383467,\n",
       " 0.011622062093467278,\n",
       " 0.003552878536203785,\n",
       " -0.0012140648854064295,\n",
       " 0.004058866944072648,\n",
       " 0.00573661798075964,\n",
       " -0.006140794120015336,\n",
       " -0.007046247060429778,\n",
       " -0.021586756044779776,\n",
       " 0.0007832577772761695,\n",
       " -0.005102186335427916,\n",
       " 0.012128050501357457,\n",
       " 0.009251905867070143,\n",
       " -0.003770637893635964,\n",
       " 0.0037392953180717114,\n",
       " -0.002252672669986744,\n",
       " -0.002705399140199738,\n",
       " 0.000836519714956907,\n",
       " -0.011653404669034195,\n",
       " 0.004538224383122902,\n",
       " 0.0039257120999183215,\n",
       " -0.009389772318003864,\n",
       " -0.0035842211117822487,\n",
       " -0.015035537711172609,\n",
       " 0.005736617980746317,\n",
       " 0.006349130263945568,\n",
       " 0.001928389437243716,\n",
       " 0.006642070921175858,\n",
       " 0.01268730084687597,\n",
       " -0.0020662558881383575,\n",
       " -0.013038215048495339,\n",
       " 0.011142704654417024,\n",
       " 0.009411691680084822,\n",
       " 0.0015022939358599885,\n",
       " -0.008324533564554315,\n",
       " -0.01309147698618851,\n",
       " -0.007871807094353755,\n",
       " -0.012399071796449945,\n",
       " -0.0004950287268288278,\n",
       " -0.008084854845050948,\n",
       " -0.0018798391062988529,\n",
       " -0.007285925779954461,\n",
       " -0.00917672456731733,\n",
       " 0.0007033648707794882,\n",
       " 0.005257260541715603,\n",
       " 0.0025142707516261353,\n",
       " 0.008772548428031435,\n",
       " 0.003978974037577743,\n",
       " -0.005661436680960641,\n",
       " -0.002279303638828445,\n",
       " 0.005763248949578248,\n",
       " -0.010827844635121764,\n",
       " -0.010614796884440558,\n",
       " 0.001475662967011182,\n",
       " -0.005874484431684479,\n",
       " 0.0015555558735149688,\n",
       " 0.002860473346471437,\n",
       " -0.002066255888141022,\n",
       " 0.010929656903721607,\n",
       " 0.004298545663607989,\n",
       " 0.0008897816526234337,\n",
       " 0.0035528785362108906,\n",
       " 0.012926979566405983,\n",
       " -0.010455011071427656,\n",
       " -0.013490941518713662,\n",
       " -0.0024923513895256377,\n",
       " 0.007946988394126997,\n",
       " 0.019105364336323483,\n",
       " -0.003930423706654196,\n",
       " -0.0023858275141828145,\n",
       " -0.0044896740521815914,\n",
       " -0.006966354153942866,\n",
       " 0.0013425081228390923,\n",
       " -0.013464310549884395,\n",
       " -0.0024390894518520057,\n",
       " -0.0021461487946581315,\n",
       " -0.002518982358354016,\n",
       " -0.0020129939504798244,\n",
       " -0.0027320301090352217,\n",
       " -0.012878429235477107,\n",
       " -0.005954377338177608,\n",
       " -0.018976921098889044,\n",
       " -0.016633395841336274,\n",
       " 0.0011294603721454521,\n",
       " 0.011515538218119126,\n",
       " 0.010503561402352979,\n",
       " 0.0025941636581405803,\n",
       " -0.007126139966944223,\n",
       " 0.019824400494870886,\n",
       " 0.0066953328588130745,\n",
       " -0.004303257270347416,\n",
       " 0.0073078451420602875,\n",
       " 0.011009549810228059,\n",
       " -0.002332565576477208,\n",
       " -0.009043569723132805,\n",
       " -0.0008678622905389233,\n",
       " -0.004196733395009922,\n",
       " 0.00741436901739867,\n",
       " 0.01175521693761894,\n",
       " -0.008457688408746833,\n",
       " 0.01782707783219184,\n",
       " -0.005475019899121136,\n",
       " 0.003526247567352314,\n",
       " -0.005981008307002433,\n",
       " 0.005949665731428411,\n",
       " 0.016122695826692457,\n",
       " 0.005230629572858803,\n",
       " 0.00043705518243353225,\n",
       " 0.006375761232807697,\n",
       " 0.0025142707516074836,\n",
       " -0.012052869201564675,\n",
       " -0.010588165915607739,\n",
       " -0.004303257270356298,\n",
       " 0.00602955863792598,\n",
       " 0.00400560500640168,\n",
       " -0.006433734777221645,\n",
       " 0.005257260541701392,\n",
       " 0.003978974037582184,\n",
       " -0.007898438063190127,\n",
       " -0.011200678198830083,\n",
       " -0.010002284601221767,\n",
       " 0.005656725074246971,\n",
       " -0.01668665777899392,\n",
       " 0.012420991158519357,\n",
       " 0.0007299958395989847,\n",
       " -0.001001017134725224,\n",
       " -0.013570834425219225,\n",
       " 0.009811156212617078,\n",
       " -0.005475019899149558,\n",
       " 0.010263882682818526,\n",
       " 0.0020349133125625585,\n",
       " 0.013086765379425103,\n",
       " -0.0006814455086807669,\n",
       " -0.0028651849532161933,\n",
       " 0.013725908631481154,\n",
       " 0.008932334241048778,\n",
       " -0.007152770935783259,\n",
       " -0.003637483049467427,\n",
       " -0.0037173759559605557,\n",
       " 0.003739295318050395,\n",
       " 0.015856386138338507,\n",
       " -0.006087532182342592,\n",
       " -0.0014537436049213426,\n",
       " 0.012873717628763437,\n",
       " 0.013672646693809298,\n",
       " -0.0078185451566668,\n",
       " 0.0015821868423557817,\n",
       " 0.004644748258470166,\n",
       " 0.0005968409954455467,\n",
       " 0.005310522479387458,\n",
       " 0.004724641164981058,\n",
       " 0.01321992022360341,\n",
       " 0.0022745920320677016,\n",
       " 0.00813340517597716,\n",
       " -0.007658759343668997,\n",
       " -0.0051820792419441375,\n",
       " 0.014924302229107234,\n",
       " 0.0011028294033090802,\n",
       " 0.013992218319835104,\n",
       " 0.0026207946269476423,\n",
       " -0.0072592948111314115,\n",
       " -0.0028385539843993612,\n",
       " -0.0040103166131721935,\n",
       " 0.009704632337276031,\n",
       " 9.085258755892056e-05,\n",
       " 0.0016620797488613448,\n",
       " 0.0026207946269574123,\n",
       " -0.00046839775800044947,\n",
       " -0.0076853903125027045,\n",
       " 0.001342508122842645,\n",
       " 0.0010229364967999643,\n",
       " 0.020490174715799725,\n",
       " 0.005789879918425278,\n",
       " 0.002833842377643947,\n",
       " -0.0012939577919093281,\n",
       " 0.014152004132848894,\n",
       " 9.085258755447967e-05,\n",
       " 0.00925190586707103,\n",
       " 0.004165390819417247,\n",
       " -0.00646036574606601,\n",
       " 0.003552878536217108,\n",
       " -0.0015868984490952087,\n",
       " 0.0038458191934136465,\n",
       " -0.0024657204206821604,\n",
       " 0.016442267452752013,\n",
       " -0.0012406958542392488,\n",
       " -0.0026787681713615896,\n",
       " 0.012128050501337917,\n",
       " -0.007206032873460444,\n",
       " -0.006300579933045114,\n",
       " -0.007925069032029164,\n",
       " 0.0016887107177145921,\n",
       " -0.006486996714905935,\n",
       " -0.01008217750772289,\n",
       " -0.008990307785450291,\n",
       " -0.007339187717654738,\n",
       " -0.0008944932593797361,\n",
       " 0.0023012230009138435,\n",
       " -0.010694689790946121,\n",
       " 0.009811156212617078,\n",
       " 0.021395627656201732,\n",
       " 0.0031800449724892488,\n",
       " -0.0003618738826549617,\n",
       " 0.007467630955069637,\n",
       " -0.00028198097616183304,\n",
       " 0.0054170463547249526,\n",
       " -0.0033179114234203055,\n",
       " -0.002625506233694175,\n",
       " -0.00028198097616094486,\n",
       " 0.0064290231704617895,\n",
       " 0.007254583204375997,\n",
       " 0.0044583314766359905,\n",
       " -0.000468397758003114,\n",
       " -0.016287193246469656,\n",
       " 0.006988273516024712,\n",
       " 0.005044212791009528,\n",
       " -0.0005216596956767461,\n",
       " -0.007712021281330195,\n",
       " 0.0065355470458179354,\n",
       " 0.0034463546608787254,\n",
       " 0.003499616598540811,\n",
       " 0.00456485535196105,\n",
       " 0.01159543112462913,\n",
       " 0.014045480257537157,\n",
       " -0.0009211242282187726,\n",
       " -0.004276626301527919,\n",
       " 0.007361107079717932,\n",
       " -0.0004683977579960086,\n",
       " 0.008958965209872716,\n",
       " -0.026193913653389522,\n",
       " 0.0031267830348307157,\n",
       " 0.003073521097169518,\n",
       " 0.0075475238615849705,\n",
       " -0.00496903149124428,\n",
       " 0.007281214173221251,\n",
       " -0.005581543774467512,\n",
       " -0.0014803745737461682,\n",
       " 0.0035528785362055615,\n",
       " -0.005767960556316787,\n",
       " -0.010561534946771367,\n",
       " 0.003100152066000561,\n",
       " -0.012478964702973272,\n",
       " 6.422161871810772e-05,\n",
       " 0.0013691390916772406,\n",
       " -0.0022260417011521483,\n",
       " 0.015510183543484324,\n",
       " -0.003850530800129981,\n",
       " -0.0033711733610930494,\n",
       " -0.007738652250187883,\n",
       " -0.00888378391010658,\n",
       " -0.01586109774508504,\n",
       " 0.0014756629670218402,\n",
       " -1.5671287786567234e-05,\n",
       " 0.011409014342762092,\n",
       " 0.004937688915672034,\n",
       " -0.0013738506984113386,\n",
       " 0.0011560913409827123,\n",
       " 0.01678847004759909,\n",
       " -0.019349754662592922,\n",
       " -0.0263536994664042,\n",
       " -0.0017200532932806212,\n",
       " 0.004245283725941462,\n",
       " -0.012212655014562479,\n",
       " -0.011600142731363228,\n",
       " 0.0025941636581370275,\n",
       " -0.009895760725863845,\n",
       " 0.007467630955081184,\n",
       " -0.00619405605769785,\n",
       " -4.230225662027465e-05,\n",
       " -0.0058212224939833135,\n",
       " 0.01684173198526473,\n",
       " -0.0032646494857431207,\n",
       " 0.0005702100265940757,\n",
       " -0.01160014273134724,\n",
       " -0.018604087535170954,\n",
       " -0.012505595671792769,\n",
       " -0.007419080624157637,\n",
       " 0.0037925572557204745,\n",
       " -0.011280571105340975,\n",
       " 0.002674056564624827,\n",
       " -0.0008412313217016631,\n",
       " -0.001214064885398436,\n",
       " 0.0009696745591405431,\n",
       " 0.010077465900969251,\n",
       " 0.01061008527768692,\n",
       " 0.004857796009163806,\n",
       " 0.0070415354536841335,\n",
       " 0.014018849288684798,\n",
       " -0.009895760725887826,\n",
       " 0.007707309674593432,\n",
       " -0.007285925779960678,\n",
       " -0.0017733152309302724,\n",
       " -0.007099508998117621,\n",
       " 0.01638900551507927,\n",
       " 0.0038724501622358076,\n",
       " 0.00469801019615268,\n",
       " 0.013113396348266804,\n",
       " -0.008723998097102559,\n",
       " 0.013166658285917343,\n",
       " -0.0016135294179289161,\n",
       " -0.0031314946415790246,\n",
       " -0.0021195178258022196,\n",
       " -0.0015336365114304584,\n",
       " 0.00195502040604989,\n",
       " -0.007578866437166987,\n",
       " -0.014715966085125487,\n",
       " 0.013832432506844405,\n",
       " -0.0027053991402068434,\n",
       " 0.0007299958396114192,\n",
       " 0.010450299464670465,\n",
       " -0.003770637893645734,\n",
       " -0.008537581315237297,\n",
       " -0.02129381538761521,\n",
       " 0.009837787181452562,\n",
       " 0.0021148062190636807,\n",
       " -0.011253940136502827,\n",
       " -0.007791914187857074,\n",
       " -0.004303257270344751,\n",
       " 0.0032865688478453947,\n",
       " -0.011972976295064441,\n",
       " 0.02341958128771182,\n",
       " -0.011600142731359675,\n",
       " -0.00654025865257335,\n",
       " 0.0033930927231953234,\n",
       " 0.01066334721536677,\n",
       " -0.008644105190592555,\n",
       " 0.0006234719642677078,\n",
       " 0.019052102398666726,\n",
       " 0.0058431418560909165,\n",
       " -0.00917672456729779,\n",
       " 0.006002927669104707,\n",
       " -0.00257224429602676,\n",
       " -0.006433734777221645,\n",
       " -0.036393574717506816,\n",
       " -0.005421757961466156,\n",
       " -0.007179401904624072,\n",
       " 0.0005169480889399836,\n",
       " 0.0026474255957857906,\n",
       " 0.008639393583863786,\n",
       " 0.01617595776437941,\n",
       " 0.0034996165985310412,\n",
       " 0.017693922988018862,\n",
       " -0.01567468096323843,\n",
       " 0.006695332858824621,\n",
       " -0.004542935989882757,\n",
       " 0.005310522479375024,\n",
       " -0.002039624919309091,\n",
       " -0.0051288173042634,\n",
       " 0.007254583204374221,\n",
       " -0.0034776972364207737,\n",
       " -0.008271271626886012,\n",
       " -0.008164747751534307,\n",
       " 0.0006767339019395635,\n",
       " -0.006886461247437303,\n",
       " -0.007578866437139453,\n",
       " -0.0011874339165593994,\n",
       " 0.006695332858852154,\n",
       " 0.0029137352841610564,\n",
       " -0.016473610028312713,\n",
       " 0.02009071018322839,\n",
       " -0.019589433382106947,\n",
       " -0.004463043083386076,\n",
       " -0.006433734777227862,\n",
       " -0.001080910041220129,\n",
       " -0.01658013390364843,\n",
       " -0.003291280454596368,\n",
       " -0.01178655951321339,\n",
       " -0.004489674052209125,\n",
       " 0.008426345833159488,\n",
       " 0.016894993922936585,\n",
       " -0.004383150176848538,\n",
       " 0.010077465900979021,\n",
       " -0.01109415432349703,\n",
       " 0.0013957700605082834,\n",
       " -0.0126387505159542,\n",
       " -0.019083444974231867,\n",
       " -0.017245908124555953,\n",
       " -0.012452333734105814,\n",
       " 0.01617595776439007,\n",
       " 0.006615439952319058,\n",
       " -0.00837779550224127,\n",
       " -0.009789236850530791,\n",
       " -0.012851798266636294,\n",
       " -0.0010010171347234476,\n",
       " -0.0022526726699947375,\n",
       " 0.0027805804399632095,\n",
       " 0.007680678705764166,\n",
       " -0.0015070055425878692,\n",
       " -0.016420348090643522,\n",
       " 0.00019737646290440836,\n",
       " 0.007041535453701009,\n",
       " -0.00936314134915861,\n",
       " 0.0012626152163299764,\n",
       " -0.00792506903203627,\n",
       " -0.009602820068680629,\n",
       " 0.007840464518770851,\n",
       " -0.002385827514175709,\n",
       " 0.002594163658120152,\n",
       " -0.012212655014587348,\n",
       " -0.012718643422468645,\n",
       " 0.002327853969758209,\n",
       " -0.0004151358203223765,\n",
       " -0.0011341719788822147,\n",
       " -0.008377795502237717,\n",
       " -0.006486996714884619,\n",
       " -0.013943667988921327,\n",
       " 0.00666870188999269,\n",
       " 0.008000250331789083,\n",
       " -0.01407682283309164,\n",
       " 0.012607407940388171,\n",
       " 0.009438322648922082,\n",
       " -0.025128674899948855,\n",
       " 0.006961642547191893,\n",
       " 0.004724641164984611,\n",
       " -0.015461633212542125,\n",
       " -0.005581543774464848,\n",
       " 0.008266560020142144,\n",
       " -0.007765283219015373,\n",
       " -0.014209977677274388,\n",
       " -0.007712021281334636,\n",
       " -0.007472342561826828,\n",
       " -0.013757251207066723,\n",
       " -0.0018798391063068465,\n",
       " -0.010827844635126205,\n",
       " 0.0012093532786616734,\n",
       " 0.0006767339019315699,\n",
       " -0.0010276481035544904,\n",
       " 0.010423668495852745,\n",
       " 0.018546113990740132,\n",
       " -0.0041434714573558296,\n",
       " -0.007392449655297284,\n",
       " 0.005496939261215417,\n",
       " -0.00957618909984248,\n",
       " -0.016580133903644878,\n",
       " 0.00808014323829731,\n",
       " -0.0015070055426029683,\n",
       " 0.008319821957812223,\n",
       " 0.003126783034836933,\n",
       " 0.004990950853358989,\n",
       " -0.00297170882855724,\n",
       " 0.00014411452524498714,\n",
       " -0.005954377338158956,\n",
       " -0.005182079241930815,\n",
       " 0.0016887107176959404,\n",
       " 0.008506238739659722,\n",
       " 0.005550201198898819,\n",
       " 0.0009164126214571411,\n",
       " -0.006140794120010007,\n",
       " 0.015297135792794236,\n",
       " -0.0017999461997728616,\n",
       " 0.004698010196147351,\n",
       " -0.011813190482056868,\n",
       " 0.0015289249046785969,\n",
       " -0.007791914187841975,\n",
       " -0.0008146003528786139,\n",
       " 0.014045480257517617,\n",
       " 0.013592753787308176,\n",
       " 0.00509747472869293,\n",
       " 0.0029403662530027574,\n",
       " -0.007712021281328418,\n",
       " 0.009145381991709556,\n",
       " 0.001741972655382007,\n",
       " -0.012186024045747423,\n",
       " 0.005949665731445286,\n",
       " -0.00901693875427867,\n",
       " 0.007201321266706806,\n",
       " 0.0006767339019511098,\n",
       " -0.0006548145398710403,\n",
       " 0.006455654139310596,\n",
       " -0.010082177507725554,\n",
       " 0.0008897816526136637,\n",
       " -0.008537581315247955,\n",
       " -0.009656082006356925,\n",
       " 0.011222597560923475,\n",
       " -0.01327789376801114,\n",
       " -0.011866452419713625,\n",
       " -0.009256617473813122,\n",
       " 1.0959681050692893e-05,\n",
       " 0.004538224383122014,\n",
       " 0.006508916077000215,\n",
       " -0.01743232490640878,\n",
       " -0.001347219729576743,\n",
       " -0.01812473009613491,\n",
       " 0.010024203963308942,\n",
       " 0.010370406558177336,\n",
       " 0.004618117289626689,\n",
       " -0.00030861194498399414,\n",
       " -0.009709343944033222,\n",
       " -0.01958943338210606,\n",
       " 6.42216187438649e-05,\n",
       " 0.006508916076978899,\n",
       " 0.007973619362950046,\n",
       " -0.0018532081374491582,\n",
       " -0.011680035637867014,\n",
       " 0.015803124200689744,\n",
       " -0.003184756579268644,\n",
       " -0.007419080624156749,\n",
       " 0.010716609153030632,\n",
       " 0.0031800449725070123,\n",
       " -0.0010809100412094708,\n",
       " 0.006508916076964688,\n",
       " 0.004884426978019718,\n",
       " -0.0025988752648657965,\n",
       " 0.0007566268084486794,\n",
       " 0.010583454308847884,\n",
       " 0.002141437187900941,\n",
       " -0.0033179114234487272,\n",
       " 0.011968264688329455,\n",
       " 0.021981508970587704,\n",
       " 0.0012626152163095483,\n",
       " -0.007419080624153196,\n",
       " -0.003238018516932506,\n",
       " 0.017400982330837422,\n",
       " -0.011786559513215167,\n",
       " -0.003584221111789354,\n",
       " -0.007552235468335944,\n",
       " 0.01114270465440459,\n",
       " -0.01570131193207036,\n",
       " 0.018759161741447095,\n",
       " 0.018679268834948637,\n",
       " -0.005794591525158488,\n",
       " -0.008963676816605926,\n",
       " 0.017454244268496844,\n",
       " 0.005177367635198493,\n",
       " 0.0008897816526109992,\n",
       " 0.00858613164618216,\n",
       " -0.008830521972458705,\n",
       " -0.004196733395023244,\n",
       " -0.013091476986171635,\n",
       " -0.007232663842306586,\n",
       " -0.00219941073234331,\n",
       " 0.011595431124603373,\n",
       " 0.002194699125609212,\n",
       " -0.016287193246466103,\n",
       " -0.002439089451852894,\n",
       " 0.0007832577772788341,\n",
       " 0.017906970738711614,\n",
       " 0.0133797060366172,\n",
       " -0.010881106572808719,\n",
       " 0.006615439952339486,\n",
       " 0.012261205345521553,\n",
       " -0.0020129939504665018,\n",
       " -0.006540258652559139,\n",
       " 0.010077465900997673,\n",
       " -0.009602820068702833,\n",
       " 0.00041042421356962677,\n",
       " 0.004751272133830753,\n",
       " -0.011493618856021293,\n",
       " 0.015616707418834253,\n",
       " -0.007179401904620519,\n",
       " -0.016553502934838704,\n",
       " 0.009092120054059016,\n",
       " -0.0007879693840315838,\n",
       " -0.0027852920467221765,\n",
       " -0.005261972148423055,\n",
       " -0.012159393076903058,\n",
       " -0.001027648103552714,\n",
       " -0.015115430617696823,\n",
       " -0.005235341179610664,\n",
       " -0.0031847565792473276,\n",
       " -0.00800496193851874,\n",
       " -0.015301847399533663,\n",
       " -0.011786559513202732,\n",
       " 0.0017419726553757897,\n",
       " -0.018737242379375907,\n",
       " -0.009949022663552576,\n",
       " -0.01317136989267187,\n",
       " 0.01638900551507927,\n",
       " 0.0022479610632508695,\n",
       " 0.008506238739658833,\n",
       " -0.003850530800134422,\n",
       " 0.006322499295132289,\n",
       " -0.013411048612216092,\n",
       " 0.012634038909210332,\n",
       " -0.009469665224504986,\n",
       " 0.001635448780030302,\n",
       " 0.003952343068745812,\n",
       " 0.0038724501622251495,\n",
       " -0.004223364363840076,\n",
       " -0.0033445423922726647,\n",
       " 0.001662079748877332,\n",
       " -0.00041513582032060015,\n",
       " -0.008937045847806857,\n",
       " -0.003717375955977431,\n",
       " 0.0008897816526323155,\n",
       " -0.006167425088858813,\n",
       " -0.004862507615897016,\n",
       " -0.014502918334465598,\n",
       " -0.009922391694705546,\n",
       " -0.011360464011846538,\n",
       " -0.002572244296017878,\n",
       " 0.01274056278456559,\n",
       " -0.00046839775798535044,\n",
       " 0.0035262475673931704,\n",
       " -0.005341865054962369,\n",
       " 0.00397897403757419,\n",
       " -0.006087532182351474,\n",
       " -0.004942400522410573,\n",
       " -0.00012219516313471956,\n",
       " -0.005661436680989063,\n",
       " -0.002732030109036998,\n",
       " 0.0070681664225311636,\n",
       " 0.016122695826706668,\n",
       " -0.01301158407966252,\n",
       " 0.007920357425280855,\n",
       " 0.013965587350997843,\n",
       " 0.013406337005482882,\n",
       " 0.00547030829240569,\n",
       " 0.00025063840055228326,\n",
       " 0.0013957700605038426,\n",
       " 0.0003039003382356853,\n",
       " -0.004676090834050406,\n",
       " 0.012048157594827913,\n",
       " 0.012900348597583822,\n",
       " 0.009198643929403616,\n",
       " 0.0012359842474971572,\n",
       " 0.005257260541706721,\n",
       " -0.008244640658056746,\n",
       " 0.0194249359623635,\n",
       " 0.004911057946848096,\n",
       " 0.0074942619239166675,\n",
       " -0.007871807094352867,\n",
       " -0.0006015526021769801,\n",
       " -0.004090209519643118,\n",
       " 0.007547523861573424,\n",
       " -0.00835116453339424,\n",
       " -0.01303821504849001,\n",
       " -0.003903792737812495,\n",
       " 0.010104096869823387,\n",
       " -0.003957054675483462,\n",
       " 0.01527050482397474,\n",
       " -0.0011341719788973137,\n",
       " -0.0033445423922557893,\n",
       " 0.002407746876262884,\n",
       " 0.013938956382182788,\n",
       " -0.010055546538882965,\n",
       " -0.006939723185083402,\n",
       " -0.02235905414102568,\n",
       " 0.01990429340139599,\n",
       " -0.00851095034640803,\n",
       " 0.015403659668132619,\n",
       " 0.010476930433521048,\n",
       " 0.01969124565069258,\n",
       " -0.006566889621390182,\n",
       " -0.021932958639673927,\n",
       " -0.015381740306048108,\n",
       " -0.006433734777216316,\n",
       " 0.010689978184207583,\n",
       " 9.085258755536785e-05,\n",
       " -0.002439089451849341,\n",
       " -0.0069929851227552575,\n",
       " 0.0039523430687467,\n",
       " -0.0010809100412130235,\n",
       " 0.0091187510228945,\n",
       " 0.00784046451876197,\n",
       " 0.0027273185022789193,\n",
       " -0.008670736159418269,\n",
       " -0.0053684960237756485,\n",
       " 0.007654047736928682,\n",
       " 0.014125373164019628,\n",
       " 0.005843141856093581,\n",
       " -0.014769228022831093,\n",
       " -0.0010276481035464968,\n",
       " -0.006886461247432862,\n",
       " -0.006060901213527536,\n",
       " 0.015430290636977873,\n",
       " -0.01666002681015666,\n",
       " -0.009842498788187548,\n",
       " -0.006486996714896165,\n",
       " -0.00017545710079414079,\n",
       " 0.008106774207145229,\n",
       " -0.01034848719608128,\n",
       " -0.0054217579614341815,\n",
       " 0.008266560020136815,\n",
       " -0.00012219516311606782,\n",
       " 0.010423668495847416,\n",
       " -0.010854475603972347,\n",
       " -0.0035309591741228274,\n",
       " 0.011888371781806129,\n",
       " 0.005896403793753002,\n",
       " 0.006162713482096294,\n",
       " -0.005315234086118892,\n",
       " 0.007920357425284408,\n",
       " 0.0036327714427111246,\n",
       " 0.006748594796497365,\n",
       " -0.013783882175903983,\n",
       " -0.0002553500073130266,\n",
       " 0.015084088042116583,\n",
       " -0.004516305021065925,\n",
       " 0.006082820575607606,\n",
       " ...]"
      ]
     },
     "execution_count": 92,
     "metadata": {},
     "output_type": "execute_result"
    }
   ],
   "source": [
    "difference"
   ]
  },
  {
   "cell_type": "code",
   "execution_count": 96,
   "metadata": {
    "colab": {},
    "colab_type": "code",
    "id": "VlzpYTkYFcv_"
   },
   "outputs": [
    {
     "data": {
      "image/png": "[encoded data removed]",
      "text/plain": [
       "<Figure size 432x288 with 1 Axes>"
      ]
     },
     "metadata": {
      "needs_background": "light"
     },
     "output_type": "display_data"
    }
   ],
   "source": [
    "# Make a variable called 'histo', and assign to it the result of plotting a histogram of the difference list. \n",
    "histo = plt.hist(difference)\n",
    "_ = plt.xlabel('Mean Difference Between Google and Apple Ratings')\n",
    "_ = plt.ylabel('Count')"
   ]
  },
  {
   "cell_type": "code",
   "execution_count": 98,
   "metadata": {
    "colab": {},
    "colab_type": "code",
    "id": "KhqgDFd3FcwB"
   },
   "outputs": [
    {
     "name": "stdout",
     "output_type": "stream",
     "text": [
      "0.14206054745123442\n"
     ]
    }
   ],
   "source": [
    "# Now make a variable called obs_difference, and assign it the result of the mean of\n",
    "# our 'apple' variable and the mean of our 'google variable'\n",
    "obs_difference = df['Rating'].loc[df['Platform']=='google'].mean() - df['Rating'].loc[df['Platform']=='apple'].mean()\n",
    "\n",
    "# Make this difference absolute with the built-in abs() function. \n",
    "abs_obs_diff = abs(obs_difference)\n",
    "\n",
    "# Print out this value; it should be 0.1420605474512291. \n",
    "print(abs_obs_diff)"
   ]
  },
  {
   "cell_type": "markdown",
   "metadata": {
    "colab_type": "text",
    "id": "QUNuuSgDFcwE"
   },
   "source": [
    "## Stage 4 -  Evaluating and concluding\n",
    "### 4a. What is our conclusion?"
   ]
  },
  {
   "cell_type": "code",
   "execution_count": 104,
   "metadata": {
    "colab": {},
    "colab_type": "code",
    "id": "XMQHnqx1FcwF"
   },
   "outputs": [
    {
     "name": "stdout",
     "output_type": "stream",
     "text": [
      "0.0\n"
     ]
    }
   ],
   "source": [
    "'''\n",
    "What do we know? \n",
    "Recall: The p-value of our observed data is just the proportion of the data given the null that's at least as extreme\n",
    "as that observed data.\n",
    "As a result, we're going to count how many of the differences in our difference list are at least as extreme as our\n",
    "observed difference.\n",
    "If less than or equal to 5% of them are, then we will reject the Null. \n",
    "'''\n",
    "p = np.sum([i>=abs_obs_diff for i in difference])/len(difference)\n",
    "print(p)"
   ]
  },
  {
   "cell_type": "markdown",
   "metadata": {
    "colab_type": "text",
    "id": "4RTofY9wFcwI"
   },
   "source": [
    "### 4b. What is our decision?\n",
    "So actually, zero differences are at least as extreme as our observed difference!\n",
    "\n",
    "So the p-value of our observed data is 0. \n",
    "\n",
    "It doesn't matter which significance level we pick; our observed data is statistically significant, and we reject the Null.\n",
    "\n",
    "We conclude that platform does impact on ratings. Specifically, we should advise our client to integrate **only Google Play** into their operating system interface. "
   ]
  },
  {
   "cell_type": "markdown",
   "metadata": {
    "colab_type": "text",
    "id": "Cu_eh7fTFcwJ"
   },
   "source": [
    "### 4c. Other statistical tests, and next steps\n",
    "The test we used here is the Permutation test. This was appropriate because our data were not normally distributed! \n",
    "\n",
    "As we've seen in Professor Spiegelhalter's book, there are actually many different statistical tests, all with different assumptions. How many of these different statistical tests can you remember? How much do you remember about what the appropriate conditions are under which to use them? \n",
    "\n",
    "Make a note of your answers to these questions, and discuss them with your mentor at your next call. \n"
   ]
  }
 ],
 "metadata": {
  "colab": {
   "collapsed_sections": [
    "5fbRq2MZFcvq",
    "4RTofY9wFcwI",
    "Cu_eh7fTFcwJ"
   ],
   "name": "Springboard Apps project - Tier 3 - Complete.ipynb",
   "provenance": []
  },
  "kernelspec": {
   "display_name": "Python 3",
   "language": "python",
   "name": "python3"
  },
  "language_info": {
   "codemirror_mode": {
    "name": "ipython",
    "version": 3
   },
   "file_extension": ".py",
   "mimetype": "text/x-python",
   "name": "python",
   "nbconvert_exporter": "python",
   "pygments_lexer": "ipython3",
   "version": "3.8.8"
  }
 },
 "nbformat": 4,
 "nbformat_minor": 1
}
